{
 "cells": [
  {
   "cell_type": "markdown",
   "metadata": {},
   "source": [
    "# Prepare Datasets - Gabbar"
   ]
  },
  {
   "cell_type": "code",
   "execution_count": 1,
   "metadata": {
    "collapsed": true
   },
   "outputs": [],
   "source": [
    "import pandas as pd"
   ]
  },
  {
   "cell_type": "code",
   "execution_count": 2,
   "metadata": {
    "collapsed": true
   },
   "outputs": [],
   "source": [
    "pd.set_option('display.precision', 2)\n",
    "pd.set_option('display.max_columns', None)"
   ]
  },
  {
   "cell_type": "code",
   "execution_count": 3,
   "metadata": {
    "collapsed": true
   },
   "outputs": [],
   "source": [
    "path = '../downloads/bag-of-tags/'"
   ]
  },
  {
   "cell_type": "markdown",
   "metadata": {},
   "source": [
    "## Load in all attributes."
   ]
  },
  {
   "cell_type": "code",
   "execution_count": 4,
   "metadata": {},
   "outputs": [
    {
     "name": "stdout",
     "output_type": "stream",
     "text": [
      "(2711, 14)\n"
     ]
    },
    {
     "data": {
      "text/html": [
       "<div>\n",
       "<table border=\"1\" class=\"dataframe\">\n",
       "  <thead>\n",
       "    <tr style=\"text-align: right;\">\n",
       "      <th></th>\n",
       "      <th>changeset_id</th>\n",
       "      <th>changeset_harmful</th>\n",
       "      <th>created</th>\n",
       "      <th>modified</th>\n",
       "      <th>deleted</th>\n",
       "      <th>type_node</th>\n",
       "      <th>type_way</th>\n",
       "      <th>type_relation</th>\n",
       "      <th>line_length</th>\n",
       "      <th>kinks</th>\n",
       "      <th>old_user_mapping_days</th>\n",
       "      <th>new_user_mapping_days</th>\n",
       "      <th>old_tags</th>\n",
       "      <th>new_tags</th>\n",
       "    </tr>\n",
       "  </thead>\n",
       "  <tbody>\n",
       "    <tr>\n",
       "      <th>0</th>\n",
       "      <td>49685016</td>\n",
       "      <td>False</td>\n",
       "      <td>0</td>\n",
       "      <td>1</td>\n",
       "      <td>0</td>\n",
       "      <td>0</td>\n",
       "      <td>1</td>\n",
       "      <td>0</td>\n",
       "      <td>0.21</td>\n",
       "      <td>0</td>\n",
       "      <td>1009</td>\n",
       "      <td>4</td>\n",
       "      <td>NaN</td>\n",
       "      <td>NaN</td>\n",
       "    </tr>\n",
       "    <tr>\n",
       "      <th>1</th>\n",
       "      <td>49684098</td>\n",
       "      <td>False</td>\n",
       "      <td>0</td>\n",
       "      <td>1</td>\n",
       "      <td>0</td>\n",
       "      <td>0</td>\n",
       "      <td>1</td>\n",
       "      <td>0</td>\n",
       "      <td>0.26</td>\n",
       "      <td>0</td>\n",
       "      <td>11</td>\n",
       "      <td>11</td>\n",
       "      <td>NaN</td>\n",
       "      <td>{lit=yes} {surface=asphalt}</td>\n",
       "    </tr>\n",
       "    <tr>\n",
       "      <th>2</th>\n",
       "      <td>49684091</td>\n",
       "      <td>False</td>\n",
       "      <td>0</td>\n",
       "      <td>1</td>\n",
       "      <td>0</td>\n",
       "      <td>0</td>\n",
       "      <td>1</td>\n",
       "      <td>0</td>\n",
       "      <td>0.61</td>\n",
       "      <td>0</td>\n",
       "      <td>299</td>\n",
       "      <td>118</td>\n",
       "      <td>NaN</td>\n",
       "      <td>{destination=Camp Petersville} {destination:st...</td>\n",
       "    </tr>\n",
       "    <tr>\n",
       "      <th>3</th>\n",
       "      <td>49670591</td>\n",
       "      <td>False</td>\n",
       "      <td>0</td>\n",
       "      <td>1</td>\n",
       "      <td>0</td>\n",
       "      <td>0</td>\n",
       "      <td>1</td>\n",
       "      <td>0</td>\n",
       "      <td>0.29</td>\n",
       "      <td>0</td>\n",
       "      <td>159</td>\n",
       "      <td>14</td>\n",
       "      <td>NaN</td>\n",
       "      <td>{surface=asphalt}</td>\n",
       "    </tr>\n",
       "    <tr>\n",
       "      <th>4</th>\n",
       "      <td>49633151</td>\n",
       "      <td>False</td>\n",
       "      <td>0</td>\n",
       "      <td>1</td>\n",
       "      <td>0</td>\n",
       "      <td>0</td>\n",
       "      <td>1</td>\n",
       "      <td>0</td>\n",
       "      <td>41.34</td>\n",
       "      <td>0</td>\n",
       "      <td>67</td>\n",
       "      <td>67</td>\n",
       "      <td>{highway=unclassified}</td>\n",
       "      <td>{highway=tertiary}</td>\n",
       "    </tr>\n",
       "    <tr>\n",
       "      <th>5</th>\n",
       "      <td>49628848</td>\n",
       "      <td>False</td>\n",
       "      <td>0</td>\n",
       "      <td>1</td>\n",
       "      <td>0</td>\n",
       "      <td>0</td>\n",
       "      <td>1</td>\n",
       "      <td>0</td>\n",
       "      <td>0.64</td>\n",
       "      <td>0</td>\n",
       "      <td>15</td>\n",
       "      <td>15</td>\n",
       "      <td>{leisure=track} {sport=running}</td>\n",
       "      <td>{highway=footway} {lit=no} {surface=gravel} {w...</td>\n",
       "    </tr>\n",
       "    <tr>\n",
       "      <th>6</th>\n",
       "      <td>49626684</td>\n",
       "      <td>False</td>\n",
       "      <td>0</td>\n",
       "      <td>1</td>\n",
       "      <td>0</td>\n",
       "      <td>0</td>\n",
       "      <td>1</td>\n",
       "      <td>0</td>\n",
       "      <td>0.62</td>\n",
       "      <td>0</td>\n",
       "      <td>1978</td>\n",
       "      <td>668</td>\n",
       "      <td>NaN</td>\n",
       "      <td>{highway=primary}</td>\n",
       "    </tr>\n",
       "    <tr>\n",
       "      <th>7</th>\n",
       "      <td>49571022</td>\n",
       "      <td>False</td>\n",
       "      <td>0</td>\n",
       "      <td>1</td>\n",
       "      <td>0</td>\n",
       "      <td>0</td>\n",
       "      <td>1</td>\n",
       "      <td>0</td>\n",
       "      <td>43.91</td>\n",
       "      <td>0</td>\n",
       "      <td>91</td>\n",
       "      <td>649</td>\n",
       "      <td>{highway=track}</td>\n",
       "      <td>{highway=unclassified}</td>\n",
       "    </tr>\n",
       "    <tr>\n",
       "      <th>8</th>\n",
       "      <td>49563062</td>\n",
       "      <td>True</td>\n",
       "      <td>0</td>\n",
       "      <td>1</td>\n",
       "      <td>0</td>\n",
       "      <td>0</td>\n",
       "      <td>1</td>\n",
       "      <td>0</td>\n",
       "      <td>0.61</td>\n",
       "      <td>0</td>\n",
       "      <td>2</td>\n",
       "      <td>6</td>\n",
       "      <td>{highway=residential}</td>\n",
       "      <td>{highway=unclassified}</td>\n",
       "    </tr>\n",
       "    <tr>\n",
       "      <th>9</th>\n",
       "      <td>49542562</td>\n",
       "      <td>False</td>\n",
       "      <td>0</td>\n",
       "      <td>1</td>\n",
       "      <td>0</td>\n",
       "      <td>0</td>\n",
       "      <td>1</td>\n",
       "      <td>0</td>\n",
       "      <td>0.35</td>\n",
       "      <td>8</td>\n",
       "      <td>2</td>\n",
       "      <td>2</td>\n",
       "      <td>{highway=living_street}</td>\n",
       "      <td>{highway=service}</td>\n",
       "    </tr>\n",
       "  </tbody>\n",
       "</table>\n",
       "</div>"
      ],
      "text/plain": [
       "   changeset_id changeset_harmful  created  modified  deleted  type_node  \\\n",
       "0      49685016             False        0         1        0          0   \n",
       "1      49684098             False        0         1        0          0   \n",
       "2      49684091             False        0         1        0          0   \n",
       "3      49670591             False        0         1        0          0   \n",
       "4      49633151             False        0         1        0          0   \n",
       "5      49628848             False        0         1        0          0   \n",
       "6      49626684             False        0         1        0          0   \n",
       "7      49571022             False        0         1        0          0   \n",
       "8      49563062              True        0         1        0          0   \n",
       "9      49542562             False        0         1        0          0   \n",
       "\n",
       "   type_way  type_relation  line_length  kinks  old_user_mapping_days  \\\n",
       "0         1              0         0.21      0                   1009   \n",
       "1         1              0         0.26      0                     11   \n",
       "2         1              0         0.61      0                    299   \n",
       "3         1              0         0.29      0                    159   \n",
       "4         1              0        41.34      0                     67   \n",
       "5         1              0         0.64      0                     15   \n",
       "6         1              0         0.62      0                   1978   \n",
       "7         1              0        43.91      0                     91   \n",
       "8         1              0         0.61      0                      2   \n",
       "9         1              0         0.35      8                      2   \n",
       "\n",
       "   new_user_mapping_days                         old_tags  \\\n",
       "0                      4                              NaN   \n",
       "1                     11                              NaN   \n",
       "2                    118                              NaN   \n",
       "3                     14                              NaN   \n",
       "4                     67           {highway=unclassified}   \n",
       "5                     15  {leisure=track} {sport=running}   \n",
       "6                    668                              NaN   \n",
       "7                    649                  {highway=track}   \n",
       "8                      6            {highway=residential}   \n",
       "9                      2          {highway=living_street}   \n",
       "\n",
       "                                            new_tags  \n",
       "0                                                NaN  \n",
       "1                        {lit=yes} {surface=asphalt}  \n",
       "2  {destination=Camp Petersville} {destination:st...  \n",
       "3                                  {surface=asphalt}  \n",
       "4                                 {highway=tertiary}  \n",
       "5  {highway=footway} {lit=no} {surface=gravel} {w...  \n",
       "6                                  {highway=primary}  \n",
       "7                             {highway=unclassified}  \n",
       "8                             {highway=unclassified}  \n",
       "9                                  {highway=service}  "
      ]
     },
     "execution_count": 4,
     "metadata": {},
     "output_type": "execute_result"
    }
   ],
   "source": [
    "samples = pd.read_csv(path + 'attributes.csv')\n",
    "print(samples.shape)\n",
    "samples.head(10)"
   ]
  },
  {
   "cell_type": "markdown",
   "metadata": {},
   "source": [
    "## Break it out into labelled and unlabelled datasets."
   ]
  },
  {
   "cell_type": "code",
   "execution_count": 5,
   "metadata": {},
   "outputs": [
    {
     "name": "stdout",
     "output_type": "stream",
     "text": [
      "Labelled samples: 2711\n",
      "Unlabelled samples: 0\n"
     ]
    }
   ],
   "source": [
    "labelled = samples[(samples['changeset_harmful'] == 0) | (samples['changeset_harmful'] == 1)]\n",
    "print('Labelled samples: {}'.format(labelled.shape[0]))\n",
    "\n",
    "unlabelled = samples[(samples['changeset_harmful'] != 0) & (samples['changeset_harmful'] != 1)]\n",
    "print('Unlabelled samples: {}'.format(unlabelled.shape[0]))"
   ]
  },
  {
   "cell_type": "markdown",
   "metadata": {},
   "source": [
    "## Randomly sort datasets."
   ]
  },
  {
   "cell_type": "code",
   "execution_count": 6,
   "metadata": {},
   "outputs": [],
   "source": [
    "labelled = labelled.sample(labelled.shape[0])\n",
    "# NOTE: Temporarily using labelled dataset as there are no unlabelled data in the sample.\n",
    "# unlabelled = unlabelled.sample(unlabelled.shape[0])"
   ]
  },
  {
   "cell_type": "markdown",
   "metadata": {},
   "source": [
    "## Break 70% into training and 30% for validation."
   ]
  },
  {
   "cell_type": "code",
   "execution_count": 7,
   "metadata": {},
   "outputs": [
    {
     "name": "stdout",
     "output_type": "stream",
     "text": [
      "Training dataset: 1897\n",
      "Validation dataset: 814\n"
     ]
    }
   ],
   "source": [
    "index = int(labelled.shape[0] * 0.7)\n",
    "\n",
    "training = labelled[:index]\n",
    "print('Training dataset: {}'.format(training.shape[0]))\n",
    "\n",
    "validation = labelled[index:]\n",
    "print('Validation dataset: {}'.format(validation.shape[0]))"
   ]
  },
  {
   "cell_type": "markdown",
   "metadata": {},
   "source": [
    "## Use unlabelled dataset for testing."
   ]
  },
  {
   "cell_type": "code",
   "execution_count": 8,
   "metadata": {},
   "outputs": [],
   "source": [
    "# testing = unlabelled\n",
    "# print('Testing dataset: {}'.format(testing.shape[0]))"
   ]
  },
  {
   "cell_type": "markdown",
   "metadata": {},
   "source": [
    "## Save training, validation and testing datasets as csv's."
   ]
  },
  {
   "cell_type": "code",
   "execution_count": 9,
   "metadata": {
    "collapsed": true
   },
   "outputs": [],
   "source": [
    "training.to_csv(path + 'training.csv', index=False)\n",
    "validation.to_csv(path + 'validation.csv', index=False)\n",
    "# testing.to_csv(path + 'testing.csv', index=False)"
   ]
  }
 ],
 "metadata": {
  "anaconda-cloud": {},
  "kernelspec": {
   "display_name": "Python [conda root]",
   "language": "python",
   "name": "conda-root-py"
  },
  "language_info": {
   "codemirror_mode": {
    "name": "ipython",
    "version": 3
   },
   "file_extension": ".py",
   "mimetype": "text/x-python",
   "name": "python",
   "nbconvert_exporter": "python",
   "pygments_lexer": "ipython3",
   "version": "3.5.2"
  }
 },
 "nbformat": 4,
 "nbformat_minor": 2
}
