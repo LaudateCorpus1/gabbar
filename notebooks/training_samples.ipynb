{
 "cells": [
  {
   "cell_type": "markdown",
   "metadata": {},
   "source": [
    "# Training samples"
   ]
  },
  {
   "cell_type": "code",
   "execution_count": 1,
   "metadata": {
    "collapsed": true
   },
   "outputs": [],
   "source": [
    "%matplotlib inline\n",
    "%config InlineBackend.figure_format = 'retina'\n",
    "\n",
    "import warnings\n",
    "warnings.filterwarnings(\"ignore\")"
   ]
  },
  {
   "cell_type": "code",
   "execution_count": 2,
   "metadata": {
    "collapsed": true
   },
   "outputs": [],
   "source": [
    "import pandas as pd\n",
    "import numpy as np\n",
    "import matplotlib.pyplot as plt"
   ]
  },
  {
   "cell_type": "code",
   "execution_count": 3,
   "metadata": {
    "collapsed": true
   },
   "outputs": [],
   "source": [
    "pd.set_option('display.precision', 2)\n",
    "pd.set_option('display.max_columns', None)"
   ]
  },
  {
   "cell_type": "code",
   "execution_count": 4,
   "metadata": {
    "collapsed": true
   },
   "outputs": [],
   "source": [
    "from sklearn import metrics\n",
    "from sklearn.ensemble import GradientBoostingClassifier\n",
    "from sklearn.preprocessing import StandardScaler"
   ]
  },
  {
   "cell_type": "code",
   "execution_count": 5,
   "metadata": {
    "collapsed": true
   },
   "outputs": [],
   "source": [
    "non_training_attributes = ['changeset_id', 'changeset_harmful']"
   ]
  },
  {
   "cell_type": "code",
   "execution_count": 6,
   "metadata": {
    "collapsed": true
   },
   "outputs": [],
   "source": [
    "path = '../downloads/dataset/'"
   ]
  },
  {
   "cell_type": "code",
   "execution_count": 7,
   "metadata": {
    "collapsed": true
   },
   "outputs": [],
   "source": [
    "training = pd.read_csv(path + 'training.csv')\n",
    "validation = pd.read_csv(path + 'validation.csv')"
   ]
  },
  {
   "cell_type": "code",
   "execution_count": 8,
   "metadata": {},
   "outputs": [
    {
     "data": {
      "text/html": [
       "<div>\n",
       "<table border=\"1\" class=\"dataframe\">\n",
       "  <thead>\n",
       "    <tr style=\"text-align: right;\">\n",
       "      <th></th>\n",
       "      <th>changeset_id</th>\n",
       "      <th>changeset_harmful</th>\n",
       "      <th>changeset_features_created</th>\n",
       "      <th>changeset_features_modified</th>\n",
       "      <th>changeset_features_deleted</th>\n",
       "      <th>changeset_has_imagery_used</th>\n",
       "      <th>changeset_has_source</th>\n",
       "      <th>changeset_comment_number_of_words</th>\n",
       "      <th>changeset_comment_naughty_words_count</th>\n",
       "      <th>changeset_bbox_area</th>\n",
       "      <th>changeset_non_open_data_source</th>\n",
       "      <th>changeset_comment_special_characters_count</th>\n",
       "      <th>user_name_naughty_words_count</th>\n",
       "      <th>user_name_special_characters_count</th>\n",
       "      <th>user_changesets_count</th>\n",
       "      <th>user_features_count</th>\n",
       "      <th>user_mapping_days_count</th>\n",
       "      <th>user_discussions_count</th>\n",
       "      <th>user_changesets_with_discussions_count</th>\n",
       "      <th>old_user_name_naughty_words_count</th>\n",
       "      <th>old_user_name_special_characters_count</th>\n",
       "      <th>old_user_changesets_count</th>\n",
       "      <th>old_user_features_count</th>\n",
       "      <th>old_user_mapping_days_count</th>\n",
       "      <th>old_user_discussions_count</th>\n",
       "      <th>old_user_changesets_with_discussions_count</th>\n",
       "      <th>feature_version</th>\n",
       "      <th>feature_name_naughty_words_count</th>\n",
       "      <th>feature_days_since_last_edit</th>\n",
       "      <th>feature_primary_tags</th>\n",
       "      <th>feature_area</th>\n",
       "      <th>feature_property_tags</th>\n",
       "      <th>feature_name_translations_count</th>\n",
       "      <th>feature_has_website</th>\n",
       "      <th>feature_has_wikidata</th>\n",
       "      <th>feature_has_wikipedia</th>\n",
       "      <th>feature_tags_created_count</th>\n",
       "      <th>feature_tags_modified_count</th>\n",
       "      <th>feature_tags_deleted_count</th>\n",
       "      <th>feature_tags_distance</th>\n",
       "      <th>feature_similar_tags_count</th>\n",
       "      <th>feature_name_naughty_words_count_old</th>\n",
       "      <th>feature_primary_tags_old</th>\n",
       "      <th>feature_area_old</th>\n",
       "      <th>feature_property_tags_old</th>\n",
       "      <th>feature_name_translations_count_old</th>\n",
       "      <th>feature_has_website_old</th>\n",
       "      <th>feature_has_wikidata_old</th>\n",
       "      <th>feature_has_wikipedia_old</th>\n",
       "      <th>feature_similar_tags_count_old</th>\n",
       "      <th>iD</th>\n",
       "      <th>JOSM</th>\n",
       "      <th>MAPS.ME</th>\n",
       "      <th>Potlatch</th>\n",
       "      <th>Redaction</th>\n",
       "      <th>Vespucci</th>\n",
       "      <th>OsmAnd</th>\n",
       "      <th>Merkaartor</th>\n",
       "      <th>GNOME</th>\n",
       "      <th>aerialway</th>\n",
       "      <th>aeroway</th>\n",
       "      <th>amenity</th>\n",
       "      <th>barrier</th>\n",
       "      <th>boundary</th>\n",
       "      <th>building</th>\n",
       "      <th>craft</th>\n",
       "      <th>emergency</th>\n",
       "      <th>geological</th>\n",
       "      <th>highway</th>\n",
       "      <th>historic</th>\n",
       "      <th>landuse</th>\n",
       "      <th>leisure</th>\n",
       "      <th>man_made</th>\n",
       "      <th>military</th>\n",
       "      <th>natural</th>\n",
       "      <th>office</th>\n",
       "      <th>place</th>\n",
       "      <th>power</th>\n",
       "      <th>public_transport</th>\n",
       "      <th>railway</th>\n",
       "      <th>route</th>\n",
       "      <th>shop</th>\n",
       "      <th>sport</th>\n",
       "      <th>tourism</th>\n",
       "      <th>waterway</th>\n",
       "      <th>aerialway_old</th>\n",
       "      <th>aeroway_old</th>\n",
       "      <th>amenity_old</th>\n",
       "      <th>barrier_old</th>\n",
       "      <th>boundary_old</th>\n",
       "      <th>building_old</th>\n",
       "      <th>craft_old</th>\n",
       "      <th>emergency_old</th>\n",
       "      <th>geological_old</th>\n",
       "      <th>highway_old</th>\n",
       "      <th>historic_old</th>\n",
       "      <th>landuse_old</th>\n",
       "      <th>leisure_old</th>\n",
       "      <th>man_made_old</th>\n",
       "      <th>military_old</th>\n",
       "      <th>natural_old</th>\n",
       "      <th>office_old</th>\n",
       "      <th>place_old</th>\n",
       "      <th>power_old</th>\n",
       "      <th>public_transport_old</th>\n",
       "      <th>railway_old</th>\n",
       "      <th>route_old</th>\n",
       "      <th>shop_old</th>\n",
       "      <th>sport_old</th>\n",
       "      <th>tourism_old</th>\n",
       "      <th>waterway_old</th>\n",
       "      <th>tag_values_popularity_min</th>\n",
       "      <th>tag_values_popularity_max</th>\n",
       "      <th>tag_values_popularity_mean</th>\n",
       "      <th>tag_values_popularity_stddev</th>\n",
       "    </tr>\n",
       "  </thead>\n",
       "  <tbody>\n",
       "    <tr>\n",
       "      <th>4080</th>\n",
       "      <td>45233662</td>\n",
       "      <td>0</td>\n",
       "      <td>0</td>\n",
       "      <td>1</td>\n",
       "      <td>0</td>\n",
       "      <td>0</td>\n",
       "      <td>1</td>\n",
       "      <td>5</td>\n",
       "      <td>0</td>\n",
       "      <td>562</td>\n",
       "      <td>0</td>\n",
       "      <td>2</td>\n",
       "      <td>0</td>\n",
       "      <td>2</td>\n",
       "      <td>13242</td>\n",
       "      <td>2061546</td>\n",
       "      <td>1169</td>\n",
       "      <td>179</td>\n",
       "      <td>161</td>\n",
       "      <td>0</td>\n",
       "      <td>2</td>\n",
       "      <td>13242</td>\n",
       "      <td>2061546</td>\n",
       "      <td>1169</td>\n",
       "      <td>179</td>\n",
       "      <td>161</td>\n",
       "      <td>16</td>\n",
       "      <td>0</td>\n",
       "      <td>0</td>\n",
       "      <td>1</td>\n",
       "      <td>NaN</td>\n",
       "      <td>7</td>\n",
       "      <td>1</td>\n",
       "      <td>0</td>\n",
       "      <td>0</td>\n",
       "      <td>1</td>\n",
       "      <td>0</td>\n",
       "      <td>0</td>\n",
       "      <td>0</td>\n",
       "      <td>0</td>\n",
       "      <td>0</td>\n",
       "      <td>0</td>\n",
       "      <td>1</td>\n",
       "      <td>242167</td>\n",
       "      <td>7</td>\n",
       "      <td>1</td>\n",
       "      <td>0</td>\n",
       "      <td>0</td>\n",
       "      <td>1</td>\n",
       "      <td>0</td>\n",
       "      <td>0</td>\n",
       "      <td>1</td>\n",
       "      <td>0</td>\n",
       "      <td>0</td>\n",
       "      <td>0</td>\n",
       "      <td>0</td>\n",
       "      <td>0</td>\n",
       "      <td>0</td>\n",
       "      <td>0</td>\n",
       "      <td>0.0</td>\n",
       "      <td>0.0</td>\n",
       "      <td>0.0</td>\n",
       "      <td>0.0</td>\n",
       "      <td>0.0</td>\n",
       "      <td>0.0</td>\n",
       "      <td>0.0</td>\n",
       "      <td>0.0</td>\n",
       "      <td>0</td>\n",
       "      <td>0.0</td>\n",
       "      <td>0.0</td>\n",
       "      <td>0.0</td>\n",
       "      <td>0.0</td>\n",
       "      <td>0.0</td>\n",
       "      <td>0.0</td>\n",
       "      <td>0.0</td>\n",
       "      <td>0.0</td>\n",
       "      <td>0.0</td>\n",
       "      <td>0.0</td>\n",
       "      <td>0.0</td>\n",
       "      <td>0.0</td>\n",
       "      <td>25.22</td>\n",
       "      <td>0.0</td>\n",
       "      <td>0.0</td>\n",
       "      <td>0.0</td>\n",
       "      <td>0.0</td>\n",
       "      <td>0.0</td>\n",
       "      <td>0.0</td>\n",
       "      <td>0.0</td>\n",
       "      <td>0.0</td>\n",
       "      <td>0.0</td>\n",
       "      <td>0.0</td>\n",
       "      <td>0.0</td>\n",
       "      <td>0.0</td>\n",
       "      <td>0</td>\n",
       "      <td>0.0</td>\n",
       "      <td>0.0</td>\n",
       "      <td>0.0</td>\n",
       "      <td>0.0</td>\n",
       "      <td>0.0</td>\n",
       "      <td>0.0</td>\n",
       "      <td>0.0</td>\n",
       "      <td>0.0</td>\n",
       "      <td>0.0</td>\n",
       "      <td>0.0</td>\n",
       "      <td>0.0</td>\n",
       "      <td>0.0</td>\n",
       "      <td>25.22</td>\n",
       "      <td>0.0</td>\n",
       "      <td>0.0</td>\n",
       "      <td>0.0</td>\n",
       "      <td>0.0</td>\n",
       "      <td>0.25</td>\n",
       "      <td>0.25</td>\n",
       "      <td>0.25</td>\n",
       "      <td>0.0</td>\n",
       "    </tr>\n",
       "  </tbody>\n",
       "</table>\n",
       "</div>"
      ],
      "text/plain": [
       "      changeset_id  changeset_harmful  changeset_features_created  \\\n",
       "4080      45233662                  0                           0   \n",
       "\n",
       "      changeset_features_modified  changeset_features_deleted  \\\n",
       "4080                            1                           0   \n",
       "\n",
       "      changeset_has_imagery_used  changeset_has_source  \\\n",
       "4080                           0                     1   \n",
       "\n",
       "      changeset_comment_number_of_words  \\\n",
       "4080                                  5   \n",
       "\n",
       "      changeset_comment_naughty_words_count  changeset_bbox_area  \\\n",
       "4080                                      0                  562   \n",
       "\n",
       "      changeset_non_open_data_source  \\\n",
       "4080                               0   \n",
       "\n",
       "      changeset_comment_special_characters_count  \\\n",
       "4080                                           2   \n",
       "\n",
       "      user_name_naughty_words_count  user_name_special_characters_count  \\\n",
       "4080                              0                                   2   \n",
       "\n",
       "      user_changesets_count  user_features_count  user_mapping_days_count  \\\n",
       "4080                  13242              2061546                     1169   \n",
       "\n",
       "      user_discussions_count  user_changesets_with_discussions_count  \\\n",
       "4080                     179                                     161   \n",
       "\n",
       "      old_user_name_naughty_words_count  \\\n",
       "4080                                  0   \n",
       "\n",
       "      old_user_name_special_characters_count  old_user_changesets_count  \\\n",
       "4080                                       2                      13242   \n",
       "\n",
       "      old_user_features_count  old_user_mapping_days_count  \\\n",
       "4080                  2061546                         1169   \n",
       "\n",
       "      old_user_discussions_count  old_user_changesets_with_discussions_count  \\\n",
       "4080                         179                                         161   \n",
       "\n",
       "      feature_version  feature_name_naughty_words_count  \\\n",
       "4080               16                                 0   \n",
       "\n",
       "      feature_days_since_last_edit  feature_primary_tags  feature_area  \\\n",
       "4080                             0                     1           NaN   \n",
       "\n",
       "      feature_property_tags  feature_name_translations_count  \\\n",
       "4080                      7                                1   \n",
       "\n",
       "      feature_has_website  feature_has_wikidata  feature_has_wikipedia  \\\n",
       "4080                    0                     0                      1   \n",
       "\n",
       "      feature_tags_created_count  feature_tags_modified_count  \\\n",
       "4080                           0                            0   \n",
       "\n",
       "      feature_tags_deleted_count  feature_tags_distance  \\\n",
       "4080                           0                      0   \n",
       "\n",
       "      feature_similar_tags_count  feature_name_naughty_words_count_old  \\\n",
       "4080                           0                                     0   \n",
       "\n",
       "      feature_primary_tags_old  feature_area_old  feature_property_tags_old  \\\n",
       "4080                         1            242167                          7   \n",
       "\n",
       "      feature_name_translations_count_old  feature_has_website_old  \\\n",
       "4080                                    1                        0   \n",
       "\n",
       "      feature_has_wikidata_old  feature_has_wikipedia_old  \\\n",
       "4080                         0                          1   \n",
       "\n",
       "      feature_similar_tags_count_old  iD  JOSM  MAPS.ME  Potlatch  Redaction  \\\n",
       "4080                               0   0     1        0         0          0   \n",
       "\n",
       "      Vespucci  OsmAnd  Merkaartor  GNOME  aerialway  aeroway  amenity  \\\n",
       "4080         0       0           0      0        0.0      0.0      0.0   \n",
       "\n",
       "      barrier  boundary  building  craft  emergency  geological  highway  \\\n",
       "4080      0.0       0.0       0.0    0.0        0.0           0      0.0   \n",
       "\n",
       "      historic  landuse  leisure  man_made  military  natural  office  place  \\\n",
       "4080       0.0      0.0      0.0       0.0       0.0      0.0     0.0    0.0   \n",
       "\n",
       "      power  public_transport  railway  route  shop  sport  tourism  waterway  \\\n",
       "4080    0.0               0.0      0.0  25.22   0.0    0.0      0.0       0.0   \n",
       "\n",
       "      aerialway_old  aeroway_old  amenity_old  barrier_old  boundary_old  \\\n",
       "4080            0.0          0.0          0.0          0.0           0.0   \n",
       "\n",
       "      building_old  craft_old  emergency_old  geological_old  highway_old  \\\n",
       "4080           0.0        0.0            0.0               0          0.0   \n",
       "\n",
       "      historic_old  landuse_old  leisure_old  man_made_old  military_old  \\\n",
       "4080           0.0          0.0          0.0           0.0           0.0   \n",
       "\n",
       "      natural_old  office_old  place_old  power_old  public_transport_old  \\\n",
       "4080          0.0         0.0        0.0        0.0                   0.0   \n",
       "\n",
       "      railway_old  route_old  shop_old  sport_old  tourism_old  waterway_old  \\\n",
       "4080          0.0      25.22       0.0        0.0          0.0           0.0   \n",
       "\n",
       "      tag_values_popularity_min  tag_values_popularity_max  \\\n",
       "4080                       0.25                       0.25   \n",
       "\n",
       "      tag_values_popularity_mean  tag_values_popularity_stddev  \n",
       "4080                        0.25                           0.0  "
      ]
     },
     "execution_count": 8,
     "metadata": {},
     "output_type": "execute_result"
    }
   ],
   "source": [
    "training[pd.isnull(training).any(axis=1)]"
   ]
  },
  {
   "cell_type": "code",
   "execution_count": 9,
   "metadata": {},
   "outputs": [
    {
     "data": {
      "text/plain": [
       "(3049, 115)"
      ]
     },
     "execution_count": 9,
     "metadata": {},
     "output_type": "execute_result"
    }
   ],
   "source": [
    "validation.shape"
   ]
  },
  {
   "cell_type": "code",
   "execution_count": 10,
   "metadata": {},
   "outputs": [
    {
     "data": {
      "text/plain": [
       "(3049, 115)"
      ]
     },
     "execution_count": 10,
     "metadata": {},
     "output_type": "execute_result"
    }
   ],
   "source": [
    "validation.dropna().shape"
   ]
  },
  {
   "cell_type": "code",
   "execution_count": 11,
   "metadata": {},
   "outputs": [
    {
     "data": {
      "text/plain": [
       "(7114, 115)"
      ]
     },
     "execution_count": 11,
     "metadata": {},
     "output_type": "execute_result"
    }
   ],
   "source": [
    "training.shape"
   ]
  },
  {
   "cell_type": "code",
   "execution_count": 12,
   "metadata": {},
   "outputs": [
    {
     "data": {
      "text/plain": [
       "(7113, 115)"
      ]
     },
     "execution_count": 12,
     "metadata": {},
     "output_type": "execute_result"
    }
   ],
   "source": [
    "training.dropna().shape"
   ]
  },
  {
   "cell_type": "code",
   "execution_count": 13,
   "metadata": {
    "collapsed": true
   },
   "outputs": [],
   "source": [
    "training = training.dropna()"
   ]
  },
  {
   "cell_type": "code",
   "execution_count": 14,
   "metadata": {},
   "outputs": [],
   "source": [
    "scores = list()\n",
    "sample_sizes = list(range(250, training.shape[0], 250))\n",
    "index = []\n",
    "for sample_size in sample_sizes:\n",
    "    temp = training.sample(sample_size)\n",
    "    \n",
    "    # Prepare datasets for model.\n",
    "    X = temp.drop(non_training_attributes, axis=1)\n",
    "    y = temp['changeset_harmful']\n",
    "\n",
    "    vX = validation.drop(non_training_attributes, axis=1)\n",
    "    vy = validation['changeset_harmful']\n",
    "\n",
    "    # Train model on scaled training dataset.\n",
    "    scaler = StandardScaler().fit(X)\n",
    "    X_scaled = scaler.transform(X)\n",
    "    model = GradientBoostingClassifier(n_estimators=700, learning_rate=0.1, max_depth=5, max_features='log2', random_state=5).fit(X_scaled, y)\n",
    "\n",
    "    # Performance on validation dataset.\n",
    "    vX_scaled = scaler.transform(vX)\n",
    "    vy_model = model.predict(vX_scaled)\n",
    "    \n",
    "    score = [metric(vy, vy_model) for metric in [metrics.precision_score, metrics.recall_score, metrics.f1_score, metrics.roc_auc_score]]\n",
    "    index.append(temp.shape[0])\n",
    "    scores.append(score)"
   ]
  },
  {
   "cell_type": "code",
   "execution_count": 15,
   "metadata": {},
   "outputs": [
    {
     "name": "stdout",
     "output_type": "stream",
     "text": [
      "(28, 4)\n"
     ]
    },
    {
     "data": {
      "text/html": [
       "<div>\n",
       "<table border=\"1\" class=\"dataframe\">\n",
       "  <thead>\n",
       "    <tr style=\"text-align: right;\">\n",
       "      <th></th>\n",
       "      <th>precision_score</th>\n",
       "      <th>recall_score</th>\n",
       "      <th>f1_score</th>\n",
       "      <th>roc_auc_score</th>\n",
       "    </tr>\n",
       "  </thead>\n",
       "  <tbody>\n",
       "    <tr>\n",
       "      <th>250</th>\n",
       "      <td>0.99</td>\n",
       "      <td>0.78</td>\n",
       "      <td>0.87</td>\n",
       "      <td>0.89</td>\n",
       "    </tr>\n",
       "    <tr>\n",
       "      <th>500</th>\n",
       "      <td>0.97</td>\n",
       "      <td>0.79</td>\n",
       "      <td>0.87</td>\n",
       "      <td>0.89</td>\n",
       "    </tr>\n",
       "    <tr>\n",
       "      <th>750</th>\n",
       "      <td>0.97</td>\n",
       "      <td>0.79</td>\n",
       "      <td>0.87</td>\n",
       "      <td>0.89</td>\n",
       "    </tr>\n",
       "    <tr>\n",
       "      <th>1000</th>\n",
       "      <td>0.98</td>\n",
       "      <td>0.79</td>\n",
       "      <td>0.88</td>\n",
       "      <td>0.89</td>\n",
       "    </tr>\n",
       "    <tr>\n",
       "      <th>1250</th>\n",
       "      <td>0.95</td>\n",
       "      <td>0.82</td>\n",
       "      <td>0.88</td>\n",
       "      <td>0.90</td>\n",
       "    </tr>\n",
       "  </tbody>\n",
       "</table>\n",
       "</div>"
      ],
      "text/plain": [
       "      precision_score  recall_score  f1_score  roc_auc_score\n",
       "250              0.99          0.78      0.87           0.89\n",
       "500              0.97          0.79      0.87           0.89\n",
       "750              0.97          0.79      0.87           0.89\n",
       "1000             0.98          0.79      0.88           0.89\n",
       "1250             0.95          0.82      0.88           0.90"
      ]
     },
     "execution_count": 15,
     "metadata": {},
     "output_type": "execute_result"
    }
   ],
   "source": [
    "scores = pd.DataFrame(scores, columns=['precision_score', 'recall_score', 'f1_score', 'roc_auc_score'], index=index)\n",
    "print(scores.shape)\n",
    "scores.head()"
   ]
  },
  {
   "cell_type": "code",
   "execution_count": 16,
   "metadata": {},
   "outputs": [
    {
     "data": {
      "image/png": "[encoded data removed]",
      "text/plain": [
       "<matplotlib.figure.Figure at 0x10f3d7f60>"
      ]
     },
     "metadata": {
      "image/png": {
       "height": 490,
       "width": 789
      }
     },
     "output_type": "display_data"
    }
   ],
   "source": [
    "axes = scores.plot(figsize=(8, 5))\n",
    "axes.set_xlabel('Number of samples used for training')\n",
    "axes.set_ylabel('Scores')\n",
    "axes.set_ylim(0, 1)\n",
    "# axes.set_xticks(np.arange(0, 100, 10))\n",
    "plt.grid()\n",
    "plt.tight_layout()"
   ]
  },
  {
   "cell_type": "code",
   "execution_count": null,
   "metadata": {
    "collapsed": true
   },
   "outputs": [],
   "source": []
  }
 ],
 "metadata": {
  "anaconda-cloud": {},
  "kernelspec": {
   "display_name": "Python [conda root]",
   "language": "python",
   "name": "conda-root-py"
  },
  "language_info": {
   "codemirror_mode": {
    "name": "ipython",
    "version": 3
   },
   "file_extension": ".py",
   "mimetype": "text/x-python",
   "name": "python",
   "nbconvert_exporter": "python",
   "pygments_lexer": "ipython3",
   "version": "3.5.2"
  }
 },
 "nbformat": 4,
 "nbformat_minor": 2
}
