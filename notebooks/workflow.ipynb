{
 "cells": [
  {
   "cell_type": "markdown",
   "metadata": {},
   "source": [
    "# Workflow - Gabbar"
   ]
  },
  {
   "cell_type": "code",
   "execution_count": 1,
   "metadata": {
    "collapsed": true
   },
   "outputs": [],
   "source": [
    "%matplotlib inline\n",
    "%config InlineBackend.figure_format = 'retina'\n",
    "\n",
    "import warnings\n",
    "warnings.filterwarnings(\"ignore\")"
   ]
  },
  {
   "cell_type": "code",
   "execution_count": 2,
   "metadata": {
    "collapsed": true
   },
   "outputs": [],
   "source": [
    "import os"
   ]
  },
  {
   "cell_type": "code",
   "execution_count": 3,
   "metadata": {
    "collapsed": true
   },
   "outputs": [],
   "source": [
    "import pandas as pd\n",
    "import numpy as np\n",
    "import matplotlib.pyplot as plt\n",
    "import seaborn as sns; sns.set_style('ticks')"
   ]
  },
  {
   "cell_type": "code",
   "execution_count": 4,
   "metadata": {
    "collapsed": true
   },
   "outputs": [],
   "source": [
    "from sklearn.externals import joblib"
   ]
  },
  {
   "cell_type": "markdown",
   "metadata": {},
   "source": [
    "## 1. Download labelled features from S3"
   ]
  },
  {
   "cell_type": "code",
   "execution_count": 5,
   "metadata": {},
   "outputs": [
    {
     "name": "stdout",
     "output_type": "stream",
     "text": [
      "Shape of labelled changesets: (22336, 10)\n"
     ]
    },
    {
     "data": {
      "text/html": [
       "<div>\n",
       "<table border=\"1\" class=\"dataframe\">\n",
       "  <thead>\n",
       "    <tr style=\"text-align: right;\">\n",
       "      <th></th>\n",
       "      <th>changeset_id</th>\n",
       "      <th>harmful</th>\n",
       "      <th>features_created</th>\n",
       "      <th>features_modified</th>\n",
       "      <th>features_deleted</th>\n",
       "      <th>user_id</th>\n",
       "      <th>user_name</th>\n",
       "      <th>user_first_edit</th>\n",
       "      <th>user_changesets</th>\n",
       "      <th>user_features</th>\n",
       "    </tr>\n",
       "  </thead>\n",
       "  <tbody>\n",
       "    <tr>\n",
       "      <th>0</th>\n",
       "      <td>47898082</td>\n",
       "      <td>False</td>\n",
       "      <td>0</td>\n",
       "      <td>5</td>\n",
       "      <td>5</td>\n",
       "      <td>109705.0</td>\n",
       "      <td>gscholz</td>\n",
       "      <td>2009-03-24T20:52:47.000Z</td>\n",
       "      <td>22272.0</td>\n",
       "      <td>1623482.0</td>\n",
       "    </tr>\n",
       "    <tr>\n",
       "      <th>1</th>\n",
       "      <td>47898235</td>\n",
       "      <td>False</td>\n",
       "      <td>2</td>\n",
       "      <td>8</td>\n",
       "      <td>1</td>\n",
       "      <td>109705.0</td>\n",
       "      <td>gscholz</td>\n",
       "      <td>2009-03-24T20:52:47.000Z</td>\n",
       "      <td>22272.0</td>\n",
       "      <td>1623482.0</td>\n",
       "    </tr>\n",
       "    <tr>\n",
       "      <th>2</th>\n",
       "      <td>47889470</td>\n",
       "      <td>False</td>\n",
       "      <td>1</td>\n",
       "      <td>0</td>\n",
       "      <td>0</td>\n",
       "      <td>5623416.0</td>\n",
       "      <td>MRN1951</td>\n",
       "      <td>2017-04-18T02:02:26.000Z</td>\n",
       "      <td>15.0</td>\n",
       "      <td>17.0</td>\n",
       "    </tr>\n",
       "    <tr>\n",
       "      <th>3</th>\n",
       "      <td>47898150</td>\n",
       "      <td>False</td>\n",
       "      <td>0</td>\n",
       "      <td>1</td>\n",
       "      <td>1</td>\n",
       "      <td>109705.0</td>\n",
       "      <td>gscholz</td>\n",
       "      <td>2009-03-24T20:52:47.000Z</td>\n",
       "      <td>22272.0</td>\n",
       "      <td>1623482.0</td>\n",
       "    </tr>\n",
       "    <tr>\n",
       "      <th>4</th>\n",
       "      <td>47897677</td>\n",
       "      <td>True</td>\n",
       "      <td>6</td>\n",
       "      <td>14</td>\n",
       "      <td>6</td>\n",
       "      <td>4803528.0</td>\n",
       "      <td>Eva Blue</td>\n",
       "      <td>2016-11-03T12:16:03.000Z</td>\n",
       "      <td>16301.0</td>\n",
       "      <td>193329.0</td>\n",
       "    </tr>\n",
       "  </tbody>\n",
       "</table>\n",
       "</div>"
      ],
      "text/plain": [
       "   changeset_id harmful  features_created  features_modified  \\\n",
       "0      47898082   False                 0                  5   \n",
       "1      47898235   False                 2                  8   \n",
       "2      47889470   False                 1                  0   \n",
       "3      47898150   False                 0                  1   \n",
       "4      47897677    True                 6                 14   \n",
       "\n",
       "   features_deleted    user_id user_name           user_first_edit  \\\n",
       "0                 5   109705.0   gscholz  2009-03-24T20:52:47.000Z   \n",
       "1                 1   109705.0   gscholz  2009-03-24T20:52:47.000Z   \n",
       "2                 0  5623416.0   MRN1951  2017-04-18T02:02:26.000Z   \n",
       "3                 1   109705.0   gscholz  2009-03-24T20:52:47.000Z   \n",
       "4                 6  4803528.0  Eva Blue  2016-11-03T12:16:03.000Z   \n",
       "\n",
       "   user_changesets  user_features  \n",
       "0          22272.0      1623482.0  \n",
       "1          22272.0      1623482.0  \n",
       "2             15.0           17.0  \n",
       "3          22272.0      1623482.0  \n",
       "4          16301.0       193329.0  "
      ]
     },
     "execution_count": 5,
     "metadata": {},
     "output_type": "execute_result"
    }
   ],
   "source": [
    "changesets = pd.read_csv('https://s3-us-west-2.amazonaws.com/mapbox-gabbar/public/labelled_features.csv')\n",
    "\n",
    "print('Shape of labelled changesets: {}'.format(changesets.shape))\n",
    "changesets.head()"
   ]
  },
  {
   "cell_type": "code",
   "execution_count": 6,
   "metadata": {},
   "outputs": [
    {
     "name": "stdout",
     "output_type": "stream",
     "text": [
      "Total features: 5\n",
      "\n",
      "*** Feature list *** \n",
      "features_created\n",
      "features_deleted\n",
      "features_modified\n",
      "user_changesets\n",
      "user_features\n"
     ]
    }
   ],
   "source": [
    "non_training_features = np.array(['changeset_id', 'harmful', 'user_first_edit', 'user_id', 'user_name'])\n",
    "\n",
    "features = changesets.columns.values\n",
    "features = np.setdiff1d(features, non_training_features)\n",
    "\n",
    "print('Total features: {}\\n'.format(len(features)))\n",
    "print('*** Feature list *** \\n{}'.format('\\n'.join(features)))"
   ]
  },
  {
   "cell_type": "code",
   "execution_count": 7,
   "metadata": {},
   "outputs": [
    {
     "name": "stdout",
     "output_type": "stream",
     "text": [
      "Changesets before dropping rows with null values: 22336\n",
      "Changesets after dropping rows with null values: 21334\n"
     ]
    },
    {
     "data": {
      "text/html": [
       "<div>\n",
       "<table border=\"1\" class=\"dataframe\">\n",
       "  <thead>\n",
       "    <tr style=\"text-align: right;\">\n",
       "      <th></th>\n",
       "      <th>changeset_id</th>\n",
       "      <th>harmful</th>\n",
       "      <th>features_created</th>\n",
       "      <th>features_modified</th>\n",
       "      <th>features_deleted</th>\n",
       "      <th>user_id</th>\n",
       "      <th>user_name</th>\n",
       "      <th>user_first_edit</th>\n",
       "      <th>user_changesets</th>\n",
       "      <th>user_features</th>\n",
       "    </tr>\n",
       "  </thead>\n",
       "  <tbody>\n",
       "    <tr>\n",
       "      <th>0</th>\n",
       "      <td>47898082</td>\n",
       "      <td>False</td>\n",
       "      <td>0</td>\n",
       "      <td>5</td>\n",
       "      <td>5</td>\n",
       "      <td>109705.0</td>\n",
       "      <td>gscholz</td>\n",
       "      <td>2009-03-24T20:52:47.000Z</td>\n",
       "      <td>22272.0</td>\n",
       "      <td>1623482.0</td>\n",
       "    </tr>\n",
       "    <tr>\n",
       "      <th>1</th>\n",
       "      <td>47898235</td>\n",
       "      <td>False</td>\n",
       "      <td>2</td>\n",
       "      <td>8</td>\n",
       "      <td>1</td>\n",
       "      <td>109705.0</td>\n",
       "      <td>gscholz</td>\n",
       "      <td>2009-03-24T20:52:47.000Z</td>\n",
       "      <td>22272.0</td>\n",
       "      <td>1623482.0</td>\n",
       "    </tr>\n",
       "    <tr>\n",
       "      <th>2</th>\n",
       "      <td>47889470</td>\n",
       "      <td>False</td>\n",
       "      <td>1</td>\n",
       "      <td>0</td>\n",
       "      <td>0</td>\n",
       "      <td>5623416.0</td>\n",
       "      <td>MRN1951</td>\n",
       "      <td>2017-04-18T02:02:26.000Z</td>\n",
       "      <td>15.0</td>\n",
       "      <td>17.0</td>\n",
       "    </tr>\n",
       "    <tr>\n",
       "      <th>3</th>\n",
       "      <td>47898150</td>\n",
       "      <td>False</td>\n",
       "      <td>0</td>\n",
       "      <td>1</td>\n",
       "      <td>1</td>\n",
       "      <td>109705.0</td>\n",
       "      <td>gscholz</td>\n",
       "      <td>2009-03-24T20:52:47.000Z</td>\n",
       "      <td>22272.0</td>\n",
       "      <td>1623482.0</td>\n",
       "    </tr>\n",
       "    <tr>\n",
       "      <th>4</th>\n",
       "      <td>47897677</td>\n",
       "      <td>True</td>\n",
       "      <td>6</td>\n",
       "      <td>14</td>\n",
       "      <td>6</td>\n",
       "      <td>4803528.0</td>\n",
       "      <td>Eva Blue</td>\n",
       "      <td>2016-11-03T12:16:03.000Z</td>\n",
       "      <td>16301.0</td>\n",
       "      <td>193329.0</td>\n",
       "    </tr>\n",
       "  </tbody>\n",
       "</table>\n",
       "</div>"
      ],
      "text/plain": [
       "   changeset_id harmful  features_created  features_modified  \\\n",
       "0      47898082   False                 0                  5   \n",
       "1      47898235   False                 2                  8   \n",
       "2      47889470   False                 1                  0   \n",
       "3      47898150   False                 0                  1   \n",
       "4      47897677    True                 6                 14   \n",
       "\n",
       "   features_deleted    user_id user_name           user_first_edit  \\\n",
       "0                 5   109705.0   gscholz  2009-03-24T20:52:47.000Z   \n",
       "1                 1   109705.0   gscholz  2009-03-24T20:52:47.000Z   \n",
       "2                 0  5623416.0   MRN1951  2017-04-18T02:02:26.000Z   \n",
       "3                 1   109705.0   gscholz  2009-03-24T20:52:47.000Z   \n",
       "4                 6  4803528.0  Eva Blue  2016-11-03T12:16:03.000Z   \n",
       "\n",
       "   user_changesets  user_features  \n",
       "0          22272.0      1623482.0  \n",
       "1          22272.0      1623482.0  \n",
       "2             15.0           17.0  \n",
       "3          22272.0      1623482.0  \n",
       "4          16301.0       193329.0  "
      ]
     },
     "execution_count": 7,
     "metadata": {},
     "output_type": "execute_result"
    }
   ],
   "source": [
    "print('Changesets before dropping rows with null values: {}'.format(changesets[features].shape[0]))\n",
    "\n",
    "# Drop entire row is any of the feature is null.\n",
    "changesets = changesets.dropna(subset=features)\n",
    "\n",
    "print('Changesets after dropping rows with null values: {}'.format(changesets[features].shape[0]))\n",
    "changesets.head()"
   ]
  },
  {
   "cell_type": "code",
   "execution_count": 8,
   "metadata": {},
   "outputs": [],
   "source": [
    "# Feature matrix.\n",
    "X = changesets[features]\n",
    "\n",
    "# Target array.\n",
    "y = changesets['harmful']"
   ]
  },
  {
   "cell_type": "markdown",
   "metadata": {},
   "source": [
    "## 2. Normalize features for machine learning"
   ]
  },
  {
   "cell_type": "code",
   "execution_count": 9,
   "metadata": {},
   "outputs": [
    {
     "name": "stdout",
     "output_type": "stream",
     "text": [
      "RobustScaler(copy=True, with_centering=True, with_scaling=True)\n"
     ]
    }
   ],
   "source": [
    "# Scale features using RobustScaler which is good for outliers.\n",
    "from sklearn.preprocessing import RobustScaler\n",
    "\n",
    "scaler = RobustScaler().fit(X)\n",
    "X = scaler.transform(X)\n",
    "print(scaler)"
   ]
  },
  {
   "cell_type": "code",
   "execution_count": 10,
   "metadata": {},
   "outputs": [
    {
     "data": {
      "text/plain": [
       "['../gabbar/trained/scaler.pkl']"
      ]
     },
     "execution_count": 10,
     "metadata": {},
     "output_type": "execute_result"
    }
   ],
   "source": [
    "# Dump scaler to a file.\n",
    "scalerpath = '../gabbar/trained/scaler.pkl'\n",
    "joblib.dump(scaler, scalerpath, compress=3)"
   ]
  },
  {
   "cell_type": "markdown",
   "metadata": {},
   "source": [
    "## 3. Break up training and testing datasets"
   ]
  },
  {
   "cell_type": "code",
   "execution_count": 11,
   "metadata": {},
   "outputs": [
    {
     "name": "stdout",
     "output_type": "stream",
     "text": [
      "Training samples: 14933\n",
      "Testing samples: 6401\n"
     ]
    }
   ],
   "source": [
    "from sklearn.cross_validation import train_test_split\n",
    "\n",
    "Xtrain, Xtest, ytrain, ytest = train_test_split(X, y, random_state=42, train_size=0.7)\n",
    "print('Training samples: {}'.format(Xtrain.shape[0]))\n",
    "print('Testing samples: {}'.format(Xtest.shape[0]))"
   ]
  },
  {
   "cell_type": "markdown",
   "metadata": {},
   "source": [
    "## 4. Train model on training dataset"
   ]
  },
  {
   "cell_type": "code",
   "execution_count": 12,
   "metadata": {},
   "outputs": [
    {
     "name": "stdout",
     "output_type": "stream",
     "text": [
      "CPU times: user 4.76 s, sys: 282 ms, total: 5.04 s\n",
      "Wall time: 6.06 s\n",
      "SVC(C=1.0, cache_size=200, class_weight=None, coef0=0.0,\n",
      "  decision_function_shape=None, degree=3, gamma='auto', kernel='rbf',\n",
      "  max_iter=-1, probability=False, random_state=None, shrinking=True,\n",
      "  tol=0.001, verbose=False)\n"
     ]
    }
   ],
   "source": [
    "from sklearn.svm import SVC\n",
    "model = SVC(kernel='rbf')\n",
    "%time model.fit(Xtrain, ytrain);\n",
    "print(model)"
   ]
  },
  {
   "cell_type": "code",
   "execution_count": 13,
   "metadata": {},
   "outputs": [
    {
     "data": {
      "text/plain": [
       "['../gabbar/trained/model.pkl']"
      ]
     },
     "execution_count": 13,
     "metadata": {},
     "output_type": "execute_result"
    }
   ],
   "source": [
    "# Dump scaler to a file.\n",
    "modelpath = '../gabbar/trained/model.pkl'\n",
    "joblib.dump(model, modelpath, compress=3)"
   ]
  },
  {
   "cell_type": "markdown",
   "metadata": {},
   "source": [
    "## 5. Test model on testing dataset"
   ]
  },
  {
   "cell_type": "code",
   "execution_count": 14,
   "metadata": {
    "collapsed": true
   },
   "outputs": [],
   "source": [
    "ymodel = model.predict(Xtest)"
   ]
  },
  {
   "cell_type": "markdown",
   "metadata": {},
   "source": [
    "## 6. Print performance metrics"
   ]
  },
  {
   "cell_type": "code",
   "execution_count": 15,
   "metadata": {},
   "outputs": [
    {
     "name": "stdout",
     "output_type": "stream",
     "text": [
      "             precision    recall  f1-score   support\n",
      "\n",
      "      False       0.93      1.00      0.96      5967\n",
      "       True       0.00      0.00      0.00       434\n",
      "\n",
      "avg / total       0.87      0.93      0.90      6401\n",
      "\n"
     ]
    }
   ],
   "source": [
    "from sklearn.metrics import classification_report\n",
    "print(classification_report(ytest, ymodel))"
   ]
  },
  {
   "cell_type": "code",
   "execution_count": 16,
   "metadata": {},
   "outputs": [
    {
     "data": {
      "text/plain": [
       "0.93203337805246578"
      ]
     },
     "execution_count": 16,
     "metadata": {},
     "output_type": "execute_result"
    }
   ],
   "source": [
    "# Evaluate a score by cross-validation.\n",
    "from sklearn.cross_validation import cross_val_score\n",
    "scores = cross_val_score(model, X, y, cv=3)\n",
    "np.mean(scores)"
   ]
  },
  {
   "cell_type": "code",
   "execution_count": 17,
   "metadata": {
    "collapsed": true
   },
   "outputs": [],
   "source": [
    "changesets['prediction'] = model.predict(scaler.transform(changesets[features]))"
   ]
  },
  {
   "cell_type": "code",
   "execution_count": 18,
   "metadata": {},
   "outputs": [
    {
     "data": {
      "text/html": [
       "<div>\n",
       "<table border=\"1\" class=\"dataframe\">\n",
       "  <thead>\n",
       "    <tr style=\"text-align: right;\">\n",
       "      <th></th>\n",
       "      <th>Labelled</th>\n",
       "      <th>Predicted</th>\n",
       "      <th>Number of changesets</th>\n",
       "    </tr>\n",
       "  </thead>\n",
       "  <tbody>\n",
       "    <tr>\n",
       "      <th>0</th>\n",
       "      <td>True</td>\n",
       "      <td>True</td>\n",
       "      <td>57</td>\n",
       "    </tr>\n",
       "    <tr>\n",
       "      <th>1</th>\n",
       "      <td>True</td>\n",
       "      <td>False</td>\n",
       "      <td>1392</td>\n",
       "    </tr>\n",
       "    <tr>\n",
       "      <th>2</th>\n",
       "      <td>False</td>\n",
       "      <td>True</td>\n",
       "      <td>0</td>\n",
       "    </tr>\n",
       "    <tr>\n",
       "      <th>3</th>\n",
       "      <td>False</td>\n",
       "      <td>False</td>\n",
       "      <td>19885</td>\n",
       "    </tr>\n",
       "  </tbody>\n",
       "</table>\n",
       "</div>"
      ],
      "text/plain": [
       "  Labelled Predicted  Number of changesets\n",
       "0     True      True                    57\n",
       "1     True     False                  1392\n",
       "2    False      True                     0\n",
       "3    False     False                 19885"
      ]
     },
     "execution_count": 18,
     "metadata": {},
     "output_type": "execute_result"
    }
   ],
   "source": [
    "booleans = [True, False]\n",
    "columns = ['Labelled', 'Predicted', 'Number of changesets']\n",
    "results = []\n",
    "for actual in booleans:\n",
    "    for prediction in booleans:\n",
    "        temp = changesets[(changesets['harmful'] == actual) & (changesets['prediction'] == prediction)]\n",
    "        results.append([actual, prediction, temp.shape[0]])\n",
    "pd.DataFrame(results, columns=columns)"
   ]
  },
  {
   "cell_type": "markdown",
   "metadata": {},
   "source": [
    "## 7. Download unlabelled features from s3"
   ]
  },
  {
   "cell_type": "code",
   "execution_count": 19,
   "metadata": {},
   "outputs": [
    {
     "name": "stdout",
     "output_type": "stream",
     "text": [
      "Shape of unlabelled changesets: (26191, 9)\n"
     ]
    },
    {
     "data": {
      "text/html": [
       "<div>\n",
       "<table border=\"1\" class=\"dataframe\">\n",
       "  <thead>\n",
       "    <tr style=\"text-align: right;\">\n",
       "      <th></th>\n",
       "      <th>changeset_id</th>\n",
       "      <th>features_created</th>\n",
       "      <th>features_modified</th>\n",
       "      <th>features_deleted</th>\n",
       "      <th>user_id</th>\n",
       "      <th>user_name</th>\n",
       "      <th>user_first_edit</th>\n",
       "      <th>user_changesets</th>\n",
       "      <th>user_features</th>\n",
       "    </tr>\n",
       "  </thead>\n",
       "  <tbody>\n",
       "    <tr>\n",
       "      <th>0</th>\n",
       "      <td>47370185</td>\n",
       "      <td>0</td>\n",
       "      <td>8</td>\n",
       "      <td>0</td>\n",
       "      <td>2285494.0</td>\n",
       "      <td>JJIglesias</td>\n",
       "      <td>2014-08-24T04:14:01.000Z</td>\n",
       "      <td>13386.0</td>\n",
       "      <td>657956.0</td>\n",
       "    </tr>\n",
       "    <tr>\n",
       "      <th>1</th>\n",
       "      <td>47370177</td>\n",
       "      <td>0</td>\n",
       "      <td>1</td>\n",
       "      <td>0</td>\n",
       "      <td>2324744.0</td>\n",
       "      <td>arman76</td>\n",
       "      <td>2014-09-10T12:41:11.000Z</td>\n",
       "      <td>102.0</td>\n",
       "      <td>154.0</td>\n",
       "    </tr>\n",
       "    <tr>\n",
       "      <th>2</th>\n",
       "      <td>47370159</td>\n",
       "      <td>67</td>\n",
       "      <td>0</td>\n",
       "      <td>0</td>\n",
       "      <td>3593219.0</td>\n",
       "      <td>musawo</td>\n",
       "      <td>2016-02-04T13:35:05.000Z</td>\n",
       "      <td>1544.0</td>\n",
       "      <td>128109.0</td>\n",
       "    </tr>\n",
       "    <tr>\n",
       "      <th>3</th>\n",
       "      <td>47370183</td>\n",
       "      <td>0</td>\n",
       "      <td>1</td>\n",
       "      <td>0</td>\n",
       "      <td>2324744.0</td>\n",
       "      <td>arman76</td>\n",
       "      <td>2014-09-10T12:41:11.000Z</td>\n",
       "      <td>102.0</td>\n",
       "      <td>154.0</td>\n",
       "    </tr>\n",
       "    <tr>\n",
       "      <th>4</th>\n",
       "      <td>47370184</td>\n",
       "      <td>316</td>\n",
       "      <td>165</td>\n",
       "      <td>89</td>\n",
       "      <td>74847.0</td>\n",
       "      <td>Marc Mongenet</td>\n",
       "      <td>2008-10-23T17:49:18.000Z</td>\n",
       "      <td>11914.0</td>\n",
       "      <td>2082052.0</td>\n",
       "    </tr>\n",
       "  </tbody>\n",
       "</table>\n",
       "</div>"
      ],
      "text/plain": [
       "   changeset_id  features_created  features_modified  features_deleted  \\\n",
       "0      47370185                 0                  8                 0   \n",
       "1      47370177                 0                  1                 0   \n",
       "2      47370159                67                  0                 0   \n",
       "3      47370183                 0                  1                 0   \n",
       "4      47370184               316                165                89   \n",
       "\n",
       "     user_id      user_name           user_first_edit  user_changesets  \\\n",
       "0  2285494.0     JJIglesias  2014-08-24T04:14:01.000Z          13386.0   \n",
       "1  2324744.0        arman76  2014-09-10T12:41:11.000Z            102.0   \n",
       "2  3593219.0         musawo  2016-02-04T13:35:05.000Z           1544.0   \n",
       "3  2324744.0        arman76  2014-09-10T12:41:11.000Z            102.0   \n",
       "4    74847.0  Marc Mongenet  2008-10-23T17:49:18.000Z          11914.0   \n",
       "\n",
       "   user_features  \n",
       "0       657956.0  \n",
       "1          154.0  \n",
       "2       128109.0  \n",
       "3          154.0  \n",
       "4      2082052.0  "
      ]
     },
     "execution_count": 19,
     "metadata": {},
     "output_type": "execute_result"
    }
   ],
   "source": [
    "changesets = pd.read_csv('https://s3-us-west-2.amazonaws.com/mapbox-gabbar/public/unlabelled_features.csv')\n",
    "\n",
    "print('Shape of unlabelled changesets: {}'.format(changesets.shape))\n",
    "changesets.head()"
   ]
  },
  {
   "cell_type": "code",
   "execution_count": 20,
   "metadata": {},
   "outputs": [
    {
     "name": "stdout",
     "output_type": "stream",
     "text": [
      "Changesets before dropping rows with null values: 26191\n",
      "Changesets after dropping rows with null values: 26174\n"
     ]
    },
    {
     "data": {
      "text/html": [
       "<div>\n",
       "<table border=\"1\" class=\"dataframe\">\n",
       "  <thead>\n",
       "    <tr style=\"text-align: right;\">\n",
       "      <th></th>\n",
       "      <th>changeset_id</th>\n",
       "      <th>features_created</th>\n",
       "      <th>features_modified</th>\n",
       "      <th>features_deleted</th>\n",
       "      <th>user_id</th>\n",
       "      <th>user_name</th>\n",
       "      <th>user_first_edit</th>\n",
       "      <th>user_changesets</th>\n",
       "      <th>user_features</th>\n",
       "    </tr>\n",
       "  </thead>\n",
       "  <tbody>\n",
       "    <tr>\n",
       "      <th>0</th>\n",
       "      <td>47370185</td>\n",
       "      <td>0</td>\n",
       "      <td>8</td>\n",
       "      <td>0</td>\n",
       "      <td>2285494.0</td>\n",
       "      <td>JJIglesias</td>\n",
       "      <td>2014-08-24T04:14:01.000Z</td>\n",
       "      <td>13386.0</td>\n",
       "      <td>657956.0</td>\n",
       "    </tr>\n",
       "    <tr>\n",
       "      <th>1</th>\n",
       "      <td>47370177</td>\n",
       "      <td>0</td>\n",
       "      <td>1</td>\n",
       "      <td>0</td>\n",
       "      <td>2324744.0</td>\n",
       "      <td>arman76</td>\n",
       "      <td>2014-09-10T12:41:11.000Z</td>\n",
       "      <td>102.0</td>\n",
       "      <td>154.0</td>\n",
       "    </tr>\n",
       "    <tr>\n",
       "      <th>2</th>\n",
       "      <td>47370159</td>\n",
       "      <td>67</td>\n",
       "      <td>0</td>\n",
       "      <td>0</td>\n",
       "      <td>3593219.0</td>\n",
       "      <td>musawo</td>\n",
       "      <td>2016-02-04T13:35:05.000Z</td>\n",
       "      <td>1544.0</td>\n",
       "      <td>128109.0</td>\n",
       "    </tr>\n",
       "    <tr>\n",
       "      <th>3</th>\n",
       "      <td>47370183</td>\n",
       "      <td>0</td>\n",
       "      <td>1</td>\n",
       "      <td>0</td>\n",
       "      <td>2324744.0</td>\n",
       "      <td>arman76</td>\n",
       "      <td>2014-09-10T12:41:11.000Z</td>\n",
       "      <td>102.0</td>\n",
       "      <td>154.0</td>\n",
       "    </tr>\n",
       "    <tr>\n",
       "      <th>4</th>\n",
       "      <td>47370184</td>\n",
       "      <td>316</td>\n",
       "      <td>165</td>\n",
       "      <td>89</td>\n",
       "      <td>74847.0</td>\n",
       "      <td>Marc Mongenet</td>\n",
       "      <td>2008-10-23T17:49:18.000Z</td>\n",
       "      <td>11914.0</td>\n",
       "      <td>2082052.0</td>\n",
       "    </tr>\n",
       "  </tbody>\n",
       "</table>\n",
       "</div>"
      ],
      "text/plain": [
       "   changeset_id  features_created  features_modified  features_deleted  \\\n",
       "0      47370185                 0                  8                 0   \n",
       "1      47370177                 0                  1                 0   \n",
       "2      47370159                67                  0                 0   \n",
       "3      47370183                 0                  1                 0   \n",
       "4      47370184               316                165                89   \n",
       "\n",
       "     user_id      user_name           user_first_edit  user_changesets  \\\n",
       "0  2285494.0     JJIglesias  2014-08-24T04:14:01.000Z          13386.0   \n",
       "1  2324744.0        arman76  2014-09-10T12:41:11.000Z            102.0   \n",
       "2  3593219.0         musawo  2016-02-04T13:35:05.000Z           1544.0   \n",
       "3  2324744.0        arman76  2014-09-10T12:41:11.000Z            102.0   \n",
       "4    74847.0  Marc Mongenet  2008-10-23T17:49:18.000Z          11914.0   \n",
       "\n",
       "   user_features  \n",
       "0       657956.0  \n",
       "1          154.0  \n",
       "2       128109.0  \n",
       "3          154.0  \n",
       "4      2082052.0  "
      ]
     },
     "execution_count": 20,
     "metadata": {},
     "output_type": "execute_result"
    }
   ],
   "source": [
    "print('Changesets before dropping rows with null values: {}'.format(changesets[features].shape[0]))\n",
    "\n",
    "# Drop entire row is any of the feature is null.\n",
    "changesets = changesets.dropna(subset=features)\n",
    "\n",
    "print('Changesets after dropping rows with null values: {}'.format(changesets[features].shape[0]))\n",
    "changesets.head()"
   ]
  },
  {
   "cell_type": "markdown",
   "metadata": {},
   "source": [
    "## 8. Test model on unlabelled features dataset"
   ]
  },
  {
   "cell_type": "code",
   "execution_count": 21,
   "metadata": {},
   "outputs": [],
   "source": [
    "# Load the scaler and model.\n",
    "loaded_scaler = joblib.load(scalerpath)\n",
    "loaded_model = joblib.load(modelpath)\n",
    "\n",
    "changesets['prediction'] = loaded_model.predict(loaded_scaler.transform(changesets[features]))"
   ]
  },
  {
   "cell_type": "markdown",
   "metadata": {},
   "source": [
    "## 9. Print performance metrics"
   ]
  },
  {
   "cell_type": "code",
   "execution_count": 22,
   "metadata": {},
   "outputs": [
    {
     "name": "stdout",
     "output_type": "stream",
     "text": [
      "Predicted harmful     : 1\n",
      "Predicted not harmful : 26173\n"
     ]
    }
   ],
   "source": [
    "print('Predicted harmful     : {}'.format(changesets[changesets['prediction'] == True].shape[0]))\n",
    "print('Predicted not harmful : {}'.format(changesets[changesets['prediction'] == False].shape[0]))"
   ]
  },
  {
   "cell_type": "code",
   "execution_count": 23,
   "metadata": {},
   "outputs": [
    {
     "data": {
      "text/html": [
       "<div>\n",
       "<table border=\"1\" class=\"dataframe\">\n",
       "  <thead>\n",
       "    <tr style=\"text-align: right;\">\n",
       "      <th></th>\n",
       "      <th>changeset_id</th>\n",
       "      <th>features_created</th>\n",
       "      <th>features_modified</th>\n",
       "      <th>features_deleted</th>\n",
       "      <th>user_id</th>\n",
       "      <th>user_name</th>\n",
       "      <th>user_first_edit</th>\n",
       "      <th>user_changesets</th>\n",
       "      <th>user_features</th>\n",
       "      <th>prediction</th>\n",
       "    </tr>\n",
       "  </thead>\n",
       "  <tbody>\n",
       "    <tr>\n",
       "      <th>10655</th>\n",
       "      <td>47359107</td>\n",
       "      <td>1</td>\n",
       "      <td>19</td>\n",
       "      <td>40</td>\n",
       "      <td>2716442.0</td>\n",
       "      <td>pete404</td>\n",
       "      <td>2015-03-01T01:27:16.000Z</td>\n",
       "      <td>1987.0</td>\n",
       "      <td>204390.0</td>\n",
       "      <td>True</td>\n",
       "    </tr>\n",
       "  </tbody>\n",
       "</table>\n",
       "</div>"
      ],
      "text/plain": [
       "       changeset_id  features_created  features_modified  features_deleted  \\\n",
       "10655      47359107                 1                 19                40   \n",
       "\n",
       "         user_id user_name           user_first_edit  user_changesets  \\\n",
       "10655  2716442.0   pete404  2015-03-01T01:27:16.000Z           1987.0   \n",
       "\n",
       "       user_features prediction  \n",
       "10655       204390.0       True  "
      ]
     },
     "execution_count": 23,
     "metadata": {},
     "output_type": "execute_result"
    }
   ],
   "source": [
    "changesets[changesets['prediction'] == True].head()"
   ]
  }
 ],
 "metadata": {
  "anaconda-cloud": {},
  "kernelspec": {
   "display_name": "Python [conda root]",
   "language": "python",
   "name": "conda-root-py"
  },
  "language_info": {
   "codemirror_mode": {
    "name": "ipython",
    "version": 3
   },
   "file_extension": ".py",
   "mimetype": "text/x-python",
   "name": "python",
   "nbconvert_exporter": "python",
   "pygments_lexer": "ipython3",
   "version": "3.5.2"
  }
 },
 "nbformat": 4,
 "nbformat_minor": 2
}
