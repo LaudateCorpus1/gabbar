{
 "cells": [
  {
   "cell_type": "markdown",
   "metadata": {},
   "source": [
    "# Anomaly detection - Gabbar"
   ]
  },
  {
   "cell_type": "code",
   "execution_count": 1,
   "metadata": {
    "collapsed": true
   },
   "outputs": [],
   "source": [
    "%matplotlib inline\n",
    "%config InlineBackend.figure_format = 'retina'\n",
    "\n",
    "import warnings\n",
    "warnings.filterwarnings(\"ignore\")"
   ]
  },
  {
   "cell_type": "code",
   "execution_count": 2,
   "metadata": {
    "collapsed": true
   },
   "outputs": [],
   "source": [
    "import pandas as pd\n",
    "import numpy as np\n",
    "import matplotlib.pyplot as plt\n",
    "import seaborn as sns"
   ]
  },
  {
   "cell_type": "code",
   "execution_count": 3,
   "metadata": {
    "collapsed": true
   },
   "outputs": [],
   "source": [
    "from sklearn.ensemble import IsolationForest\n",
    "from sklearn.externals import joblib\n",
    "\n",
    "from sklearn.metrics import classification_report\n",
    "from sklearn.metrics import confusion_matrix"
   ]
  },
  {
   "cell_type": "code",
   "execution_count": 4,
   "metadata": {
    "collapsed": true
   },
   "outputs": [],
   "source": [
    "pd.set_option('display.precision', 2)\n",
    "pd.set_option('display.max_columns', None)"
   ]
  },
  {
   "cell_type": "code",
   "execution_count": 5,
   "metadata": {
    "collapsed": true
   },
   "outputs": [],
   "source": [
    "random_state = 5\n",
    "cv = 10"
   ]
  },
  {
   "cell_type": "code",
   "execution_count": 6,
   "metadata": {
    "collapsed": true
   },
   "outputs": [],
   "source": [
    "non_training_attributes = ['changeset_id', 'changeset_harmful', 'feature_id', 'feature_type']"
   ]
  },
  {
   "cell_type": "markdown",
   "metadata": {},
   "source": [
    "## Prepare datasets"
   ]
  },
  {
   "cell_type": "code",
   "execution_count": 7,
   "metadata": {
    "collapsed": true
   },
   "outputs": [],
   "source": [
    "labelled_path = '../downloads/anomaly-detection/labelled/'"
   ]
  },
  {
   "cell_type": "code",
   "execution_count": 8,
   "metadata": {},
   "outputs": [
    {
     "name": "stdout",
     "output_type": "stream",
     "text": [
      "(2272, 15)\n"
     ]
    },
    {
     "data": {
      "text/html": [
       "<div>\n",
       "<table border=\"1\" class=\"dataframe\">\n",
       "  <thead>\n",
       "    <tr style=\"text-align: right;\">\n",
       "      <th></th>\n",
       "      <th>changeset_id</th>\n",
       "      <th>changeset_harmful</th>\n",
       "      <th>feature_id</th>\n",
       "      <th>feature_type</th>\n",
       "      <th>action_create</th>\n",
       "      <th>action_modify</th>\n",
       "      <th>action_delete</th>\n",
       "      <th>feature_version</th>\n",
       "      <th>highway_tag_created</th>\n",
       "      <th>highway_tag_deleted</th>\n",
       "      <th>highway_value_difference</th>\n",
       "      <th>primary_tags_difference</th>\n",
       "      <th>area_of_feature_bbox</th>\n",
       "      <th>length_of_longest_segment</th>\n",
       "      <th>feature_name_touched</th>\n",
       "    </tr>\n",
       "  </thead>\n",
       "  <tbody>\n",
       "    <tr>\n",
       "      <th>683</th>\n",
       "      <td>47515168</td>\n",
       "      <td>1</td>\n",
       "      <td>185964339</td>\n",
       "      <td>way</td>\n",
       "      <td>0</td>\n",
       "      <td>1</td>\n",
       "      <td>0</td>\n",
       "      <td>5</td>\n",
       "      <td>0</td>\n",
       "      <td>0</td>\n",
       "      <td>0</td>\n",
       "      <td>0</td>\n",
       "      <td>7001.98</td>\n",
       "      <td>0.00e+00</td>\n",
       "      <td>0</td>\n",
       "    </tr>\n",
       "    <tr>\n",
       "      <th>2199</th>\n",
       "      <td>45428203</td>\n",
       "      <td>1</td>\n",
       "      <td>193562363</td>\n",
       "      <td>way</td>\n",
       "      <td>0</td>\n",
       "      <td>1</td>\n",
       "      <td>0</td>\n",
       "      <td>5</td>\n",
       "      <td>0</td>\n",
       "      <td>0</td>\n",
       "      <td>0</td>\n",
       "      <td>0</td>\n",
       "      <td>157.14</td>\n",
       "      <td>2.56e-02</td>\n",
       "      <td>0</td>\n",
       "    </tr>\n",
       "    <tr>\n",
       "      <th>2004</th>\n",
       "      <td>46477976</td>\n",
       "      <td>1</td>\n",
       "      <td>5639467</td>\n",
       "      <td>relation</td>\n",
       "      <td>0</td>\n",
       "      <td>1</td>\n",
       "      <td>0</td>\n",
       "      <td>4</td>\n",
       "      <td>0</td>\n",
       "      <td>0</td>\n",
       "      <td>0</td>\n",
       "      <td>0</td>\n",
       "      <td>1098.37</td>\n",
       "      <td>0.00e+00</td>\n",
       "      <td>0</td>\n",
       "    </tr>\n",
       "    <tr>\n",
       "      <th>389</th>\n",
       "      <td>47643353</td>\n",
       "      <td>1</td>\n",
       "      <td>19152384</td>\n",
       "      <td>way</td>\n",
       "      <td>0</td>\n",
       "      <td>1</td>\n",
       "      <td>0</td>\n",
       "      <td>3</td>\n",
       "      <td>0</td>\n",
       "      <td>0</td>\n",
       "      <td>0</td>\n",
       "      <td>0</td>\n",
       "      <td>1.18</td>\n",
       "      <td>7.00e-03</td>\n",
       "      <td>0</td>\n",
       "    </tr>\n",
       "    <tr>\n",
       "      <th>1549</th>\n",
       "      <td>47307997</td>\n",
       "      <td>1</td>\n",
       "      <td>332091899</td>\n",
       "      <td>way</td>\n",
       "      <td>0</td>\n",
       "      <td>1</td>\n",
       "      <td>0</td>\n",
       "      <td>2</td>\n",
       "      <td>0</td>\n",
       "      <td>0</td>\n",
       "      <td>0</td>\n",
       "      <td>0</td>\n",
       "      <td>37047.15</td>\n",
       "      <td>2.74e-01</td>\n",
       "      <td>0</td>\n",
       "    </tr>\n",
       "    <tr>\n",
       "      <th>638</th>\n",
       "      <td>47531692</td>\n",
       "      <td>1</td>\n",
       "      <td>37853643</td>\n",
       "      <td>way</td>\n",
       "      <td>0</td>\n",
       "      <td>1</td>\n",
       "      <td>0</td>\n",
       "      <td>11</td>\n",
       "      <td>0</td>\n",
       "      <td>0</td>\n",
       "      <td>0</td>\n",
       "      <td>0</td>\n",
       "      <td>235.31</td>\n",
       "      <td>1.20e-02</td>\n",
       "      <td>0</td>\n",
       "    </tr>\n",
       "    <tr>\n",
       "      <th>1564</th>\n",
       "      <td>47307886</td>\n",
       "      <td>1</td>\n",
       "      <td>334204096</td>\n",
       "      <td>way</td>\n",
       "      <td>0</td>\n",
       "      <td>1</td>\n",
       "      <td>0</td>\n",
       "      <td>2</td>\n",
       "      <td>0</td>\n",
       "      <td>0</td>\n",
       "      <td>0</td>\n",
       "      <td>0</td>\n",
       "      <td>28110.97</td>\n",
       "      <td>2.52e-01</td>\n",
       "      <td>0</td>\n",
       "    </tr>\n",
       "    <tr>\n",
       "      <th>22</th>\n",
       "      <td>48837544</td>\n",
       "      <td>-1</td>\n",
       "      <td>7541058</td>\n",
       "      <td>way</td>\n",
       "      <td>0</td>\n",
       "      <td>1</td>\n",
       "      <td>0</td>\n",
       "      <td>11</td>\n",
       "      <td>0</td>\n",
       "      <td>0</td>\n",
       "      <td>-2</td>\n",
       "      <td>0</td>\n",
       "      <td>6288.84</td>\n",
       "      <td>8.77e-02</td>\n",
       "      <td>0</td>\n",
       "    </tr>\n",
       "    <tr>\n",
       "      <th>495</th>\n",
       "      <td>47540276</td>\n",
       "      <td>1</td>\n",
       "      <td>54380529</td>\n",
       "      <td>way</td>\n",
       "      <td>0</td>\n",
       "      <td>1</td>\n",
       "      <td>0</td>\n",
       "      <td>4</td>\n",
       "      <td>0</td>\n",
       "      <td>0</td>\n",
       "      <td>0</td>\n",
       "      <td>0</td>\n",
       "      <td>1360.13</td>\n",
       "      <td>4.53e-02</td>\n",
       "      <td>0</td>\n",
       "    </tr>\n",
       "    <tr>\n",
       "      <th>248</th>\n",
       "      <td>47934663</td>\n",
       "      <td>1</td>\n",
       "      <td>487836190</td>\n",
       "      <td>way</td>\n",
       "      <td>0</td>\n",
       "      <td>1</td>\n",
       "      <td>0</td>\n",
       "      <td>3</td>\n",
       "      <td>0</td>\n",
       "      <td>0</td>\n",
       "      <td>1</td>\n",
       "      <td>0</td>\n",
       "      <td>3540.37</td>\n",
       "      <td>3.22e-02</td>\n",
       "      <td>0</td>\n",
       "    </tr>\n",
       "  </tbody>\n",
       "</table>\n",
       "</div>"
      ],
      "text/plain": [
       "      changeset_id  changeset_harmful  feature_id feature_type  action_create  \\\n",
       "683       47515168                  1   185964339          way              0   \n",
       "2199      45428203                  1   193562363          way              0   \n",
       "2004      46477976                  1     5639467     relation              0   \n",
       "389       47643353                  1    19152384          way              0   \n",
       "1549      47307997                  1   332091899          way              0   \n",
       "638       47531692                  1    37853643          way              0   \n",
       "1564      47307886                  1   334204096          way              0   \n",
       "22        48837544                 -1     7541058          way              0   \n",
       "495       47540276                  1    54380529          way              0   \n",
       "248       47934663                  1   487836190          way              0   \n",
       "\n",
       "      action_modify  action_delete  feature_version  highway_tag_created  \\\n",
       "683               1              0                5                    0   \n",
       "2199              1              0                5                    0   \n",
       "2004              1              0                4                    0   \n",
       "389               1              0                3                    0   \n",
       "1549              1              0                2                    0   \n",
       "638               1              0               11                    0   \n",
       "1564              1              0                2                    0   \n",
       "22                1              0               11                    0   \n",
       "495               1              0                4                    0   \n",
       "248               1              0                3                    0   \n",
       "\n",
       "      highway_tag_deleted  highway_value_difference  primary_tags_difference  \\\n",
       "683                     0                         0                        0   \n",
       "2199                    0                         0                        0   \n",
       "2004                    0                         0                        0   \n",
       "389                     0                         0                        0   \n",
       "1549                    0                         0                        0   \n",
       "638                     0                         0                        0   \n",
       "1564                    0                         0                        0   \n",
       "22                      0                        -2                        0   \n",
       "495                     0                         0                        0   \n",
       "248                     0                         1                        0   \n",
       "\n",
       "      area_of_feature_bbox  length_of_longest_segment  feature_name_touched  \n",
       "683                7001.98                   0.00e+00                     0  \n",
       "2199                157.14                   2.56e-02                     0  \n",
       "2004               1098.37                   0.00e+00                     0  \n",
       "389                   1.18                   7.00e-03                     0  \n",
       "1549              37047.15                   2.74e-01                     0  \n",
       "638                 235.31                   1.20e-02                     0  \n",
       "1564              28110.97                   2.52e-01                     0  \n",
       "22                 6288.84                   8.77e-02                     0  \n",
       "495                1360.13                   4.53e-02                     0  \n",
       "248                3540.37                   3.22e-02                     0  "
      ]
     },
     "execution_count": 8,
     "metadata": {},
     "output_type": "execute_result"
    }
   ],
   "source": [
    "labelled = pd.read_csv(labelled_path + 'attributes.csv')\n",
    "print(labelled.shape)\n",
    "\n",
    "# Sort the dataset randomly.\n",
    "labelled = labelled.sample(labelled.shape[0], random_state=random_state)\n",
    "labelled.sample(10)"
   ]
  },
  {
   "cell_type": "code",
   "execution_count": 9,
   "metadata": {},
   "outputs": [
    {
     "name": "stdout",
     "output_type": "stream",
     "text": [
      "Shape before dropping duplicates: (2272, 15)\n",
      "Shape after dropping duplicates: (2272, 15)\n"
     ]
    }
   ],
   "source": [
    "# Drop all duplicate samples.\n",
    "print('Shape before dropping duplicates: {}'.format(labelled.shape))\n",
    "labelled = labelled.drop_duplicates(subset=['changeset_id', 'feature_id'])\n",
    "print('Shape after dropping duplicates: {}'.format(labelled.shape))"
   ]
  },
  {
   "cell_type": "code",
   "execution_count": 10,
   "metadata": {},
   "outputs": [
    {
     "data": {
      "text/html": [
       "<div>\n",
       "<table border=\"1\" class=\"dataframe\">\n",
       "  <thead>\n",
       "    <tr style=\"text-align: right;\">\n",
       "      <th></th>\n",
       "      <th>changeset_id</th>\n",
       "      <th>changeset_harmful</th>\n",
       "      <th>feature_id</th>\n",
       "      <th>action_create</th>\n",
       "      <th>action_modify</th>\n",
       "      <th>action_delete</th>\n",
       "      <th>feature_version</th>\n",
       "      <th>highway_tag_created</th>\n",
       "      <th>highway_tag_deleted</th>\n",
       "      <th>highway_value_difference</th>\n",
       "      <th>primary_tags_difference</th>\n",
       "      <th>area_of_feature_bbox</th>\n",
       "      <th>length_of_longest_segment</th>\n",
       "      <th>feature_name_touched</th>\n",
       "    </tr>\n",
       "  </thead>\n",
       "  <tbody>\n",
       "    <tr>\n",
       "      <th>count</th>\n",
       "      <td>2.27e+03</td>\n",
       "      <td>2272.00</td>\n",
       "      <td>2.27e+03</td>\n",
       "      <td>2.27e+03</td>\n",
       "      <td>2272.00</td>\n",
       "      <td>2272.0</td>\n",
       "      <td>2272.00</td>\n",
       "      <td>2272.00</td>\n",
       "      <td>2272.00</td>\n",
       "      <td>2272.00</td>\n",
       "      <td>2272.00</td>\n",
       "      <td>2.27e+03</td>\n",
       "      <td>2272.00</td>\n",
       "      <td>2.27e+03</td>\n",
       "    </tr>\n",
       "    <tr>\n",
       "      <th>mean</th>\n",
       "      <td>4.73e+07</td>\n",
       "      <td>0.95</td>\n",
       "      <td>2.75e+08</td>\n",
       "      <td>2.64e-03</td>\n",
       "      <td>1.00</td>\n",
       "      <td>0.0</td>\n",
       "      <td>6.07</td>\n",
       "      <td>0.71</td>\n",
       "      <td>0.36</td>\n",
       "      <td>0.04</td>\n",
       "      <td>0.04</td>\n",
       "      <td>1.66e+07</td>\n",
       "      <td>0.16</td>\n",
       "      <td>4.40e-04</td>\n",
       "    </tr>\n",
       "    <tr>\n",
       "      <th>std</th>\n",
       "      <td>6.79e+05</td>\n",
       "      <td>0.31</td>\n",
       "      <td>5.94e+08</td>\n",
       "      <td>5.13e-02</td>\n",
       "      <td>0.05</td>\n",
       "      <td>0.0</td>\n",
       "      <td>5.32</td>\n",
       "      <td>4.34</td>\n",
       "      <td>3.25</td>\n",
       "      <td>2.20</td>\n",
       "      <td>0.24</td>\n",
       "      <td>3.24e+08</td>\n",
       "      <td>1.07</td>\n",
       "      <td>2.10e-02</td>\n",
       "    </tr>\n",
       "    <tr>\n",
       "      <th>min</th>\n",
       "      <td>4.48e+07</td>\n",
       "      <td>-1.00</td>\n",
       "      <td>1.73e+05</td>\n",
       "      <td>0.00e+00</td>\n",
       "      <td>0.00</td>\n",
       "      <td>0.0</td>\n",
       "      <td>2.00</td>\n",
       "      <td>0.00</td>\n",
       "      <td>0.00</td>\n",
       "      <td>-26.00</td>\n",
       "      <td>-1.00</td>\n",
       "      <td>0.00e+00</td>\n",
       "      <td>0.00</td>\n",
       "      <td>0.00e+00</td>\n",
       "    </tr>\n",
       "    <tr>\n",
       "      <th>25%</th>\n",
       "      <td>4.73e+07</td>\n",
       "      <td>1.00</td>\n",
       "      <td>2.89e+07</td>\n",
       "      <td>0.00e+00</td>\n",
       "      <td>1.00</td>\n",
       "      <td>0.0</td>\n",
       "      <td>3.00</td>\n",
       "      <td>0.00</td>\n",
       "      <td>0.00</td>\n",
       "      <td>0.00</td>\n",
       "      <td>0.00</td>\n",
       "      <td>3.91e+02</td>\n",
       "      <td>0.02</td>\n",
       "      <td>0.00e+00</td>\n",
       "    </tr>\n",
       "    <tr>\n",
       "      <th>50%</th>\n",
       "      <td>4.74e+07</td>\n",
       "      <td>1.00</td>\n",
       "      <td>1.48e+08</td>\n",
       "      <td>0.00e+00</td>\n",
       "      <td>1.00</td>\n",
       "      <td>0.0</td>\n",
       "      <td>4.00</td>\n",
       "      <td>0.00</td>\n",
       "      <td>0.00</td>\n",
       "      <td>0.00</td>\n",
       "      <td>0.00</td>\n",
       "      <td>3.24e+03</td>\n",
       "      <td>0.06</td>\n",
       "      <td>0.00e+00</td>\n",
       "    </tr>\n",
       "    <tr>\n",
       "      <th>75%</th>\n",
       "      <td>4.75e+07</td>\n",
       "      <td>1.00</td>\n",
       "      <td>3.34e+08</td>\n",
       "      <td>0.00e+00</td>\n",
       "      <td>1.00</td>\n",
       "      <td>0.0</td>\n",
       "      <td>8.00</td>\n",
       "      <td>0.00</td>\n",
       "      <td>0.00</td>\n",
       "      <td>0.00</td>\n",
       "      <td>0.00</td>\n",
       "      <td>2.25e+04</td>\n",
       "      <td>0.11</td>\n",
       "      <td>0.00e+00</td>\n",
       "    </tr>\n",
       "    <tr>\n",
       "      <th>max</th>\n",
       "      <td>4.97e+07</td>\n",
       "      <td>1.00</td>\n",
       "      <td>4.85e+09</td>\n",
       "      <td>1.00e+00</td>\n",
       "      <td>1.00</td>\n",
       "      <td>0.0</td>\n",
       "      <td>62.00</td>\n",
       "      <td>42.00</td>\n",
       "      <td>42.00</td>\n",
       "      <td>22.00</td>\n",
       "      <td>3.00</td>\n",
       "      <td>1.28e+10</td>\n",
       "      <td>30.89</td>\n",
       "      <td>1.00e+00</td>\n",
       "    </tr>\n",
       "  </tbody>\n",
       "</table>\n",
       "</div>"
      ],
      "text/plain": [
       "       changeset_id  changeset_harmful  feature_id  action_create  \\\n",
       "count      2.27e+03            2272.00    2.27e+03       2.27e+03   \n",
       "mean       4.73e+07               0.95    2.75e+08       2.64e-03   \n",
       "std        6.79e+05               0.31    5.94e+08       5.13e-02   \n",
       "min        4.48e+07              -1.00    1.73e+05       0.00e+00   \n",
       "25%        4.73e+07               1.00    2.89e+07       0.00e+00   \n",
       "50%        4.74e+07               1.00    1.48e+08       0.00e+00   \n",
       "75%        4.75e+07               1.00    3.34e+08       0.00e+00   \n",
       "max        4.97e+07               1.00    4.85e+09       1.00e+00   \n",
       "\n",
       "       action_modify  action_delete  feature_version  highway_tag_created  \\\n",
       "count        2272.00         2272.0          2272.00              2272.00   \n",
       "mean            1.00            0.0             6.07                 0.71   \n",
       "std             0.05            0.0             5.32                 4.34   \n",
       "min             0.00            0.0             2.00                 0.00   \n",
       "25%             1.00            0.0             3.00                 0.00   \n",
       "50%             1.00            0.0             4.00                 0.00   \n",
       "75%             1.00            0.0             8.00                 0.00   \n",
       "max             1.00            0.0            62.00                42.00   \n",
       "\n",
       "       highway_tag_deleted  highway_value_difference  primary_tags_difference  \\\n",
       "count              2272.00                   2272.00                  2272.00   \n",
       "mean                  0.36                      0.04                     0.04   \n",
       "std                   3.25                      2.20                     0.24   \n",
       "min                   0.00                    -26.00                    -1.00   \n",
       "25%                   0.00                      0.00                     0.00   \n",
       "50%                   0.00                      0.00                     0.00   \n",
       "75%                   0.00                      0.00                     0.00   \n",
       "max                  42.00                     22.00                     3.00   \n",
       "\n",
       "       area_of_feature_bbox  length_of_longest_segment  feature_name_touched  \n",
       "count              2.27e+03                    2272.00              2.27e+03  \n",
       "mean               1.66e+07                       0.16              4.40e-04  \n",
       "std                3.24e+08                       1.07              2.10e-02  \n",
       "min                0.00e+00                       0.00              0.00e+00  \n",
       "25%                3.91e+02                       0.02              0.00e+00  \n",
       "50%                3.24e+03                       0.06              0.00e+00  \n",
       "75%                2.25e+04                       0.11              0.00e+00  \n",
       "max                1.28e+10                      30.89              1.00e+00  "
      ]
     },
     "execution_count": 10,
     "metadata": {},
     "output_type": "execute_result"
    }
   ],
   "source": [
    "labelled.describe()"
   ]
  },
  {
   "cell_type": "code",
   "execution_count": 11,
   "metadata": {},
   "outputs": [
    {
     "data": {
      "text/plain": [
       "changeset_id                 1.08e+11\n",
       "changeset_harmful            2.16e+03\n",
       "feature_id                   6.24e+11\n",
       "action_create                6.00e+00\n",
       "action_modify                2.27e+03\n",
       "action_delete                0.00e+00\n",
       "feature_version              1.38e+04\n",
       "highway_tag_created          1.62e+03\n",
       "highway_tag_deleted          8.21e+02\n",
       "highway_value_difference     9.10e+01\n",
       "primary_tags_difference      8.00e+01\n",
       "area_of_feature_bbox         3.78e+10\n",
       "length_of_longest_segment    3.62e+02\n",
       "feature_name_touched         1.00e+00\n",
       "dtype: float64"
      ]
     },
     "execution_count": 11,
     "metadata": {},
     "output_type": "execute_result"
    }
   ],
   "source": [
    "labelled.sum(numeric_only=True)"
   ]
  },
  {
   "cell_type": "code",
   "execution_count": 12,
   "metadata": {},
   "outputs": [
    {
     "name": "stdout",
     "output_type": "stream",
     "text": [
      "Total inliers: (2217, 15)\n",
      "Total outliers: (55, 15)\n"
     ]
    }
   ],
   "source": [
    "inliers = labelled[labelled['changeset_harmful'] == 1]\n",
    "print('Total inliers: {}'.format(inliers.shape))\n",
    "\n",
    "outliers = labelled[labelled['changeset_harmful'] == -1]\n",
    "print('Total outliers: {}'.format(outliers.shape))"
   ]
  },
  {
   "cell_type": "code",
   "execution_count": 13,
   "metadata": {},
   "outputs": [
    {
     "name": "stdout",
     "output_type": "stream",
     "text": [
      "Training dataset (only inliers): (1818, 15)\n",
      "Validation dataset (only inliers): (399, 15)\n",
      "Validation dataset (inliers + outliers): (454, 15)\n"
     ]
    }
   ],
   "source": [
    "total = labelled.shape[0]\n",
    "\n",
    "# 80% of the inliers will be used for training.\n",
    "training = inliers.iloc[0:round(0.8 * total)]\n",
    "training = training.reset_index(drop=True)\n",
    "print('Training dataset (only inliers): {}'.format(training.shape))\n",
    "\n",
    "# 20% of the inliers will be used for validation.\n",
    "validation = inliers.iloc[round(0.8 * total):]\n",
    "validation = validation.reset_index(drop=True)\n",
    "print('Validation dataset (only inliers): {}'.format(validation.shape))\n",
    "\n",
    "# 100% of the outliers will be used for validation too.\n",
    "validation = pd.concat([validation, outliers])\n",
    "validation = validation.reset_index(drop=True)\n",
    "print('Validation dataset (inliers + outliers): {}'.format(validation.shape))"
   ]
  },
  {
   "cell_type": "markdown",
   "metadata": {},
   "source": [
    "## Model training"
   ]
  },
  {
   "cell_type": "code",
   "execution_count": 14,
   "metadata": {
    "collapsed": true
   },
   "outputs": [],
   "source": [
    "X = training.drop(non_training_attributes, axis=1)\n",
    "y = training['changeset_harmful']"
   ]
  },
  {
   "cell_type": "code",
   "execution_count": 15,
   "metadata": {},
   "outputs": [
    {
     "data": {
      "text/plain": [
       "IsolationForest(bootstrap=False, contamination=0.1, max_features=1.0,\n",
       "        max_samples='auto', n_estimators=100, n_jobs=1, random_state=5,\n",
       "        verbose=0)"
      ]
     },
     "execution_count": 15,
     "metadata": {},
     "output_type": "execute_result"
    }
   ],
   "source": [
    "model = IsolationForest(random_state=random_state)\n",
    "model.fit(X)"
   ]
  },
  {
   "cell_type": "code",
   "execution_count": 16,
   "metadata": {},
   "outputs": [],
   "source": [
    "training['prediction'] = model.predict(X)\n",
    "training['score'] = model.decision_function(X)\n",
    "training.to_csv(labelled_path + 'training-review.csv', index=False)"
   ]
  },
  {
   "cell_type": "code",
   "execution_count": 17,
   "metadata": {},
   "outputs": [
    {
     "data": {
      "text/plain": [
       "['../gabbar/trained/model.pkl']"
      ]
     },
     "execution_count": 17,
     "metadata": {},
     "output_type": "execute_result"
    }
   ],
   "source": [
    "model_path = '../gabbar/trained/model.pkl'\n",
    "joblib.dump(model, model_path, compress=True)"
   ]
  },
  {
   "cell_type": "code",
   "execution_count": 18,
   "metadata": {},
   "outputs": [
    {
     "data": {
      "text/html": [
       "<div>\n",
       "<table border=\"1\" class=\"dataframe\">\n",
       "  <thead>\n",
       "    <tr style=\"text-align: right;\">\n",
       "      <th></th>\n",
       "      <th>Predicted harmful</th>\n",
       "      <th>Predicted good</th>\n",
       "    </tr>\n",
       "  </thead>\n",
       "  <tbody>\n",
       "    <tr>\n",
       "      <th>Labelled harmful</th>\n",
       "      <td>0</td>\n",
       "      <td>0</td>\n",
       "    </tr>\n",
       "    <tr>\n",
       "      <th>Labelled good</th>\n",
       "      <td>182</td>\n",
       "      <td>1636</td>\n",
       "    </tr>\n",
       "  </tbody>\n",
       "</table>\n",
       "</div>"
      ],
      "text/plain": [
       "                  Predicted harmful  Predicted good\n",
       "Labelled harmful                  0               0\n",
       "Labelled good                   182            1636"
      ]
     },
     "execution_count": 18,
     "metadata": {},
     "output_type": "execute_result"
    }
   ],
   "source": [
    "matrix = confusion_matrix(y, training['prediction'])\n",
    "matrix = pd.DataFrame(matrix, index=['Labelled harmful', 'Labelled good'], columns=['Predicted harmful', 'Predicted good'])\n",
    "matrix"
   ]
  },
  {
   "cell_type": "code",
   "execution_count": 19,
   "metadata": {},
   "outputs": [
    {
     "name": "stdout",
     "output_type": "stream",
     "text": [
      "             precision    recall  f1-score   support\n",
      "\n",
      "         -1       0.00      0.00      0.00         0\n",
      "          1       1.00      0.90      0.95      1818\n",
      "\n",
      "avg / total       1.00      0.90      0.95      1818\n",
      "\n"
     ]
    }
   ],
   "source": [
    "report = classification_report(y, training['prediction'])\n",
    "print(report)"
   ]
  },
  {
   "cell_type": "code",
   "execution_count": 20,
   "metadata": {},
   "outputs": [
    {
     "data": {
      "text/html": [
       "<div>\n",
       "<table border=\"1\" class=\"dataframe\">\n",
       "  <thead>\n",
       "    <tr style=\"text-align: right;\">\n",
       "      <th></th>\n",
       "      <th>score</th>\n",
       "    </tr>\n",
       "  </thead>\n",
       "  <tbody>\n",
       "    <tr>\n",
       "      <th>count</th>\n",
       "      <td>1818.00</td>\n",
       "    </tr>\n",
       "    <tr>\n",
       "      <th>mean</th>\n",
       "      <td>0.16</td>\n",
       "    </tr>\n",
       "    <tr>\n",
       "      <th>std</th>\n",
       "      <td>0.07</td>\n",
       "    </tr>\n",
       "    <tr>\n",
       "      <th>min</th>\n",
       "      <td>-0.27</td>\n",
       "    </tr>\n",
       "    <tr>\n",
       "      <th>25%</th>\n",
       "      <td>0.17</td>\n",
       "    </tr>\n",
       "    <tr>\n",
       "      <th>50%</th>\n",
       "      <td>0.19</td>\n",
       "    </tr>\n",
       "    <tr>\n",
       "      <th>75%</th>\n",
       "      <td>0.19</td>\n",
       "    </tr>\n",
       "    <tr>\n",
       "      <th>max</th>\n",
       "      <td>0.19</td>\n",
       "    </tr>\n",
       "  </tbody>\n",
       "</table>\n",
       "</div>"
      ],
      "text/plain": [
       "         score\n",
       "count  1818.00\n",
       "mean      0.16\n",
       "std       0.07\n",
       "min      -0.27\n",
       "25%       0.17\n",
       "50%       0.19\n",
       "75%       0.19\n",
       "max       0.19"
      ]
     },
     "execution_count": 20,
     "metadata": {},
     "output_type": "execute_result"
    },
    {
     "data": {
      "image/png": "[encoded data removed]",
      "text/plain": [
       "<matplotlib.figure.Figure at 0x10fe54f28>"
      ]
     },
     "metadata": {
      "image/png": {
       "height": 476,
       "width": 702
      }
     },
     "output_type": "display_data"
    }
   ],
   "source": [
    "ax = training['score'].plot.hist()\n",
    "ax.set_yscale('log')\n",
    "\n",
    "training[['score']].describe()"
   ]
  },
  {
   "cell_type": "markdown",
   "metadata": {
    "collapsed": true
   },
   "source": [
    "## Model validation"
   ]
  },
  {
   "cell_type": "code",
   "execution_count": 21,
   "metadata": {},
   "outputs": [
    {
     "data": {
      "text/plain": [
       "changeset_harmful\n",
       "-1     55\n",
       " 1    399\n",
       "dtype: int64"
      ]
     },
     "execution_count": 21,
     "metadata": {},
     "output_type": "execute_result"
    }
   ],
   "source": [
    "validation.groupby('changeset_harmful').size()"
   ]
  },
  {
   "cell_type": "code",
   "execution_count": 22,
   "metadata": {
    "collapsed": true
   },
   "outputs": [],
   "source": [
    "vX = validation.drop(non_training_attributes, axis=1)\n",
    "vy = validation['changeset_harmful']"
   ]
  },
  {
   "cell_type": "code",
   "execution_count": 23,
   "metadata": {
    "collapsed": true
   },
   "outputs": [],
   "source": [
    "validation['prediction'] = model.predict(vX)\n",
    "validation['score'] = model.decision_function(vX)\n",
    "\n",
    "validation.to_csv(labelled_path + 'validation-review.csv', index=False)"
   ]
  },
  {
   "cell_type": "code",
   "execution_count": 24,
   "metadata": {},
   "outputs": [
    {
     "data": {
      "text/html": [
       "<div>\n",
       "<table border=\"1\" class=\"dataframe\">\n",
       "  <thead>\n",
       "    <tr style=\"text-align: right;\">\n",
       "      <th></th>\n",
       "      <th>Predicted harmful</th>\n",
       "      <th>Predicted good</th>\n",
       "    </tr>\n",
       "  </thead>\n",
       "  <tbody>\n",
       "    <tr>\n",
       "      <th>Labelled harmful</th>\n",
       "      <td>36</td>\n",
       "      <td>19</td>\n",
       "    </tr>\n",
       "    <tr>\n",
       "      <th>Labelled good</th>\n",
       "      <td>41</td>\n",
       "      <td>358</td>\n",
       "    </tr>\n",
       "  </tbody>\n",
       "</table>\n",
       "</div>"
      ],
      "text/plain": [
       "                  Predicted harmful  Predicted good\n",
       "Labelled harmful                 36              19\n",
       "Labelled good                    41             358"
      ]
     },
     "execution_count": 24,
     "metadata": {},
     "output_type": "execute_result"
    }
   ],
   "source": [
    "matrix = confusion_matrix(vy, validation['prediction'])\n",
    "matrix = pd.DataFrame(matrix, index=['Labelled harmful', 'Labelled good'], columns=['Predicted harmful', 'Predicted good'])\n",
    "matrix"
   ]
  },
  {
   "cell_type": "code",
   "execution_count": 25,
   "metadata": {},
   "outputs": [
    {
     "name": "stdout",
     "output_type": "stream",
     "text": [
      "             precision    recall  f1-score   support\n",
      "\n",
      "         -1       0.47      0.65      0.55        55\n",
      "          1       0.95      0.90      0.92       399\n",
      "\n",
      "avg / total       0.89      0.87      0.88       454\n",
      "\n"
     ]
    }
   ],
   "source": [
    "report = classification_report(vy, validation['prediction'])\n",
    "print(report)"
   ]
  },
  {
   "cell_type": "code",
   "execution_count": 26,
   "metadata": {},
   "outputs": [
    {
     "data": {
      "text/html": [
       "<div>\n",
       "<table border=\"1\" class=\"dataframe\">\n",
       "  <thead>\n",
       "    <tr style=\"text-align: right;\">\n",
       "      <th></th>\n",
       "      <th>score</th>\n",
       "    </tr>\n",
       "  </thead>\n",
       "  <tbody>\n",
       "    <tr>\n",
       "      <th>count</th>\n",
       "      <td>454.00</td>\n",
       "    </tr>\n",
       "    <tr>\n",
       "      <th>mean</th>\n",
       "      <td>0.14</td>\n",
       "    </tr>\n",
       "    <tr>\n",
       "      <th>std</th>\n",
       "      <td>0.09</td>\n",
       "    </tr>\n",
       "    <tr>\n",
       "      <th>min</th>\n",
       "      <td>-0.24</td>\n",
       "    </tr>\n",
       "    <tr>\n",
       "      <th>25%</th>\n",
       "      <td>0.15</td>\n",
       "    </tr>\n",
       "    <tr>\n",
       "      <th>50%</th>\n",
       "      <td>0.18</td>\n",
       "    </tr>\n",
       "    <tr>\n",
       "      <th>75%</th>\n",
       "      <td>0.19</td>\n",
       "    </tr>\n",
       "    <tr>\n",
       "      <th>max</th>\n",
       "      <td>0.19</td>\n",
       "    </tr>\n",
       "  </tbody>\n",
       "</table>\n",
       "</div>"
      ],
      "text/plain": [
       "        score\n",
       "count  454.00\n",
       "mean     0.14\n",
       "std      0.09\n",
       "min     -0.24\n",
       "25%      0.15\n",
       "50%      0.18\n",
       "75%      0.19\n",
       "max      0.19"
      ]
     },
     "execution_count": 26,
     "metadata": {},
     "output_type": "execute_result"
    },
    {
     "data": {
      "image/png": "[encoded data removed]",
      "text/plain": [
       "<matplotlib.figure.Figure at 0x11024d080>"
      ]
     },
     "metadata": {
      "image/png": {
       "height": 476,
       "width": 706
      }
     },
     "output_type": "display_data"
    }
   ],
   "source": [
    "ax = validation['score'].plot.hist()\n",
    "ax.set_yscale('log')\n",
    "\n",
    "validation[['score']].describe()"
   ]
  },
  {
   "cell_type": "markdown",
   "metadata": {},
   "source": [
    "## Model testing"
   ]
  },
  {
   "cell_type": "code",
   "execution_count": 27,
   "metadata": {
    "collapsed": true
   },
   "outputs": [],
   "source": [
    "unlabelled_path = testing_path = '../downloads/anomaly-detection/unlabelled/'"
   ]
  },
  {
   "cell_type": "code",
   "execution_count": 28,
   "metadata": {},
   "outputs": [
    {
     "name": "stdout",
     "output_type": "stream",
     "text": [
      "(288, 15)\n"
     ]
    },
    {
     "data": {
      "text/html": [
       "<div>\n",
       "<table border=\"1\" class=\"dataframe\">\n",
       "  <thead>\n",
       "    <tr style=\"text-align: right;\">\n",
       "      <th></th>\n",
       "      <th>changeset_id</th>\n",
       "      <th>changeset_harmful</th>\n",
       "      <th>feature_id</th>\n",
       "      <th>feature_type</th>\n",
       "      <th>action_create</th>\n",
       "      <th>action_modify</th>\n",
       "      <th>action_delete</th>\n",
       "      <th>feature_version</th>\n",
       "      <th>highway_tag_created</th>\n",
       "      <th>highway_tag_deleted</th>\n",
       "      <th>highway_value_difference</th>\n",
       "      <th>primary_tags_difference</th>\n",
       "      <th>area_of_feature_bbox</th>\n",
       "      <th>length_of_longest_segment</th>\n",
       "      <th>feature_name_touched</th>\n",
       "    </tr>\n",
       "  </thead>\n",
       "  <tbody>\n",
       "    <tr>\n",
       "      <th>170</th>\n",
       "      <td>49173915</td>\n",
       "      <td>NaN</td>\n",
       "      <td>4890387622</td>\n",
       "      <td>node</td>\n",
       "      <td>1</td>\n",
       "      <td>0</td>\n",
       "      <td>0</td>\n",
       "      <td>1</td>\n",
       "      <td>7</td>\n",
       "      <td>0</td>\n",
       "      <td>0</td>\n",
       "      <td>1</td>\n",
       "      <td>0.00</td>\n",
       "      <td>0.00</td>\n",
       "      <td>0</td>\n",
       "    </tr>\n",
       "    <tr>\n",
       "      <th>157</th>\n",
       "      <td>49174472</td>\n",
       "      <td>NaN</td>\n",
       "      <td>66730509</td>\n",
       "      <td>way</td>\n",
       "      <td>0</td>\n",
       "      <td>1</td>\n",
       "      <td>0</td>\n",
       "      <td>13</td>\n",
       "      <td>0</td>\n",
       "      <td>0</td>\n",
       "      <td>0</td>\n",
       "      <td>0</td>\n",
       "      <td>32688.76</td>\n",
       "      <td>0.06</td>\n",
       "      <td>0</td>\n",
       "    </tr>\n",
       "    <tr>\n",
       "      <th>83</th>\n",
       "      <td>49177219</td>\n",
       "      <td>NaN</td>\n",
       "      <td>49455864</td>\n",
       "      <td>way</td>\n",
       "      <td>0</td>\n",
       "      <td>1</td>\n",
       "      <td>0</td>\n",
       "      <td>9</td>\n",
       "      <td>0</td>\n",
       "      <td>0</td>\n",
       "      <td>0</td>\n",
       "      <td>0</td>\n",
       "      <td>43161.67</td>\n",
       "      <td>0.07</td>\n",
       "      <td>0</td>\n",
       "    </tr>\n",
       "    <tr>\n",
       "      <th>93</th>\n",
       "      <td>49176720</td>\n",
       "      <td>NaN</td>\n",
       "      <td>125299795</td>\n",
       "      <td>way</td>\n",
       "      <td>0</td>\n",
       "      <td>1</td>\n",
       "      <td>0</td>\n",
       "      <td>6</td>\n",
       "      <td>0</td>\n",
       "      <td>0</td>\n",
       "      <td>0</td>\n",
       "      <td>0</td>\n",
       "      <td>1066.76</td>\n",
       "      <td>0.17</td>\n",
       "      <td>0</td>\n",
       "    </tr>\n",
       "    <tr>\n",
       "      <th>137</th>\n",
       "      <td>49175123</td>\n",
       "      <td>NaN</td>\n",
       "      <td>497489531</td>\n",
       "      <td>way</td>\n",
       "      <td>0</td>\n",
       "      <td>1</td>\n",
       "      <td>0</td>\n",
       "      <td>2</td>\n",
       "      <td>0</td>\n",
       "      <td>0</td>\n",
       "      <td>0</td>\n",
       "      <td>0</td>\n",
       "      <td>14062.08</td>\n",
       "      <td>0.09</td>\n",
       "      <td>0</td>\n",
       "    </tr>\n",
       "    <tr>\n",
       "      <th>64</th>\n",
       "      <td>49177883</td>\n",
       "      <td>NaN</td>\n",
       "      <td>437292804</td>\n",
       "      <td>way</td>\n",
       "      <td>0</td>\n",
       "      <td>1</td>\n",
       "      <td>0</td>\n",
       "      <td>3</td>\n",
       "      <td>0</td>\n",
       "      <td>0</td>\n",
       "      <td>0</td>\n",
       "      <td>0</td>\n",
       "      <td>59725.69</td>\n",
       "      <td>0.03</td>\n",
       "      <td>0</td>\n",
       "    </tr>\n",
       "    <tr>\n",
       "      <th>81</th>\n",
       "      <td>49177247</td>\n",
       "      <td>NaN</td>\n",
       "      <td>207759084</td>\n",
       "      <td>way</td>\n",
       "      <td>0</td>\n",
       "      <td>1</td>\n",
       "      <td>0</td>\n",
       "      <td>4</td>\n",
       "      <td>0</td>\n",
       "      <td>0</td>\n",
       "      <td>0</td>\n",
       "      <td>0</td>\n",
       "      <td>74643.49</td>\n",
       "      <td>0.06</td>\n",
       "      <td>0</td>\n",
       "    </tr>\n",
       "    <tr>\n",
       "      <th>114</th>\n",
       "      <td>49176060</td>\n",
       "      <td>NaN</td>\n",
       "      <td>136990669</td>\n",
       "      <td>way</td>\n",
       "      <td>0</td>\n",
       "      <td>1</td>\n",
       "      <td>0</td>\n",
       "      <td>8</td>\n",
       "      <td>0</td>\n",
       "      <td>0</td>\n",
       "      <td>0</td>\n",
       "      <td>0</td>\n",
       "      <td>156.06</td>\n",
       "      <td>0.07</td>\n",
       "      <td>0</td>\n",
       "    </tr>\n",
       "    <tr>\n",
       "      <th>62</th>\n",
       "      <td>49177914</td>\n",
       "      <td>NaN</td>\n",
       "      <td>109724035</td>\n",
       "      <td>way</td>\n",
       "      <td>0</td>\n",
       "      <td>1</td>\n",
       "      <td>0</td>\n",
       "      <td>2</td>\n",
       "      <td>0</td>\n",
       "      <td>0</td>\n",
       "      <td>1</td>\n",
       "      <td>0</td>\n",
       "      <td>20109.72</td>\n",
       "      <td>0.15</td>\n",
       "      <td>0</td>\n",
       "    </tr>\n",
       "    <tr>\n",
       "      <th>106</th>\n",
       "      <td>49176254</td>\n",
       "      <td>NaN</td>\n",
       "      <td>383568919</td>\n",
       "      <td>way</td>\n",
       "      <td>0</td>\n",
       "      <td>1</td>\n",
       "      <td>0</td>\n",
       "      <td>2</td>\n",
       "      <td>0</td>\n",
       "      <td>0</td>\n",
       "      <td>0</td>\n",
       "      <td>0</td>\n",
       "      <td>34223.55</td>\n",
       "      <td>0.08</td>\n",
       "      <td>0</td>\n",
       "    </tr>\n",
       "  </tbody>\n",
       "</table>\n",
       "</div>"
      ],
      "text/plain": [
       "     changeset_id  changeset_harmful  feature_id feature_type  action_create  \\\n",
       "170      49173915                NaN  4890387622         node              1   \n",
       "157      49174472                NaN    66730509          way              0   \n",
       "83       49177219                NaN    49455864          way              0   \n",
       "93       49176720                NaN   125299795          way              0   \n",
       "137      49175123                NaN   497489531          way              0   \n",
       "64       49177883                NaN   437292804          way              0   \n",
       "81       49177247                NaN   207759084          way              0   \n",
       "114      49176060                NaN   136990669          way              0   \n",
       "62       49177914                NaN   109724035          way              0   \n",
       "106      49176254                NaN   383568919          way              0   \n",
       "\n",
       "     action_modify  action_delete  feature_version  highway_tag_created  \\\n",
       "170              0              0                1                    7   \n",
       "157              1              0               13                    0   \n",
       "83               1              0                9                    0   \n",
       "93               1              0                6                    0   \n",
       "137              1              0                2                    0   \n",
       "64               1              0                3                    0   \n",
       "81               1              0                4                    0   \n",
       "114              1              0                8                    0   \n",
       "62               1              0                2                    0   \n",
       "106              1              0                2                    0   \n",
       "\n",
       "     highway_tag_deleted  highway_value_difference  primary_tags_difference  \\\n",
       "170                    0                         0                        1   \n",
       "157                    0                         0                        0   \n",
       "83                     0                         0                        0   \n",
       "93                     0                         0                        0   \n",
       "137                    0                         0                        0   \n",
       "64                     0                         0                        0   \n",
       "81                     0                         0                        0   \n",
       "114                    0                         0                        0   \n",
       "62                     0                         1                        0   \n",
       "106                    0                         0                        0   \n",
       "\n",
       "     area_of_feature_bbox  length_of_longest_segment  feature_name_touched  \n",
       "170                  0.00                       0.00                     0  \n",
       "157              32688.76                       0.06                     0  \n",
       "83               43161.67                       0.07                     0  \n",
       "93                1066.76                       0.17                     0  \n",
       "137              14062.08                       0.09                     0  \n",
       "64               59725.69                       0.03                     0  \n",
       "81               74643.49                       0.06                     0  \n",
       "114                156.06                       0.07                     0  \n",
       "62               20109.72                       0.15                     0  \n",
       "106              34223.55                       0.08                     0  "
      ]
     },
     "execution_count": 28,
     "metadata": {},
     "output_type": "execute_result"
    }
   ],
   "source": [
    "unlabelled = pd.read_csv(unlabelled_path + 'attributes.csv')\n",
    "print(unlabelled.shape)\n",
    "unlabelled.sample(10)"
   ]
  },
  {
   "cell_type": "code",
   "execution_count": 29,
   "metadata": {},
   "outputs": [
    {
     "name": "stdout",
     "output_type": "stream",
     "text": [
      "Shape before dropping duplicates: (288, 15)\n",
      "Shape after dropping duplicates: (288, 15)\n"
     ]
    }
   ],
   "source": [
    "# Drop all duplicate samples.\n",
    "print('Shape before dropping duplicates: {}'.format(unlabelled.shape))\n",
    "unlabelled = unlabelled.drop_duplicates(subset=['changeset_id', 'feature_id'])\n",
    "print('Shape after dropping duplicates: {}'.format(unlabelled.shape))"
   ]
  },
  {
   "cell_type": "code",
   "execution_count": 30,
   "metadata": {
    "collapsed": true
   },
   "outputs": [],
   "source": [
    "# Using all of the unlabelled dataset for testing.\n",
    "testing = unlabelled.sample(unlabelled.shape[0])"
   ]
  },
  {
   "cell_type": "code",
   "execution_count": 31,
   "metadata": {},
   "outputs": [
    {
     "data": {
      "text/html": [
       "<div>\n",
       "<table border=\"1\" class=\"dataframe\">\n",
       "  <thead>\n",
       "    <tr style=\"text-align: right;\">\n",
       "      <th></th>\n",
       "      <th>changeset_id</th>\n",
       "      <th>changeset_harmful</th>\n",
       "      <th>feature_id</th>\n",
       "      <th>action_create</th>\n",
       "      <th>action_modify</th>\n",
       "      <th>action_delete</th>\n",
       "      <th>feature_version</th>\n",
       "      <th>highway_tag_created</th>\n",
       "      <th>highway_tag_deleted</th>\n",
       "      <th>highway_value_difference</th>\n",
       "      <th>primary_tags_difference</th>\n",
       "      <th>area_of_feature_bbox</th>\n",
       "      <th>length_of_longest_segment</th>\n",
       "      <th>feature_name_touched</th>\n",
       "    </tr>\n",
       "  </thead>\n",
       "  <tbody>\n",
       "    <tr>\n",
       "      <th>count</th>\n",
       "      <td>2.88e+02</td>\n",
       "      <td>0.0</td>\n",
       "      <td>2.88e+02</td>\n",
       "      <td>288.00</td>\n",
       "      <td>288.00</td>\n",
       "      <td>288.00</td>\n",
       "      <td>288.00</td>\n",
       "      <td>288.00</td>\n",
       "      <td>288.00</td>\n",
       "      <td>288.00</td>\n",
       "      <td>288.00</td>\n",
       "      <td>2.88e+02</td>\n",
       "      <td>288.00</td>\n",
       "      <td>288.00</td>\n",
       "    </tr>\n",
       "    <tr>\n",
       "      <th>mean</th>\n",
       "      <td>4.92e+07</td>\n",
       "      <td>NaN</td>\n",
       "      <td>5.11e+08</td>\n",
       "      <td>0.04</td>\n",
       "      <td>0.95</td>\n",
       "      <td>0.01</td>\n",
       "      <td>4.67</td>\n",
       "      <td>1.65</td>\n",
       "      <td>1.28</td>\n",
       "      <td>-0.89</td>\n",
       "      <td>0.06</td>\n",
       "      <td>2.69e+06</td>\n",
       "      <td>0.11</td>\n",
       "      <td>0.01</td>\n",
       "    </tr>\n",
       "    <tr>\n",
       "      <th>std</th>\n",
       "      <td>2.88e+03</td>\n",
       "      <td>NaN</td>\n",
       "      <td>1.02e+09</td>\n",
       "      <td>0.19</td>\n",
       "      <td>0.22</td>\n",
       "      <td>0.12</td>\n",
       "      <td>3.92</td>\n",
       "      <td>6.43</td>\n",
       "      <td>6.26</td>\n",
       "      <td>4.67</td>\n",
       "      <td>0.37</td>\n",
       "      <td>2.57e+07</td>\n",
       "      <td>0.26</td>\n",
       "      <td>0.12</td>\n",
       "    </tr>\n",
       "    <tr>\n",
       "      <th>min</th>\n",
       "      <td>4.92e+07</td>\n",
       "      <td>NaN</td>\n",
       "      <td>4.31e+06</td>\n",
       "      <td>0.00</td>\n",
       "      <td>0.00</td>\n",
       "      <td>0.00</td>\n",
       "      <td>1.00</td>\n",
       "      <td>0.00</td>\n",
       "      <td>0.00</td>\n",
       "      <td>-35.00</td>\n",
       "      <td>-1.00</td>\n",
       "      <td>0.00e+00</td>\n",
       "      <td>0.00</td>\n",
       "      <td>0.00</td>\n",
       "    </tr>\n",
       "    <tr>\n",
       "      <th>25%</th>\n",
       "      <td>4.92e+07</td>\n",
       "      <td>NaN</td>\n",
       "      <td>1.03e+08</td>\n",
       "      <td>0.00</td>\n",
       "      <td>1.00</td>\n",
       "      <td>0.00</td>\n",
       "      <td>2.00</td>\n",
       "      <td>0.00</td>\n",
       "      <td>0.00</td>\n",
       "      <td>0.00</td>\n",
       "      <td>0.00</td>\n",
       "      <td>4.09e+02</td>\n",
       "      <td>0.02</td>\n",
       "      <td>0.00</td>\n",
       "    </tr>\n",
       "    <tr>\n",
       "      <th>50%</th>\n",
       "      <td>4.92e+07</td>\n",
       "      <td>NaN</td>\n",
       "      <td>3.05e+08</td>\n",
       "      <td>0.00</td>\n",
       "      <td>1.00</td>\n",
       "      <td>0.00</td>\n",
       "      <td>3.00</td>\n",
       "      <td>0.00</td>\n",
       "      <td>0.00</td>\n",
       "      <td>0.00</td>\n",
       "      <td>0.00</td>\n",
       "      <td>4.57e+03</td>\n",
       "      <td>0.05</td>\n",
       "      <td>0.00</td>\n",
       "    </tr>\n",
       "    <tr>\n",
       "      <th>75%</th>\n",
       "      <td>4.92e+07</td>\n",
       "      <td>NaN</td>\n",
       "      <td>4.54e+08</td>\n",
       "      <td>0.00</td>\n",
       "      <td>1.00</td>\n",
       "      <td>0.00</td>\n",
       "      <td>5.00</td>\n",
       "      <td>0.00</td>\n",
       "      <td>0.00</td>\n",
       "      <td>0.00</td>\n",
       "      <td>0.00</td>\n",
       "      <td>3.82e+04</td>\n",
       "      <td>0.10</td>\n",
       "      <td>0.00</td>\n",
       "    </tr>\n",
       "    <tr>\n",
       "      <th>max</th>\n",
       "      <td>4.92e+07</td>\n",
       "      <td>NaN</td>\n",
       "      <td>4.89e+09</td>\n",
       "      <td>1.00</td>\n",
       "      <td>1.00</td>\n",
       "      <td>1.00</td>\n",
       "      <td>28.00</td>\n",
       "      <td>41.00</td>\n",
       "      <td>37.00</td>\n",
       "      <td>16.00</td>\n",
       "      <td>2.00</td>\n",
       "      <td>4.04e+08</td>\n",
       "      <td>3.02</td>\n",
       "      <td>1.00</td>\n",
       "    </tr>\n",
       "  </tbody>\n",
       "</table>\n",
       "</div>"
      ],
      "text/plain": [
       "       changeset_id  changeset_harmful  feature_id  action_create  \\\n",
       "count      2.88e+02                0.0    2.88e+02         288.00   \n",
       "mean       4.92e+07                NaN    5.11e+08           0.04   \n",
       "std        2.88e+03                NaN    1.02e+09           0.19   \n",
       "min        4.92e+07                NaN    4.31e+06           0.00   \n",
       "25%        4.92e+07                NaN    1.03e+08           0.00   \n",
       "50%        4.92e+07                NaN    3.05e+08           0.00   \n",
       "75%        4.92e+07                NaN    4.54e+08           0.00   \n",
       "max        4.92e+07                NaN    4.89e+09           1.00   \n",
       "\n",
       "       action_modify  action_delete  feature_version  highway_tag_created  \\\n",
       "count         288.00         288.00           288.00               288.00   \n",
       "mean            0.95           0.01             4.67                 1.65   \n",
       "std             0.22           0.12             3.92                 6.43   \n",
       "min             0.00           0.00             1.00                 0.00   \n",
       "25%             1.00           0.00             2.00                 0.00   \n",
       "50%             1.00           0.00             3.00                 0.00   \n",
       "75%             1.00           0.00             5.00                 0.00   \n",
       "max             1.00           1.00            28.00                41.00   \n",
       "\n",
       "       highway_tag_deleted  highway_value_difference  primary_tags_difference  \\\n",
       "count               288.00                    288.00                   288.00   \n",
       "mean                  1.28                     -0.89                     0.06   \n",
       "std                   6.26                      4.67                     0.37   \n",
       "min                   0.00                    -35.00                    -1.00   \n",
       "25%                   0.00                      0.00                     0.00   \n",
       "50%                   0.00                      0.00                     0.00   \n",
       "75%                   0.00                      0.00                     0.00   \n",
       "max                  37.00                     16.00                     2.00   \n",
       "\n",
       "       area_of_feature_bbox  length_of_longest_segment  feature_name_touched  \n",
       "count              2.88e+02                     288.00                288.00  \n",
       "mean               2.69e+06                       0.11                  0.01  \n",
       "std                2.57e+07                       0.26                  0.12  \n",
       "min                0.00e+00                       0.00                  0.00  \n",
       "25%                4.09e+02                       0.02                  0.00  \n",
       "50%                4.57e+03                       0.05                  0.00  \n",
       "75%                3.82e+04                       0.10                  0.00  \n",
       "max                4.04e+08                       3.02                  1.00  "
      ]
     },
     "execution_count": 31,
     "metadata": {},
     "output_type": "execute_result"
    }
   ],
   "source": [
    "testing.describe()"
   ]
  },
  {
   "cell_type": "code",
   "execution_count": 32,
   "metadata": {},
   "outputs": [
    {
     "data": {
      "text/plain": [
       "changeset_id                 1.42e+10\n",
       "changeset_harmful            0.00e+00\n",
       "feature_id                   1.47e+11\n",
       "action_create                1.10e+01\n",
       "action_modify                2.73e+02\n",
       "action_delete                4.00e+00\n",
       "feature_version              1.34e+03\n",
       "highway_tag_created          4.74e+02\n",
       "highway_tag_deleted          3.70e+02\n",
       "highway_value_difference    -2.57e+02\n",
       "primary_tags_difference      1.70e+01\n",
       "area_of_feature_bbox         7.75e+08\n",
       "length_of_longest_segment    3.24e+01\n",
       "feature_name_touched         4.00e+00\n",
       "dtype: float64"
      ]
     },
     "execution_count": 32,
     "metadata": {},
     "output_type": "execute_result"
    }
   ],
   "source": [
    "testing.sum(numeric_only=True)"
   ]
  },
  {
   "cell_type": "code",
   "execution_count": 33,
   "metadata": {
    "collapsed": true
   },
   "outputs": [],
   "source": [
    "tX = testing.drop(non_training_attributes, axis=1)\n",
    "ty = testing['changeset_harmful']"
   ]
  },
  {
   "cell_type": "code",
   "execution_count": 34,
   "metadata": {
    "collapsed": true
   },
   "outputs": [],
   "source": [
    "testing['prediction'] = model.predict(tX)\n",
    "testing['score'] = model.decision_function(tX)\n",
    "\n",
    "testing.to_csv(unlabelled_path + 'testing-review.csv', index=False)"
   ]
  },
  {
   "cell_type": "code",
   "execution_count": 35,
   "metadata": {},
   "outputs": [
    {
     "name": "stdout",
     "output_type": "stream",
     "text": [
      "Predicted good: 221\n",
      "Predicted harmful: 67\n",
      "Percentage harmful: 23.26%\n"
     ]
    }
   ],
   "source": [
    "tharmful_count = testing[testing['prediction'] == -1].shape[0]\n",
    "tnot_harmful_count = testing[testing['prediction'] == 1].shape[0]\n",
    "\n",
    "print('Predicted good: {}'.format(tnot_harmful_count))\n",
    "print('Predicted harmful: {}'.format(tharmful_count))\n",
    "\n",
    "print('Percentage harmful: {}%'.format(round(100.0 * tharmful_count / testing.shape[0], 2)))"
   ]
  },
  {
   "cell_type": "code",
   "execution_count": 36,
   "metadata": {},
   "outputs": [
    {
     "data": {
      "text/html": [
       "<div>\n",
       "<table border=\"1\" class=\"dataframe\">\n",
       "  <thead>\n",
       "    <tr style=\"text-align: right;\">\n",
       "      <th></th>\n",
       "      <th>score</th>\n",
       "    </tr>\n",
       "  </thead>\n",
       "  <tbody>\n",
       "    <tr>\n",
       "      <th>count</th>\n",
       "      <td>288.00</td>\n",
       "    </tr>\n",
       "    <tr>\n",
       "      <th>mean</th>\n",
       "      <td>0.13</td>\n",
       "    </tr>\n",
       "    <tr>\n",
       "      <th>std</th>\n",
       "      <td>0.10</td>\n",
       "    </tr>\n",
       "    <tr>\n",
       "      <th>min</th>\n",
       "      <td>-0.20</td>\n",
       "    </tr>\n",
       "    <tr>\n",
       "      <th>25%</th>\n",
       "      <td>0.12</td>\n",
       "    </tr>\n",
       "    <tr>\n",
       "      <th>50%</th>\n",
       "      <td>0.18</td>\n",
       "    </tr>\n",
       "    <tr>\n",
       "      <th>75%</th>\n",
       "      <td>0.19</td>\n",
       "    </tr>\n",
       "    <tr>\n",
       "      <th>max</th>\n",
       "      <td>0.19</td>\n",
       "    </tr>\n",
       "  </tbody>\n",
       "</table>\n",
       "</div>"
      ],
      "text/plain": [
       "        score\n",
       "count  288.00\n",
       "mean     0.13\n",
       "std      0.10\n",
       "min     -0.20\n",
       "25%      0.12\n",
       "50%      0.18\n",
       "75%      0.19\n",
       "max      0.19"
      ]
     },
     "execution_count": 36,
     "metadata": {},
     "output_type": "execute_result"
    },
    {
     "data": {
      "image/png": "[encoded data removed]",
      "text/plain": [
       "<matplotlib.figure.Figure at 0x11404d358>"
      ]
     },
     "metadata": {
      "image/png": {
       "height": 476,
       "width": 706
      }
     },
     "output_type": "display_data"
    }
   ],
   "source": [
    "ax = testing['score'].plot.hist()\n",
    "ax.set_yscale('log')\n",
    "\n",
    "testing[['score']].describe()"
   ]
  }
 ],
 "metadata": {
  "anaconda-cloud": {},
  "kernelspec": {
   "display_name": "Python [conda root]",
   "language": "python",
   "name": "conda-root-py"
  },
  "language_info": {
   "codemirror_mode": {
    "name": "ipython",
    "version": 3
   },
   "file_extension": ".py",
   "mimetype": "text/x-python",
   "name": "python",
   "nbconvert_exporter": "python",
   "pygments_lexer": "ipython3",
   "version": "3.5.2"
  }
 },
 "nbformat": 4,
 "nbformat_minor": 2
}
