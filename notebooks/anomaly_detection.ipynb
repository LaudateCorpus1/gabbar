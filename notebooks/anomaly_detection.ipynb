{
 "cells": [
  {
   "cell_type": "markdown",
   "metadata": {},
   "source": [
    "# Anomaly detection - Gabbar"
   ]
  },
  {
   "cell_type": "code",
   "execution_count": 1,
   "metadata": {
    "collapsed": true
   },
   "outputs": [],
   "source": [
    "%matplotlib inline\n",
    "%config InlineBackend.figure_format = 'retina'\n",
    "\n",
    "import warnings\n",
    "warnings.filterwarnings(\"ignore\")"
   ]
  },
  {
   "cell_type": "code",
   "execution_count": 2,
   "metadata": {
    "collapsed": true
   },
   "outputs": [],
   "source": [
    "import pandas as pd\n",
    "import numpy as np\n",
    "import matplotlib.pyplot as plt\n",
    "import seaborn as sns"
   ]
  },
  {
   "cell_type": "code",
   "execution_count": 3,
   "metadata": {
    "collapsed": true
   },
   "outputs": [],
   "source": [
    "from sklearn.model_selection import cross_val_score\n",
    "from sklearn.ensemble import IsolationForest"
   ]
  },
  {
   "cell_type": "code",
   "execution_count": 4,
   "metadata": {
    "collapsed": true
   },
   "outputs": [],
   "source": [
    "pd.set_option('display.precision', 2)\n",
    "pd.set_option('display.max_columns', None)"
   ]
  },
  {
   "cell_type": "code",
   "execution_count": 5,
   "metadata": {
    "collapsed": true
   },
   "outputs": [],
   "source": [
    "random_state = 5\n",
    "cv = 10"
   ]
  },
  {
   "cell_type": "code",
   "execution_count": 6,
   "metadata": {
    "collapsed": true
   },
   "outputs": [],
   "source": [
    "non_training_attributes = ['changeset_id', 'changeset_harmful', 'feature_id']"
   ]
  },
  {
   "cell_type": "markdown",
   "metadata": {},
   "source": [
    "## Prepare datasets"
   ]
  },
  {
   "cell_type": "code",
   "execution_count": 7,
   "metadata": {
    "collapsed": true
   },
   "outputs": [],
   "source": [
    "labelled_path = '../downloads/anomaly-detection/labelled/'"
   ]
  },
  {
   "cell_type": "code",
   "execution_count": 8,
   "metadata": {},
   "outputs": [
    {
     "name": "stdout",
     "output_type": "stream",
     "text": [
      "(2272, 13)\n"
     ]
    },
    {
     "data": {
      "text/html": [
       "<div>\n",
       "<table border=\"1\" class=\"dataframe\">\n",
       "  <thead>\n",
       "    <tr style=\"text-align: right;\">\n",
       "      <th></th>\n",
       "      <th>changeset_id</th>\n",
       "      <th>changeset_harmful</th>\n",
       "      <th>feature_id</th>\n",
       "      <th>action_create</th>\n",
       "      <th>action_modify</th>\n",
       "      <th>action_delete</th>\n",
       "      <th>feature_version</th>\n",
       "      <th>highway_tag_created</th>\n",
       "      <th>highway_tag_deleted</th>\n",
       "      <th>highway_value_difference</th>\n",
       "      <th>primary_tags_difference</th>\n",
       "      <th>area_of_feature_bbox</th>\n",
       "      <th>length_of_longest_segment</th>\n",
       "    </tr>\n",
       "  </thead>\n",
       "  <tbody>\n",
       "    <tr>\n",
       "      <th>1635</th>\n",
       "      <td>47303089</td>\n",
       "      <td>1</td>\n",
       "      <td>26764775</td>\n",
       "      <td>0</td>\n",
       "      <td>1</td>\n",
       "      <td>0</td>\n",
       "      <td>6</td>\n",
       "      <td>0</td>\n",
       "      <td>0</td>\n",
       "      <td>0</td>\n",
       "      <td>0</td>\n",
       "      <td>5.32e+03</td>\n",
       "      <td>3.44e-02</td>\n",
       "    </tr>\n",
       "    <tr>\n",
       "      <th>9</th>\n",
       "      <td>49489274</td>\n",
       "      <td>1</td>\n",
       "      <td>113139810</td>\n",
       "      <td>0</td>\n",
       "      <td>1</td>\n",
       "      <td>0</td>\n",
       "      <td>3</td>\n",
       "      <td>0</td>\n",
       "      <td>0</td>\n",
       "      <td>0</td>\n",
       "      <td>0</td>\n",
       "      <td>5.70e+03</td>\n",
       "      <td>1.47e-01</td>\n",
       "    </tr>\n",
       "    <tr>\n",
       "      <th>1109</th>\n",
       "      <td>47431991</td>\n",
       "      <td>1</td>\n",
       "      <td>103917208</td>\n",
       "      <td>0</td>\n",
       "      <td>1</td>\n",
       "      <td>0</td>\n",
       "      <td>3</td>\n",
       "      <td>0</td>\n",
       "      <td>0</td>\n",
       "      <td>0</td>\n",
       "      <td>0</td>\n",
       "      <td>4.81e+02</td>\n",
       "      <td>7.26e-02</td>\n",
       "    </tr>\n",
       "    <tr>\n",
       "      <th>1270</th>\n",
       "      <td>47400565</td>\n",
       "      <td>1</td>\n",
       "      <td>205660934</td>\n",
       "      <td>0</td>\n",
       "      <td>1</td>\n",
       "      <td>0</td>\n",
       "      <td>4</td>\n",
       "      <td>0</td>\n",
       "      <td>0</td>\n",
       "      <td>0</td>\n",
       "      <td>0</td>\n",
       "      <td>1.84e+01</td>\n",
       "      <td>9.50e-03</td>\n",
       "    </tr>\n",
       "    <tr>\n",
       "      <th>1274</th>\n",
       "      <td>47400560</td>\n",
       "      <td>1</td>\n",
       "      <td>101201583</td>\n",
       "      <td>0</td>\n",
       "      <td>1</td>\n",
       "      <td>0</td>\n",
       "      <td>4</td>\n",
       "      <td>0</td>\n",
       "      <td>0</td>\n",
       "      <td>0</td>\n",
       "      <td>0</td>\n",
       "      <td>1.34e+01</td>\n",
       "      <td>7.20e-03</td>\n",
       "    </tr>\n",
       "    <tr>\n",
       "      <th>1414</th>\n",
       "      <td>47364755</td>\n",
       "      <td>1</td>\n",
       "      <td>196929888</td>\n",
       "      <td>0</td>\n",
       "      <td>1</td>\n",
       "      <td>0</td>\n",
       "      <td>3</td>\n",
       "      <td>0</td>\n",
       "      <td>0</td>\n",
       "      <td>0</td>\n",
       "      <td>0</td>\n",
       "      <td>4.09e+03</td>\n",
       "      <td>6.12e-02</td>\n",
       "    </tr>\n",
       "    <tr>\n",
       "      <th>1604</th>\n",
       "      <td>47304701</td>\n",
       "      <td>1</td>\n",
       "      <td>157756559</td>\n",
       "      <td>0</td>\n",
       "      <td>1</td>\n",
       "      <td>0</td>\n",
       "      <td>4</td>\n",
       "      <td>0</td>\n",
       "      <td>0</td>\n",
       "      <td>0</td>\n",
       "      <td>0</td>\n",
       "      <td>1.53e+04</td>\n",
       "      <td>8.21e-02</td>\n",
       "    </tr>\n",
       "    <tr>\n",
       "      <th>1726</th>\n",
       "      <td>47215839</td>\n",
       "      <td>1</td>\n",
       "      <td>95253507</td>\n",
       "      <td>0</td>\n",
       "      <td>1</td>\n",
       "      <td>0</td>\n",
       "      <td>2</td>\n",
       "      <td>0</td>\n",
       "      <td>0</td>\n",
       "      <td>0</td>\n",
       "      <td>0</td>\n",
       "      <td>2.23e+02</td>\n",
       "      <td>8.18e-02</td>\n",
       "    </tr>\n",
       "    <tr>\n",
       "      <th>68</th>\n",
       "      <td>48461675</td>\n",
       "      <td>1</td>\n",
       "      <td>11421619</td>\n",
       "      <td>0</td>\n",
       "      <td>1</td>\n",
       "      <td>0</td>\n",
       "      <td>5</td>\n",
       "      <td>0</td>\n",
       "      <td>0</td>\n",
       "      <td>36</td>\n",
       "      <td>0</td>\n",
       "      <td>8.42e+06</td>\n",
       "      <td>3.04e-01</td>\n",
       "    </tr>\n",
       "    <tr>\n",
       "      <th>1191</th>\n",
       "      <td>47409448</td>\n",
       "      <td>1</td>\n",
       "      <td>30609404</td>\n",
       "      <td>0</td>\n",
       "      <td>1</td>\n",
       "      <td>0</td>\n",
       "      <td>2</td>\n",
       "      <td>0</td>\n",
       "      <td>0</td>\n",
       "      <td>0</td>\n",
       "      <td>0</td>\n",
       "      <td>1.86e+03</td>\n",
       "      <td>0.00e+00</td>\n",
       "    </tr>\n",
       "  </tbody>\n",
       "</table>\n",
       "</div>"
      ],
      "text/plain": [
       "      changeset_id  changeset_harmful  feature_id  action_create  \\\n",
       "1635      47303089                  1    26764775              0   \n",
       "9         49489274                  1   113139810              0   \n",
       "1109      47431991                  1   103917208              0   \n",
       "1270      47400565                  1   205660934              0   \n",
       "1274      47400560                  1   101201583              0   \n",
       "1414      47364755                  1   196929888              0   \n",
       "1604      47304701                  1   157756559              0   \n",
       "1726      47215839                  1    95253507              0   \n",
       "68        48461675                  1    11421619              0   \n",
       "1191      47409448                  1    30609404              0   \n",
       "\n",
       "      action_modify  action_delete  feature_version  highway_tag_created  \\\n",
       "1635              1              0                6                    0   \n",
       "9                 1              0                3                    0   \n",
       "1109              1              0                3                    0   \n",
       "1270              1              0                4                    0   \n",
       "1274              1              0                4                    0   \n",
       "1414              1              0                3                    0   \n",
       "1604              1              0                4                    0   \n",
       "1726              1              0                2                    0   \n",
       "68                1              0                5                    0   \n",
       "1191              1              0                2                    0   \n",
       "\n",
       "      highway_tag_deleted  highway_value_difference  primary_tags_difference  \\\n",
       "1635                    0                         0                        0   \n",
       "9                       0                         0                        0   \n",
       "1109                    0                         0                        0   \n",
       "1270                    0                         0                        0   \n",
       "1274                    0                         0                        0   \n",
       "1414                    0                         0                        0   \n",
       "1604                    0                         0                        0   \n",
       "1726                    0                         0                        0   \n",
       "68                      0                        36                        0   \n",
       "1191                    0                         0                        0   \n",
       "\n",
       "      area_of_feature_bbox  length_of_longest_segment  \n",
       "1635              5.32e+03                   3.44e-02  \n",
       "9                 5.70e+03                   1.47e-01  \n",
       "1109              4.81e+02                   7.26e-02  \n",
       "1270              1.84e+01                   9.50e-03  \n",
       "1274              1.34e+01                   7.20e-03  \n",
       "1414              4.09e+03                   6.12e-02  \n",
       "1604              1.53e+04                   8.21e-02  \n",
       "1726              2.23e+02                   8.18e-02  \n",
       "68                8.42e+06                   3.04e-01  \n",
       "1191              1.86e+03                   0.00e+00  "
      ]
     },
     "execution_count": 8,
     "metadata": {},
     "output_type": "execute_result"
    }
   ],
   "source": [
    "labelled = pd.read_csv(labelled_path + 'attributes.csv')\n",
    "print(labelled.shape)\n",
    "\n",
    "# Sort the dataset randomly.\n",
    "labelled = labelled.sample(labelled.shape[0], random_state=random_state)\n",
    "labelled.sample(10)"
   ]
  },
  {
   "cell_type": "code",
   "execution_count": 9,
   "metadata": {},
   "outputs": [
    {
     "name": "stdout",
     "output_type": "stream",
     "text": [
      "Shape before dropping duplicates: (2272, 13)\n",
      "Shape after dropping duplicates: (2272, 13)\n"
     ]
    }
   ],
   "source": [
    "# Drop all duplicate samples.\n",
    "print('Shape before dropping duplicates: {}'.format(labelled.shape))\n",
    "labelled = labelled.drop_duplicates(subset=['changeset_id', 'feature_id'])\n",
    "print('Shape after dropping duplicates: {}'.format(labelled.shape))"
   ]
  },
  {
   "cell_type": "code",
   "execution_count": 10,
   "metadata": {},
   "outputs": [
    {
     "data": {
      "text/plain": [
       "changeset_id                 1.08e+11\n",
       "changeset_harmful            2.16e+03\n",
       "feature_id                   6.24e+11\n",
       "action_create                6.00e+00\n",
       "action_modify                2.27e+03\n",
       "action_delete                0.00e+00\n",
       "feature_version              1.38e+04\n",
       "highway_tag_created          9.40e+01\n",
       "highway_tag_deleted          3.70e+01\n",
       "highway_value_difference    -3.29e+02\n",
       "primary_tags_difference      8.00e+01\n",
       "area_of_feature_bbox         3.78e+10\n",
       "length_of_longest_segment    3.62e+02\n",
       "dtype: float64"
      ]
     },
     "execution_count": 10,
     "metadata": {},
     "output_type": "execute_result"
    }
   ],
   "source": [
    "labelled.sum()"
   ]
  },
  {
   "cell_type": "code",
   "execution_count": 11,
   "metadata": {},
   "outputs": [
    {
     "name": "stdout",
     "output_type": "stream",
     "text": [
      "Total inliers: (2217, 13)\n",
      "Total outliers: (55, 13)\n"
     ]
    }
   ],
   "source": [
    "inliers = labelled[labelled['changeset_harmful'] == 1]\n",
    "print('Total inliers: {}'.format(inliers.shape))\n",
    "\n",
    "outliers = labelled[labelled['changeset_harmful'] == -1]\n",
    "print('Total outliers: {}'.format(outliers.shape))"
   ]
  },
  {
   "cell_type": "code",
   "execution_count": 12,
   "metadata": {},
   "outputs": [
    {
     "name": "stdout",
     "output_type": "stream",
     "text": [
      "Training dataset (only inliers): (1818, 13)\n",
      "Validation dataset (only inliers): (399, 13)\n",
      "Validation dataset (inliers + outliers): (454, 13)\n"
     ]
    }
   ],
   "source": [
    "total = labelled.shape[0]\n",
    "\n",
    "# 80% of the inliers will be used for training.\n",
    "training = inliers.iloc[0:round(0.8 * total)]\n",
    "training = training.reset_index(drop=True)\n",
    "print('Training dataset (only inliers): {}'.format(training.shape))\n",
    "\n",
    "# 20% of the inliers will be used for validation.\n",
    "validation = inliers.iloc[round(0.8 * total):]\n",
    "validation = validation.reset_index(drop=True)\n",
    "print('Validation dataset (only inliers): {}'.format(validation.shape))\n",
    "\n",
    "# 100% of the outliers will be used for validation too.\n",
    "validation = pd.concat([validation, outliers])\n",
    "validation = validation.reset_index(drop=True)\n",
    "print('Validation dataset (inliers + outliers): {}'.format(validation.shape))"
   ]
  },
  {
   "cell_type": "markdown",
   "metadata": {},
   "source": [
    "## Model training"
   ]
  },
  {
   "cell_type": "code",
   "execution_count": 13,
   "metadata": {
    "collapsed": true
   },
   "outputs": [],
   "source": [
    "X = training.drop(non_training_attributes, axis=1)\n",
    "y = training['changeset_harmful']"
   ]
  },
  {
   "cell_type": "code",
   "execution_count": 14,
   "metadata": {},
   "outputs": [
    {
     "data": {
      "text/plain": [
       "IsolationForest(bootstrap=False, contamination=0.1, max_features=1.0,\n",
       "        max_samples='auto', n_estimators=100, n_jobs=1, random_state=5,\n",
       "        verbose=0)"
      ]
     },
     "execution_count": 14,
     "metadata": {},
     "output_type": "execute_result"
    }
   ],
   "source": [
    "model = IsolationForest(random_state=random_state)\n",
    "model.fit(X)"
   ]
  },
  {
   "cell_type": "code",
   "execution_count": 15,
   "metadata": {
    "collapsed": true
   },
   "outputs": [],
   "source": [
    "training['prediction'] = model.predict(X)\n",
    "training.to_csv(labelled_path + 'training-review.csv', index=False)"
   ]
  },
  {
   "cell_type": "code",
   "execution_count": 16,
   "metadata": {},
   "outputs": [
    {
     "data": {
      "text/html": [
       "<div>\n",
       "<table border=\"1\" class=\"dataframe\">\n",
       "  <thead>\n",
       "    <tr style=\"text-align: right;\">\n",
       "      <th></th>\n",
       "      <th>Predicted harmful</th>\n",
       "      <th>Predicted good</th>\n",
       "    </tr>\n",
       "  </thead>\n",
       "  <tbody>\n",
       "    <tr>\n",
       "      <th>Labelled harmful</th>\n",
       "      <td>0</td>\n",
       "      <td>0</td>\n",
       "    </tr>\n",
       "    <tr>\n",
       "      <th>Labelled good</th>\n",
       "      <td>182</td>\n",
       "      <td>1636</td>\n",
       "    </tr>\n",
       "  </tbody>\n",
       "</table>\n",
       "</div>"
      ],
      "text/plain": [
       "                  Predicted harmful  Predicted good\n",
       "Labelled harmful                  0               0\n",
       "Labelled good                   182            1636"
      ]
     },
     "execution_count": 16,
     "metadata": {},
     "output_type": "execute_result"
    }
   ],
   "source": [
    "from sklearn.metrics import confusion_matrix\n",
    "matrix = confusion_matrix(y, training['prediction'])\n",
    "matrix = pd.DataFrame(matrix, index=['Labelled harmful', 'Labelled good'], columns=['Predicted harmful', 'Predicted good'])\n",
    "matrix"
   ]
  },
  {
   "cell_type": "code",
   "execution_count": 17,
   "metadata": {},
   "outputs": [
    {
     "name": "stdout",
     "output_type": "stream",
     "text": [
      "             precision    recall  f1-score   support\n",
      "\n",
      "         -1       0.00      0.00      0.00         0\n",
      "          1       1.00      0.90      0.95      1818\n",
      "\n",
      "avg / total       1.00      0.90      0.95      1818\n",
      "\n"
     ]
    }
   ],
   "source": [
    "from sklearn.metrics import classification_report\n",
    "\n",
    "report = classification_report(y, training['prediction'])\n",
    "print(report)"
   ]
  },
  {
   "cell_type": "code",
   "execution_count": 18,
   "metadata": {},
   "outputs": [
    {
     "name": "stdout",
     "output_type": "stream",
     "text": [
      "Precision on training: 1.0 (0.0)\n",
      "Recall on training: 0.9 (0.03)\n",
      "F1 score on training: 0.95 (0.02)\n"
     ]
    }
   ],
   "source": [
    "scores = cross_val_score(model, X, y, cv=cv, scoring='precision')\n",
    "print('Precision on training: {} ({})'.format(round(scores.mean(), 2), round(scores.std(), 2)))\n",
    "\n",
    "scores = cross_val_score(model, X, y, cv=cv, scoring='recall')\n",
    "print('Recall on training: {} ({})'.format(round(scores.mean(), 2), round(scores.std(), 2)))\n",
    "\n",
    "scores = cross_val_score(model, X, y, cv=cv, scoring='f1')\n",
    "print('F1 score on training: {} ({})'.format(round(scores.mean(), 2), round(scores.std(), 2)))"
   ]
  },
  {
   "cell_type": "markdown",
   "metadata": {
    "collapsed": true
   },
   "source": [
    "## Model validation"
   ]
  },
  {
   "cell_type": "code",
   "execution_count": 19,
   "metadata": {},
   "outputs": [
    {
     "data": {
      "text/plain": [
       "changeset_harmful\n",
       "-1     55\n",
       " 1    399\n",
       "dtype: int64"
      ]
     },
     "execution_count": 19,
     "metadata": {},
     "output_type": "execute_result"
    }
   ],
   "source": [
    "validation.groupby('changeset_harmful').size()"
   ]
  },
  {
   "cell_type": "code",
   "execution_count": 20,
   "metadata": {
    "collapsed": true
   },
   "outputs": [],
   "source": [
    "vX = validation.drop(non_training_attributes, axis=1)\n",
    "vy = validation['changeset_harmful']"
   ]
  },
  {
   "cell_type": "code",
   "execution_count": 21,
   "metadata": {
    "collapsed": true
   },
   "outputs": [],
   "source": [
    "validation['prediction'] = model.predict(vX)\n",
    "validation.to_csv(labelled_path + 'validation-review.csv', index=False)"
   ]
  },
  {
   "cell_type": "code",
   "execution_count": 22,
   "metadata": {},
   "outputs": [
    {
     "data": {
      "text/html": [
       "<div>\n",
       "<table border=\"1\" class=\"dataframe\">\n",
       "  <thead>\n",
       "    <tr style=\"text-align: right;\">\n",
       "      <th></th>\n",
       "      <th>Predicted harmful</th>\n",
       "      <th>Predicted good</th>\n",
       "    </tr>\n",
       "  </thead>\n",
       "  <tbody>\n",
       "    <tr>\n",
       "      <th>Labelled harmful</th>\n",
       "      <td>40</td>\n",
       "      <td>15</td>\n",
       "    </tr>\n",
       "    <tr>\n",
       "      <th>Labelled good</th>\n",
       "      <td>41</td>\n",
       "      <td>358</td>\n",
       "    </tr>\n",
       "  </tbody>\n",
       "</table>\n",
       "</div>"
      ],
      "text/plain": [
       "                  Predicted harmful  Predicted good\n",
       "Labelled harmful                 40              15\n",
       "Labelled good                    41             358"
      ]
     },
     "execution_count": 22,
     "metadata": {},
     "output_type": "execute_result"
    }
   ],
   "source": [
    "from sklearn.metrics import confusion_matrix\n",
    "matrix = confusion_matrix(vy, validation['prediction'])\n",
    "matrix = pd.DataFrame(matrix, index=['Labelled harmful', 'Labelled good'], columns=['Predicted harmful', 'Predicted good'])\n",
    "matrix"
   ]
  },
  {
   "cell_type": "code",
   "execution_count": 23,
   "metadata": {},
   "outputs": [
    {
     "name": "stdout",
     "output_type": "stream",
     "text": [
      "             precision    recall  f1-score   support\n",
      "\n",
      "         -1       0.49      0.73      0.59        55\n",
      "          1       0.96      0.90      0.93       399\n",
      "\n",
      "avg / total       0.90      0.88      0.89       454\n",
      "\n"
     ]
    }
   ],
   "source": [
    "from sklearn.metrics import classification_report\n",
    "\n",
    "report = classification_report(vy, validation['prediction'])\n",
    "print(report)"
   ]
  },
  {
   "cell_type": "code",
   "execution_count": 24,
   "metadata": {},
   "outputs": [
    {
     "name": "stdout",
     "output_type": "stream",
     "text": [
      "Precision on validation: 0.88 (0.3)\n",
      "Recall on validation: 0.85 (0.28)\n",
      "F1 score on validation: 0.86 (0.29)\n"
     ]
    }
   ],
   "source": [
    "scores = cross_val_score(model, vX, vy, cv=cv, scoring='precision')\n",
    "print('Precision on validation: {} ({})'.format(round(scores.mean(), 2), round(scores.std(), 2)))\n",
    "\n",
    "scores = cross_val_score(model, vX, vy, cv=cv, scoring='recall')\n",
    "print('Recall on validation: {} ({})'.format(round(scores.mean(), 2), round(scores.std(), 2)))\n",
    "\n",
    "scores = cross_val_score(model, vX, vy, cv=cv, scoring='f1')\n",
    "print('F1 score on validation: {} ({})'.format(round(scores.mean(), 2), round(scores.std(), 2)))"
   ]
  },
  {
   "cell_type": "markdown",
   "metadata": {},
   "source": [
    "## Model testing"
   ]
  },
  {
   "cell_type": "code",
   "execution_count": 25,
   "metadata": {
    "collapsed": true
   },
   "outputs": [],
   "source": [
    "unlabelled_path = testing_path = '../downloads/anomaly-detection/unlabelled/'"
   ]
  },
  {
   "cell_type": "code",
   "execution_count": 26,
   "metadata": {},
   "outputs": [
    {
     "name": "stdout",
     "output_type": "stream",
     "text": [
      "(121, 13)\n"
     ]
    },
    {
     "data": {
      "text/html": [
       "<div>\n",
       "<table border=\"1\" class=\"dataframe\">\n",
       "  <thead>\n",
       "    <tr style=\"text-align: right;\">\n",
       "      <th></th>\n",
       "      <th>changeset_id</th>\n",
       "      <th>changeset_harmful</th>\n",
       "      <th>feature_id</th>\n",
       "      <th>action_create</th>\n",
       "      <th>action_modify</th>\n",
       "      <th>action_delete</th>\n",
       "      <th>feature_version</th>\n",
       "      <th>highway_tag_created</th>\n",
       "      <th>highway_tag_deleted</th>\n",
       "      <th>highway_value_difference</th>\n",
       "      <th>primary_tags_difference</th>\n",
       "      <th>area_of_feature_bbox</th>\n",
       "      <th>length_of_longest_segment</th>\n",
       "    </tr>\n",
       "  </thead>\n",
       "  <tbody>\n",
       "    <tr>\n",
       "      <th>99</th>\n",
       "      <td>49176540</td>\n",
       "      <td>NaN</td>\n",
       "      <td>497497987</td>\n",
       "      <td>0</td>\n",
       "      <td>1</td>\n",
       "      <td>0</td>\n",
       "      <td>2</td>\n",
       "      <td>0</td>\n",
       "      <td>0</td>\n",
       "      <td>0</td>\n",
       "      <td>0</td>\n",
       "      <td>19518.47</td>\n",
       "      <td>0.11</td>\n",
       "    </tr>\n",
       "    <tr>\n",
       "      <th>36</th>\n",
       "      <td>49178949</td>\n",
       "      <td>NaN</td>\n",
       "      <td>496777385</td>\n",
       "      <td>0</td>\n",
       "      <td>1</td>\n",
       "      <td>0</td>\n",
       "      <td>2</td>\n",
       "      <td>0</td>\n",
       "      <td>0</td>\n",
       "      <td>2</td>\n",
       "      <td>0</td>\n",
       "      <td>419.06</td>\n",
       "      <td>0.14</td>\n",
       "    </tr>\n",
       "    <tr>\n",
       "      <th>65</th>\n",
       "      <td>49177839</td>\n",
       "      <td>NaN</td>\n",
       "      <td>406374434</td>\n",
       "      <td>0</td>\n",
       "      <td>1</td>\n",
       "      <td>0</td>\n",
       "      <td>4</td>\n",
       "      <td>0</td>\n",
       "      <td>0</td>\n",
       "      <td>0</td>\n",
       "      <td>0</td>\n",
       "      <td>93962.93</td>\n",
       "      <td>0.05</td>\n",
       "    </tr>\n",
       "    <tr>\n",
       "      <th>49</th>\n",
       "      <td>49178600</td>\n",
       "      <td>NaN</td>\n",
       "      <td>412811196</td>\n",
       "      <td>0</td>\n",
       "      <td>1</td>\n",
       "      <td>0</td>\n",
       "      <td>2</td>\n",
       "      <td>0</td>\n",
       "      <td>0</td>\n",
       "      <td>0</td>\n",
       "      <td>0</td>\n",
       "      <td>1791.33</td>\n",
       "      <td>0.03</td>\n",
       "    </tr>\n",
       "    <tr>\n",
       "      <th>25</th>\n",
       "      <td>49179465</td>\n",
       "      <td>NaN</td>\n",
       "      <td>379184853</td>\n",
       "      <td>0</td>\n",
       "      <td>1</td>\n",
       "      <td>0</td>\n",
       "      <td>3</td>\n",
       "      <td>0</td>\n",
       "      <td>0</td>\n",
       "      <td>0</td>\n",
       "      <td>0</td>\n",
       "      <td>16350.73</td>\n",
       "      <td>0.16</td>\n",
       "    </tr>\n",
       "    <tr>\n",
       "      <th>44</th>\n",
       "      <td>49178718</td>\n",
       "      <td>NaN</td>\n",
       "      <td>475566443</td>\n",
       "      <td>0</td>\n",
       "      <td>1</td>\n",
       "      <td>0</td>\n",
       "      <td>2</td>\n",
       "      <td>0</td>\n",
       "      <td>0</td>\n",
       "      <td>0</td>\n",
       "      <td>0</td>\n",
       "      <td>6955.76</td>\n",
       "      <td>0.04</td>\n",
       "    </tr>\n",
       "    <tr>\n",
       "      <th>52</th>\n",
       "      <td>49178363</td>\n",
       "      <td>NaN</td>\n",
       "      <td>309626776</td>\n",
       "      <td>0</td>\n",
       "      <td>1</td>\n",
       "      <td>0</td>\n",
       "      <td>3</td>\n",
       "      <td>0</td>\n",
       "      <td>0</td>\n",
       "      <td>-1</td>\n",
       "      <td>0</td>\n",
       "      <td>284.28</td>\n",
       "      <td>0.03</td>\n",
       "    </tr>\n",
       "    <tr>\n",
       "      <th>20</th>\n",
       "      <td>49179690</td>\n",
       "      <td>NaN</td>\n",
       "      <td>38301337</td>\n",
       "      <td>0</td>\n",
       "      <td>1</td>\n",
       "      <td>0</td>\n",
       "      <td>7</td>\n",
       "      <td>0</td>\n",
       "      <td>0</td>\n",
       "      <td>-3</td>\n",
       "      <td>0</td>\n",
       "      <td>27907.90</td>\n",
       "      <td>0.16</td>\n",
       "    </tr>\n",
       "    <tr>\n",
       "      <th>97</th>\n",
       "      <td>49176643</td>\n",
       "      <td>NaN</td>\n",
       "      <td>198877204</td>\n",
       "      <td>0</td>\n",
       "      <td>1</td>\n",
       "      <td>0</td>\n",
       "      <td>4</td>\n",
       "      <td>0</td>\n",
       "      <td>0</td>\n",
       "      <td>0</td>\n",
       "      <td>0</td>\n",
       "      <td>20681.42</td>\n",
       "      <td>0.12</td>\n",
       "    </tr>\n",
       "    <tr>\n",
       "      <th>109</th>\n",
       "      <td>49176189</td>\n",
       "      <td>NaN</td>\n",
       "      <td>100190055</td>\n",
       "      <td>0</td>\n",
       "      <td>1</td>\n",
       "      <td>0</td>\n",
       "      <td>3</td>\n",
       "      <td>0</td>\n",
       "      <td>0</td>\n",
       "      <td>-13</td>\n",
       "      <td>0</td>\n",
       "      <td>58657.60</td>\n",
       "      <td>0.07</td>\n",
       "    </tr>\n",
       "  </tbody>\n",
       "</table>\n",
       "</div>"
      ],
      "text/plain": [
       "     changeset_id  changeset_harmful  feature_id  action_create  \\\n",
       "99       49176540                NaN   497497987              0   \n",
       "36       49178949                NaN   496777385              0   \n",
       "65       49177839                NaN   406374434              0   \n",
       "49       49178600                NaN   412811196              0   \n",
       "25       49179465                NaN   379184853              0   \n",
       "44       49178718                NaN   475566443              0   \n",
       "52       49178363                NaN   309626776              0   \n",
       "20       49179690                NaN    38301337              0   \n",
       "97       49176643                NaN   198877204              0   \n",
       "109      49176189                NaN   100190055              0   \n",
       "\n",
       "     action_modify  action_delete  feature_version  highway_tag_created  \\\n",
       "99               1              0                2                    0   \n",
       "36               1              0                2                    0   \n",
       "65               1              0                4                    0   \n",
       "49               1              0                2                    0   \n",
       "25               1              0                3                    0   \n",
       "44               1              0                2                    0   \n",
       "52               1              0                3                    0   \n",
       "20               1              0                7                    0   \n",
       "97               1              0                4                    0   \n",
       "109              1              0                3                    0   \n",
       "\n",
       "     highway_tag_deleted  highway_value_difference  primary_tags_difference  \\\n",
       "99                     0                         0                        0   \n",
       "36                     0                         2                        0   \n",
       "65                     0                         0                        0   \n",
       "49                     0                         0                        0   \n",
       "25                     0                         0                        0   \n",
       "44                     0                         0                        0   \n",
       "52                     0                        -1                        0   \n",
       "20                     0                        -3                        0   \n",
       "97                     0                         0                        0   \n",
       "109                    0                       -13                        0   \n",
       "\n",
       "     area_of_feature_bbox  length_of_longest_segment  \n",
       "99               19518.47                       0.11  \n",
       "36                 419.06                       0.14  \n",
       "65               93962.93                       0.05  \n",
       "49                1791.33                       0.03  \n",
       "25               16350.73                       0.16  \n",
       "44                6955.76                       0.04  \n",
       "52                 284.28                       0.03  \n",
       "20               27907.90                       0.16  \n",
       "97               20681.42                       0.12  \n",
       "109              58657.60                       0.07  "
      ]
     },
     "execution_count": 26,
     "metadata": {},
     "output_type": "execute_result"
    }
   ],
   "source": [
    "unlabelled = pd.read_csv(unlabelled_path + 'attributes.csv')\n",
    "print(unlabelled.shape)\n",
    "unlabelled.sample(10)"
   ]
  },
  {
   "cell_type": "code",
   "execution_count": 27,
   "metadata": {},
   "outputs": [
    {
     "name": "stdout",
     "output_type": "stream",
     "text": [
      "Shape before dropping duplicates: (121, 13)\n",
      "Shape after dropping duplicates: (121, 13)\n"
     ]
    }
   ],
   "source": [
    "# Drop all duplicate samples.\n",
    "print('Shape before dropping duplicates: {}'.format(unlabelled.shape))\n",
    "unlabelled = unlabelled.drop_duplicates(subset=['changeset_id', 'feature_id'])\n",
    "print('Shape after dropping duplicates: {}'.format(unlabelled.shape))"
   ]
  },
  {
   "cell_type": "code",
   "execution_count": 28,
   "metadata": {
    "collapsed": true
   },
   "outputs": [],
   "source": [
    "# Using all of the unlabelled dataset for testing.\n",
    "testing = unlabelled.sample(unlabelled.shape[0])"
   ]
  },
  {
   "cell_type": "code",
   "execution_count": 29,
   "metadata": {
    "collapsed": true
   },
   "outputs": [],
   "source": [
    "tX = testing.drop(non_training_attributes, axis=1)\n",
    "ty = testing['changeset_harmful']"
   ]
  },
  {
   "cell_type": "code",
   "execution_count": 30,
   "metadata": {
    "collapsed": true
   },
   "outputs": [],
   "source": [
    "testing['prediction'] = model.predict(tX)\n",
    "testing.to_csv(unlabelled_path + 'testing-review.csv', index=False)"
   ]
  },
  {
   "cell_type": "code",
   "execution_count": 31,
   "metadata": {},
   "outputs": [
    {
     "name": "stdout",
     "output_type": "stream",
     "text": [
      "Predicted good: 98\n",
      "Predicted harmful: 23\n",
      "Percentage harmful: 19.01%\n"
     ]
    }
   ],
   "source": [
    "tharmful_count = testing[testing['prediction'] == -1].shape[0]\n",
    "tnot_harmful_count = testing[testing['prediction'] == 1].shape[0]\n",
    "\n",
    "print('Predicted good: {}'.format(tnot_harmful_count))\n",
    "print('Predicted harmful: {}'.format(tharmful_count))\n",
    "\n",
    "print('Percentage harmful: {}%'.format(round(100.0 * tharmful_count / testing.shape[0], 2)))"
   ]
  }
 ],
 "metadata": {
  "anaconda-cloud": {},
  "kernelspec": {
   "display_name": "Python [conda root]",
   "language": "python",
   "name": "conda-root-py"
  },
  "language_info": {
   "codemirror_mode": {
    "name": "ipython",
    "version": 3
   },
   "file_extension": ".py",
   "mimetype": "text/x-python",
   "name": "python",
   "nbconvert_exporter": "python",
   "pygments_lexer": "ipython3",
   "version": "3.5.2"
  }
 },
 "nbformat": 4,
 "nbformat_minor": 2
}
