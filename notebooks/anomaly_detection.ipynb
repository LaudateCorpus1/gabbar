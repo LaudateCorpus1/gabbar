{
 "cells": [
  {
   "cell_type": "markdown",
   "metadata": {},
   "source": [
    "# Anomaly detection - Gabbar"
   ]
  },
  {
   "cell_type": "code",
   "execution_count": 1,
   "metadata": {
    "collapsed": true
   },
   "outputs": [],
   "source": [
    "%matplotlib inline\n",
    "%config InlineBackend.figure_format = 'retina'\n",
    "\n",
    "import warnings\n",
    "warnings.filterwarnings(\"ignore\")"
   ]
  },
  {
   "cell_type": "code",
   "execution_count": 2,
   "metadata": {
    "collapsed": true
   },
   "outputs": [],
   "source": [
    "import pandas as pd\n",
    "import numpy as np\n",
    "import matplotlib.pyplot as plt\n",
    "import seaborn as sns"
   ]
  },
  {
   "cell_type": "code",
   "execution_count": 3,
   "metadata": {
    "collapsed": true
   },
   "outputs": [],
   "source": [
    "from sklearn.ensemble import IsolationForest\n",
    "from sklearn.externals import joblib\n",
    "\n",
    "from sklearn.metrics import classification_report\n",
    "from sklearn.metrics import confusion_matrix"
   ]
  },
  {
   "cell_type": "code",
   "execution_count": 4,
   "metadata": {
    "collapsed": true
   },
   "outputs": [],
   "source": [
    "pd.set_option('display.precision', 2)\n",
    "pd.set_option('display.max_columns', None)"
   ]
  },
  {
   "cell_type": "code",
   "execution_count": 5,
   "metadata": {
    "collapsed": true
   },
   "outputs": [],
   "source": [
    "random_state = 5\n",
    "cv = 10"
   ]
  },
  {
   "cell_type": "code",
   "execution_count": 6,
   "metadata": {
    "collapsed": true
   },
   "outputs": [],
   "source": [
    "non_training_attributes = ['changeset_id', 'changeset_harmful', 'feature_id', 'feature_type']"
   ]
  },
  {
   "cell_type": "markdown",
   "metadata": {},
   "source": [
    "## Prepare datasets"
   ]
  },
  {
   "cell_type": "code",
   "execution_count": 7,
   "metadata": {
    "collapsed": true
   },
   "outputs": [],
   "source": [
    "labelled_path = '../downloads/anomaly-detection/large/labelled/'"
   ]
  },
  {
   "cell_type": "code",
   "execution_count": 8,
   "metadata": {},
   "outputs": [
    {
     "name": "stdout",
     "output_type": "stream",
     "text": [
      "(348317, 15)\n"
     ]
    },
    {
     "data": {
      "text/html": [
       "<div>\n",
       "<table border=\"1\" class=\"dataframe\">\n",
       "  <thead>\n",
       "    <tr style=\"text-align: right;\">\n",
       "      <th></th>\n",
       "      <th>changeset_id</th>\n",
       "      <th>changeset_harmful</th>\n",
       "      <th>feature_id</th>\n",
       "      <th>feature_type</th>\n",
       "      <th>action_create</th>\n",
       "      <th>action_modify</th>\n",
       "      <th>action_delete</th>\n",
       "      <th>feature_version</th>\n",
       "      <th>highway_tag_created</th>\n",
       "      <th>highway_tag_deleted</th>\n",
       "      <th>highway_value_difference</th>\n",
       "      <th>primary_tags_difference</th>\n",
       "      <th>area_of_feature_bbox</th>\n",
       "      <th>length_of_longest_segment</th>\n",
       "      <th>feature_name_touched</th>\n",
       "    </tr>\n",
       "  </thead>\n",
       "  <tbody>\n",
       "    <tr>\n",
       "      <th>281190</th>\n",
       "      <td>47391211</td>\n",
       "      <td>1</td>\n",
       "      <td>64942270</td>\n",
       "      <td>way</td>\n",
       "      <td>0</td>\n",
       "      <td>1</td>\n",
       "      <td>0</td>\n",
       "      <td>8</td>\n",
       "      <td>0</td>\n",
       "      <td>0</td>\n",
       "      <td>0</td>\n",
       "      <td>0</td>\n",
       "      <td>1403.23</td>\n",
       "      <td>0.06</td>\n",
       "      <td>1</td>\n",
       "    </tr>\n",
       "    <tr>\n",
       "      <th>73275</th>\n",
       "      <td>49679180</td>\n",
       "      <td>1</td>\n",
       "      <td>501841715</td>\n",
       "      <td>way</td>\n",
       "      <td>1</td>\n",
       "      <td>0</td>\n",
       "      <td>0</td>\n",
       "      <td>1</td>\n",
       "      <td>22</td>\n",
       "      <td>0</td>\n",
       "      <td>0</td>\n",
       "      <td>1</td>\n",
       "      <td>974.72</td>\n",
       "      <td>0.03</td>\n",
       "      <td>0</td>\n",
       "    </tr>\n",
       "    <tr>\n",
       "      <th>300527</th>\n",
       "      <td>47201178</td>\n",
       "      <td>1</td>\n",
       "      <td>4756694628</td>\n",
       "      <td>node</td>\n",
       "      <td>0</td>\n",
       "      <td>1</td>\n",
       "      <td>0</td>\n",
       "      <td>2</td>\n",
       "      <td>0</td>\n",
       "      <td>0</td>\n",
       "      <td>0</td>\n",
       "      <td>0</td>\n",
       "      <td>0.00</td>\n",
       "      <td>0.00</td>\n",
       "      <td>0</td>\n",
       "    </tr>\n",
       "    <tr>\n",
       "      <th>61171</th>\n",
       "      <td>49799212</td>\n",
       "      <td>1</td>\n",
       "      <td>503095707</td>\n",
       "      <td>way</td>\n",
       "      <td>1</td>\n",
       "      <td>0</td>\n",
       "      <td>0</td>\n",
       "      <td>1</td>\n",
       "      <td>36</td>\n",
       "      <td>0</td>\n",
       "      <td>0</td>\n",
       "      <td>1</td>\n",
       "      <td>21176.93</td>\n",
       "      <td>0.07</td>\n",
       "      <td>0</td>\n",
       "    </tr>\n",
       "    <tr>\n",
       "      <th>191419</th>\n",
       "      <td>48386038</td>\n",
       "      <td>1</td>\n",
       "      <td>491276636</td>\n",
       "      <td>way</td>\n",
       "      <td>1</td>\n",
       "      <td>0</td>\n",
       "      <td>0</td>\n",
       "      <td>1</td>\n",
       "      <td>19</td>\n",
       "      <td>0</td>\n",
       "      <td>0</td>\n",
       "      <td>1</td>\n",
       "      <td>20727.26</td>\n",
       "      <td>0.07</td>\n",
       "      <td>0</td>\n",
       "    </tr>\n",
       "    <tr>\n",
       "      <th>158790</th>\n",
       "      <td>48947620</td>\n",
       "      <td>-1</td>\n",
       "      <td>458497686</td>\n",
       "      <td>way</td>\n",
       "      <td>0</td>\n",
       "      <td>1</td>\n",
       "      <td>0</td>\n",
       "      <td>7</td>\n",
       "      <td>0</td>\n",
       "      <td>0</td>\n",
       "      <td>0</td>\n",
       "      <td>0</td>\n",
       "      <td>2348.42</td>\n",
       "      <td>0.03</td>\n",
       "      <td>1</td>\n",
       "    </tr>\n",
       "    <tr>\n",
       "      <th>281584</th>\n",
       "      <td>47385661</td>\n",
       "      <td>1</td>\n",
       "      <td>229710874</td>\n",
       "      <td>way</td>\n",
       "      <td>0</td>\n",
       "      <td>1</td>\n",
       "      <td>0</td>\n",
       "      <td>4</td>\n",
       "      <td>0</td>\n",
       "      <td>0</td>\n",
       "      <td>0</td>\n",
       "      <td>0</td>\n",
       "      <td>578.81</td>\n",
       "      <td>0.02</td>\n",
       "      <td>0</td>\n",
       "    </tr>\n",
       "    <tr>\n",
       "      <th>269034</th>\n",
       "      <td>47532847</td>\n",
       "      <td>1</td>\n",
       "      <td>485299713</td>\n",
       "      <td>way</td>\n",
       "      <td>1</td>\n",
       "      <td>0</td>\n",
       "      <td>0</td>\n",
       "      <td>1</td>\n",
       "      <td>35</td>\n",
       "      <td>0</td>\n",
       "      <td>0</td>\n",
       "      <td>1</td>\n",
       "      <td>9.33</td>\n",
       "      <td>0.02</td>\n",
       "      <td>1</td>\n",
       "    </tr>\n",
       "    <tr>\n",
       "      <th>114055</th>\n",
       "      <td>49275214</td>\n",
       "      <td>1</td>\n",
       "      <td>5878711</td>\n",
       "      <td>way</td>\n",
       "      <td>0</td>\n",
       "      <td>1</td>\n",
       "      <td>0</td>\n",
       "      <td>4</td>\n",
       "      <td>0</td>\n",
       "      <td>0</td>\n",
       "      <td>0</td>\n",
       "      <td>0</td>\n",
       "      <td>72142.57</td>\n",
       "      <td>0.18</td>\n",
       "      <td>0</td>\n",
       "    </tr>\n",
       "    <tr>\n",
       "      <th>90436</th>\n",
       "      <td>49548816</td>\n",
       "      <td>1</td>\n",
       "      <td>37167227</td>\n",
       "      <td>way</td>\n",
       "      <td>0</td>\n",
       "      <td>1</td>\n",
       "      <td>0</td>\n",
       "      <td>2</td>\n",
       "      <td>0</td>\n",
       "      <td>0</td>\n",
       "      <td>0</td>\n",
       "      <td>0</td>\n",
       "      <td>262328.15</td>\n",
       "      <td>0.19</td>\n",
       "      <td>0</td>\n",
       "    </tr>\n",
       "  </tbody>\n",
       "</table>\n",
       "</div>"
      ],
      "text/plain": [
       "        changeset_id  changeset_harmful  feature_id feature_type  \\\n",
       "281190      47391211                  1    64942270          way   \n",
       "73275       49679180                  1   501841715          way   \n",
       "300527      47201178                  1  4756694628         node   \n",
       "61171       49799212                  1   503095707          way   \n",
       "191419      48386038                  1   491276636          way   \n",
       "158790      48947620                 -1   458497686          way   \n",
       "281584      47385661                  1   229710874          way   \n",
       "269034      47532847                  1   485299713          way   \n",
       "114055      49275214                  1     5878711          way   \n",
       "90436       49548816                  1    37167227          way   \n",
       "\n",
       "        action_create  action_modify  action_delete  feature_version  \\\n",
       "281190              0              1              0                8   \n",
       "73275               1              0              0                1   \n",
       "300527              0              1              0                2   \n",
       "61171               1              0              0                1   \n",
       "191419              1              0              0                1   \n",
       "158790              0              1              0                7   \n",
       "281584              0              1              0                4   \n",
       "269034              1              0              0                1   \n",
       "114055              0              1              0                4   \n",
       "90436               0              1              0                2   \n",
       "\n",
       "        highway_tag_created  highway_tag_deleted  highway_value_difference  \\\n",
       "281190                    0                    0                         0   \n",
       "73275                    22                    0                         0   \n",
       "300527                    0                    0                         0   \n",
       "61171                    36                    0                         0   \n",
       "191419                   19                    0                         0   \n",
       "158790                    0                    0                         0   \n",
       "281584                    0                    0                         0   \n",
       "269034                   35                    0                         0   \n",
       "114055                    0                    0                         0   \n",
       "90436                     0                    0                         0   \n",
       "\n",
       "        primary_tags_difference  area_of_feature_bbox  \\\n",
       "281190                        0               1403.23   \n",
       "73275                         1                974.72   \n",
       "300527                        0                  0.00   \n",
       "61171                         1              21176.93   \n",
       "191419                        1              20727.26   \n",
       "158790                        0               2348.42   \n",
       "281584                        0                578.81   \n",
       "269034                        1                  9.33   \n",
       "114055                        0              72142.57   \n",
       "90436                         0             262328.15   \n",
       "\n",
       "        length_of_longest_segment  feature_name_touched  \n",
       "281190                       0.06                     1  \n",
       "73275                        0.03                     0  \n",
       "300527                       0.00                     0  \n",
       "61171                        0.07                     0  \n",
       "191419                       0.07                     0  \n",
       "158790                       0.03                     1  \n",
       "281584                       0.02                     0  \n",
       "269034                       0.02                     1  \n",
       "114055                       0.18                     0  \n",
       "90436                        0.19                     0  "
      ]
     },
     "execution_count": 8,
     "metadata": {},
     "output_type": "execute_result"
    }
   ],
   "source": [
    "labelled = pd.read_csv(labelled_path + 'attributes.csv')\n",
    "print(labelled.shape)\n",
    "\n",
    "# Sort the dataset randomly.\n",
    "labelled = labelled.sample(labelled.shape[0], random_state=random_state)\n",
    "labelled.sample(10)"
   ]
  },
  {
   "cell_type": "code",
   "execution_count": 9,
   "metadata": {},
   "outputs": [
    {
     "name": "stdout",
     "output_type": "stream",
     "text": [
      "Shape before dropping duplicates: (348317, 15)\n",
      "Shape after dropping duplicates: (347231, 15)\n"
     ]
    }
   ],
   "source": [
    "# Drop all duplicate samples.\n",
    "print('Shape before dropping duplicates: {}'.format(labelled.shape))\n",
    "labelled = labelled.drop_duplicates(subset=['changeset_id', 'feature_id'])\n",
    "print('Shape after dropping duplicates: {}'.format(labelled.shape))"
   ]
  },
  {
   "cell_type": "code",
   "execution_count": 10,
   "metadata": {},
   "outputs": [
    {
     "data": {
      "text/html": [
       "<div>\n",
       "<table border=\"1\" class=\"dataframe\">\n",
       "  <thead>\n",
       "    <tr style=\"text-align: right;\">\n",
       "      <th></th>\n",
       "      <th>changeset_id</th>\n",
       "      <th>changeset_harmful</th>\n",
       "      <th>feature_id</th>\n",
       "      <th>action_create</th>\n",
       "      <th>action_modify</th>\n",
       "      <th>action_delete</th>\n",
       "      <th>feature_version</th>\n",
       "      <th>highway_tag_created</th>\n",
       "      <th>highway_tag_deleted</th>\n",
       "      <th>highway_value_difference</th>\n",
       "      <th>primary_tags_difference</th>\n",
       "      <th>area_of_feature_bbox</th>\n",
       "      <th>length_of_longest_segment</th>\n",
       "      <th>feature_name_touched</th>\n",
       "    </tr>\n",
       "  </thead>\n",
       "  <tbody>\n",
       "    <tr>\n",
       "      <th>count</th>\n",
       "      <td>3.47e+05</td>\n",
       "      <td>347231.00</td>\n",
       "      <td>3.47e+05</td>\n",
       "      <td>347231.00</td>\n",
       "      <td>347231.00</td>\n",
       "      <td>347231.00</td>\n",
       "      <td>347231.00</td>\n",
       "      <td>347231.00</td>\n",
       "      <td>347231.00</td>\n",
       "      <td>347231.00</td>\n",
       "      <td>347231.00</td>\n",
       "      <td>3.47e+05</td>\n",
       "      <td>347231.00</td>\n",
       "      <td>347231.00</td>\n",
       "    </tr>\n",
       "    <tr>\n",
       "      <th>mean</th>\n",
       "      <td>4.85e+07</td>\n",
       "      <td>0.73</td>\n",
       "      <td>4.82e+08</td>\n",
       "      <td>0.30</td>\n",
       "      <td>0.65</td>\n",
       "      <td>0.05</td>\n",
       "      <td>3.66</td>\n",
       "      <td>9.22</td>\n",
       "      <td>1.70</td>\n",
       "      <td>-0.15</td>\n",
       "      <td>0.26</td>\n",
       "      <td>1.14e+08</td>\n",
       "      <td>0.18</td>\n",
       "      <td>0.13</td>\n",
       "    </tr>\n",
       "    <tr>\n",
       "      <th>std</th>\n",
       "      <td>1.13e+06</td>\n",
       "      <td>0.68</td>\n",
       "      <td>8.32e+08</td>\n",
       "      <td>0.46</td>\n",
       "      <td>0.48</td>\n",
       "      <td>0.22</td>\n",
       "      <td>4.63</td>\n",
       "      <td>14.73</td>\n",
       "      <td>7.41</td>\n",
       "      <td>2.19</td>\n",
       "      <td>0.56</td>\n",
       "      <td>4.02e+10</td>\n",
       "      <td>13.93</td>\n",
       "      <td>0.33</td>\n",
       "    </tr>\n",
       "    <tr>\n",
       "      <th>min</th>\n",
       "      <td>4.48e+07</td>\n",
       "      <td>-1.00</td>\n",
       "      <td>2.16e+03</td>\n",
       "      <td>0.00</td>\n",
       "      <td>0.00</td>\n",
       "      <td>0.00</td>\n",
       "      <td>1.00</td>\n",
       "      <td>0.00</td>\n",
       "      <td>0.00</td>\n",
       "      <td>-42.00</td>\n",
       "      <td>-4.00</td>\n",
       "      <td>0.00e+00</td>\n",
       "      <td>0.00</td>\n",
       "      <td>0.00</td>\n",
       "    </tr>\n",
       "    <tr>\n",
       "      <th>25%</th>\n",
       "      <td>4.76e+07</td>\n",
       "      <td>1.00</td>\n",
       "      <td>8.82e+07</td>\n",
       "      <td>0.00</td>\n",
       "      <td>0.00</td>\n",
       "      <td>0.00</td>\n",
       "      <td>1.00</td>\n",
       "      <td>0.00</td>\n",
       "      <td>0.00</td>\n",
       "      <td>0.00</td>\n",
       "      <td>0.00</td>\n",
       "      <td>4.30e+02</td>\n",
       "      <td>0.02</td>\n",
       "      <td>0.00</td>\n",
       "    </tr>\n",
       "    <tr>\n",
       "      <th>50%</th>\n",
       "      <td>4.87e+07</td>\n",
       "      <td>1.00</td>\n",
       "      <td>3.69e+08</td>\n",
       "      <td>0.00</td>\n",
       "      <td>1.00</td>\n",
       "      <td>0.00</td>\n",
       "      <td>2.00</td>\n",
       "      <td>0.00</td>\n",
       "      <td>0.00</td>\n",
       "      <td>0.00</td>\n",
       "      <td>0.00</td>\n",
       "      <td>5.05e+03</td>\n",
       "      <td>0.06</td>\n",
       "      <td>0.00</td>\n",
       "    </tr>\n",
       "    <tr>\n",
       "      <th>75%</th>\n",
       "      <td>4.96e+07</td>\n",
       "      <td>1.00</td>\n",
       "      <td>4.90e+08</td>\n",
       "      <td>1.00</td>\n",
       "      <td>1.00</td>\n",
       "      <td>0.00</td>\n",
       "      <td>4.00</td>\n",
       "      <td>22.00</td>\n",
       "      <td>0.00</td>\n",
       "      <td>0.00</td>\n",
       "      <td>1.00</td>\n",
       "      <td>5.31e+04</td>\n",
       "      <td>0.14</td>\n",
       "      <td>0.00</td>\n",
       "    </tr>\n",
       "    <tr>\n",
       "      <th>max</th>\n",
       "      <td>5.01e+07</td>\n",
       "      <td>1.00</td>\n",
       "      <td>4.95e+09</td>\n",
       "      <td>1.00</td>\n",
       "      <td>1.00</td>\n",
       "      <td>1.00</td>\n",
       "      <td>654.00</td>\n",
       "      <td>42.00</td>\n",
       "      <td>42.00</td>\n",
       "      <td>42.00</td>\n",
       "      <td>3.00</td>\n",
       "      <td>2.27e+13</td>\n",
       "      <td>8190.40</td>\n",
       "      <td>1.00</td>\n",
       "    </tr>\n",
       "  </tbody>\n",
       "</table>\n",
       "</div>"
      ],
      "text/plain": [
       "       changeset_id  changeset_harmful  feature_id  action_create  \\\n",
       "count      3.47e+05          347231.00    3.47e+05      347231.00   \n",
       "mean       4.85e+07               0.73    4.82e+08           0.30   \n",
       "std        1.13e+06               0.68    8.32e+08           0.46   \n",
       "min        4.48e+07              -1.00    2.16e+03           0.00   \n",
       "25%        4.76e+07               1.00    8.82e+07           0.00   \n",
       "50%        4.87e+07               1.00    3.69e+08           0.00   \n",
       "75%        4.96e+07               1.00    4.90e+08           1.00   \n",
       "max        5.01e+07               1.00    4.95e+09           1.00   \n",
       "\n",
       "       action_modify  action_delete  feature_version  highway_tag_created  \\\n",
       "count      347231.00      347231.00        347231.00            347231.00   \n",
       "mean            0.65           0.05             3.66                 9.22   \n",
       "std             0.48           0.22             4.63                14.73   \n",
       "min             0.00           0.00             1.00                 0.00   \n",
       "25%             0.00           0.00             1.00                 0.00   \n",
       "50%             1.00           0.00             2.00                 0.00   \n",
       "75%             1.00           0.00             4.00                22.00   \n",
       "max             1.00           1.00           654.00                42.00   \n",
       "\n",
       "       highway_tag_deleted  highway_value_difference  primary_tags_difference  \\\n",
       "count            347231.00                 347231.00                347231.00   \n",
       "mean                  1.70                     -0.15                     0.26   \n",
       "std                   7.41                      2.19                     0.56   \n",
       "min                   0.00                    -42.00                    -4.00   \n",
       "25%                   0.00                      0.00                     0.00   \n",
       "50%                   0.00                      0.00                     0.00   \n",
       "75%                   0.00                      0.00                     1.00   \n",
       "max                  42.00                     42.00                     3.00   \n",
       "\n",
       "       area_of_feature_bbox  length_of_longest_segment  feature_name_touched  \n",
       "count              3.47e+05                  347231.00             347231.00  \n",
       "mean               1.14e+08                       0.18                  0.13  \n",
       "std                4.02e+10                      13.93                  0.33  \n",
       "min                0.00e+00                       0.00                  0.00  \n",
       "25%                4.30e+02                       0.02                  0.00  \n",
       "50%                5.05e+03                       0.06                  0.00  \n",
       "75%                5.31e+04                       0.14                  0.00  \n",
       "max                2.27e+13                    8190.40                  1.00  "
      ]
     },
     "execution_count": 10,
     "metadata": {},
     "output_type": "execute_result"
    }
   ],
   "source": [
    "labelled.describe()"
   ]
  },
  {
   "cell_type": "code",
   "execution_count": 11,
   "metadata": {},
   "outputs": [
    {
     "data": {
      "text/plain": [
       "changeset_id                 1.69e+13\n",
       "changeset_harmful            2.54e+05\n",
       "feature_id                   1.67e+14\n",
       "action_create                1.03e+05\n",
       "action_modify                2.27e+05\n",
       "action_delete                1.73e+04\n",
       "feature_version              1.27e+06\n",
       "highway_tag_created          3.20e+06\n",
       "highway_tag_deleted          5.92e+05\n",
       "highway_value_difference    -5.27e+04\n",
       "primary_tags_difference      9.18e+04\n",
       "area_of_feature_bbox         3.95e+13\n",
       "length_of_longest_segment    6.25e+04\n",
       "feature_name_touched         4.37e+04\n",
       "dtype: float64"
      ]
     },
     "execution_count": 11,
     "metadata": {},
     "output_type": "execute_result"
    }
   ],
   "source": [
    "labelled.sum(numeric_only=True)"
   ]
  },
  {
   "cell_type": "code",
   "execution_count": 12,
   "metadata": {},
   "outputs": [
    {
     "name": "stdout",
     "output_type": "stream",
     "text": [
      "Total inliers: (300550, 15)\n",
      "Total outliers: (46681, 15)\n"
     ]
    }
   ],
   "source": [
    "inliers = labelled[labelled['changeset_harmful'] == 1]\n",
    "print('Total inliers: {}'.format(inliers.shape))\n",
    "\n",
    "outliers = labelled[labelled['changeset_harmful'] == -1]\n",
    "print('Total outliers: {}'.format(outliers.shape))"
   ]
  },
  {
   "cell_type": "code",
   "execution_count": 13,
   "metadata": {},
   "outputs": [
    {
     "name": "stdout",
     "output_type": "stream",
     "text": [
      "Training dataset (only inliers): (277785, 15)\n",
      "Validation dataset (only inliers): (22765, 15)\n",
      "Validation dataset (inliers + outliers): (69446, 15)\n"
     ]
    }
   ],
   "source": [
    "total = labelled.shape[0]\n",
    "\n",
    "# 80% of the inliers will be used for training.\n",
    "training = inliers.iloc[0:round(0.8 * total)]\n",
    "training = training.reset_index(drop=True)\n",
    "print('Training dataset (only inliers): {}'.format(training.shape))\n",
    "\n",
    "# 20% of the inliers will be used for validation.\n",
    "validation = inliers.iloc[round(0.8 * total):]\n",
    "validation = validation.reset_index(drop=True)\n",
    "print('Validation dataset (only inliers): {}'.format(validation.shape))\n",
    "\n",
    "# 100% of the outliers will be used for validation too.\n",
    "validation = pd.concat([validation, outliers])\n",
    "validation = validation.reset_index(drop=True)\n",
    "print('Validation dataset (inliers + outliers): {}'.format(validation.shape))"
   ]
  },
  {
   "cell_type": "markdown",
   "metadata": {},
   "source": [
    "## Model training"
   ]
  },
  {
   "cell_type": "code",
   "execution_count": 14,
   "metadata": {
    "collapsed": true
   },
   "outputs": [],
   "source": [
    "X = training.drop(non_training_attributes, axis=1)\n",
    "y = training['changeset_harmful']"
   ]
  },
  {
   "cell_type": "code",
   "execution_count": 15,
   "metadata": {},
   "outputs": [
    {
     "data": {
      "text/plain": [
       "IsolationForest(bootstrap=False, contamination=0.1, max_features=1.0,\n",
       "        max_samples='auto', n_estimators=100, n_jobs=1, random_state=5,\n",
       "        verbose=0)"
      ]
     },
     "execution_count": 15,
     "metadata": {},
     "output_type": "execute_result"
    }
   ],
   "source": [
    "model = IsolationForest(random_state=random_state)\n",
    "model.fit(X)"
   ]
  },
  {
   "cell_type": "code",
   "execution_count": 16,
   "metadata": {
    "collapsed": true
   },
   "outputs": [],
   "source": [
    "training['prediction'] = model.predict(X)\n",
    "training['score'] = model.decision_function(X)\n",
    "training.to_csv(labelled_path + 'training-review.csv', index=False)"
   ]
  },
  {
   "cell_type": "code",
   "execution_count": 17,
   "metadata": {},
   "outputs": [
    {
     "data": {
      "text/plain": [
       "['../gabbar/trained/model.pkl']"
      ]
     },
     "execution_count": 17,
     "metadata": {},
     "output_type": "execute_result"
    }
   ],
   "source": [
    "model_path = '../gabbar/trained/model.pkl'\n",
    "joblib.dump(model, model_path, compress=True)"
   ]
  },
  {
   "cell_type": "code",
   "execution_count": 18,
   "metadata": {},
   "outputs": [
    {
     "data": {
      "text/html": [
       "<div>\n",
       "<table border=\"1\" class=\"dataframe\">\n",
       "  <thead>\n",
       "    <tr style=\"text-align: right;\">\n",
       "      <th></th>\n",
       "      <th>Predicted harmful</th>\n",
       "      <th>Predicted good</th>\n",
       "    </tr>\n",
       "  </thead>\n",
       "  <tbody>\n",
       "    <tr>\n",
       "      <th>Labelled harmful</th>\n",
       "      <td>0</td>\n",
       "      <td>0</td>\n",
       "    </tr>\n",
       "    <tr>\n",
       "      <th>Labelled good</th>\n",
       "      <td>27781</td>\n",
       "      <td>250004</td>\n",
       "    </tr>\n",
       "  </tbody>\n",
       "</table>\n",
       "</div>"
      ],
      "text/plain": [
       "                  Predicted harmful  Predicted good\n",
       "Labelled harmful                  0               0\n",
       "Labelled good                 27781          250004"
      ]
     },
     "execution_count": 18,
     "metadata": {},
     "output_type": "execute_result"
    }
   ],
   "source": [
    "matrix = confusion_matrix(y, training['prediction'])\n",
    "matrix = pd.DataFrame(matrix, index=['Labelled harmful', 'Labelled good'], columns=['Predicted harmful', 'Predicted good'])\n",
    "matrix"
   ]
  },
  {
   "cell_type": "code",
   "execution_count": 19,
   "metadata": {},
   "outputs": [
    {
     "name": "stdout",
     "output_type": "stream",
     "text": [
      "             precision    recall  f1-score   support\n",
      "\n",
      "         -1       0.00      0.00      0.00         0\n",
      "          1       1.00      0.90      0.95    277785\n",
      "\n",
      "avg / total       1.00      0.90      0.95    277785\n",
      "\n"
     ]
    }
   ],
   "source": [
    "report = classification_report(y, training['prediction'])\n",
    "print(report)"
   ]
  },
  {
   "cell_type": "code",
   "execution_count": 20,
   "metadata": {},
   "outputs": [
    {
     "data": {
      "text/html": [
       "<div>\n",
       "<table border=\"1\" class=\"dataframe\">\n",
       "  <thead>\n",
       "    <tr style=\"text-align: right;\">\n",
       "      <th></th>\n",
       "      <th>score</th>\n",
       "    </tr>\n",
       "  </thead>\n",
       "  <tbody>\n",
       "    <tr>\n",
       "      <th>count</th>\n",
       "      <td>277785.00</td>\n",
       "    </tr>\n",
       "    <tr>\n",
       "      <th>mean</th>\n",
       "      <td>0.11</td>\n",
       "    </tr>\n",
       "    <tr>\n",
       "      <th>std</th>\n",
       "      <td>0.08</td>\n",
       "    </tr>\n",
       "    <tr>\n",
       "      <th>min</th>\n",
       "      <td>-0.23</td>\n",
       "    </tr>\n",
       "    <tr>\n",
       "      <th>25%</th>\n",
       "      <td>0.08</td>\n",
       "    </tr>\n",
       "    <tr>\n",
       "      <th>50%</th>\n",
       "      <td>0.14</td>\n",
       "    </tr>\n",
       "    <tr>\n",
       "      <th>75%</th>\n",
       "      <td>0.17</td>\n",
       "    </tr>\n",
       "    <tr>\n",
       "      <th>max</th>\n",
       "      <td>0.18</td>\n",
       "    </tr>\n",
       "  </tbody>\n",
       "</table>\n",
       "</div>"
      ],
      "text/plain": [
       "           score\n",
       "count  277785.00\n",
       "mean        0.11\n",
       "std         0.08\n",
       "min        -0.23\n",
       "25%         0.08\n",
       "50%         0.14\n",
       "75%         0.17\n",
       "max         0.18"
      ]
     },
     "execution_count": 20,
     "metadata": {},
     "output_type": "execute_result"
    },
    {
     "data": {
      "image/png": "[encoded data removed]",
      "text/plain": [
       "<matplotlib.figure.Figure at 0x1035990b8>"
      ]
     },
     "metadata": {
      "image/png": {
       "height": 476,
       "width": 706
      }
     },
     "output_type": "display_data"
    }
   ],
   "source": [
    "ax = training['score'].plot.hist()\n",
    "ax.set_yscale('log')\n",
    "\n",
    "training[['score']].describe()"
   ]
  },
  {
   "cell_type": "markdown",
   "metadata": {
    "collapsed": true
   },
   "source": [
    "## Model validation"
   ]
  },
  {
   "cell_type": "code",
   "execution_count": 21,
   "metadata": {},
   "outputs": [
    {
     "data": {
      "text/plain": [
       "changeset_harmful\n",
       "-1    46681\n",
       " 1    22765\n",
       "dtype: int64"
      ]
     },
     "execution_count": 21,
     "metadata": {},
     "output_type": "execute_result"
    }
   ],
   "source": [
    "validation.groupby('changeset_harmful').size()"
   ]
  },
  {
   "cell_type": "code",
   "execution_count": 22,
   "metadata": {
    "collapsed": true
   },
   "outputs": [],
   "source": [
    "vX = validation.drop(non_training_attributes, axis=1)\n",
    "vy = validation['changeset_harmful']"
   ]
  },
  {
   "cell_type": "code",
   "execution_count": 23,
   "metadata": {
    "collapsed": true
   },
   "outputs": [],
   "source": [
    "validation['prediction'] = model.predict(vX)\n",
    "validation['score'] = model.decision_function(vX)\n",
    "\n",
    "validation.to_csv(labelled_path + 'validation-review.csv', index=False)"
   ]
  },
  {
   "cell_type": "code",
   "execution_count": 24,
   "metadata": {},
   "outputs": [
    {
     "data": {
      "text/html": [
       "<div>\n",
       "<table border=\"1\" class=\"dataframe\">\n",
       "  <thead>\n",
       "    <tr style=\"text-align: right;\">\n",
       "      <th></th>\n",
       "      <th>Predicted harmful</th>\n",
       "      <th>Predicted good</th>\n",
       "    </tr>\n",
       "  </thead>\n",
       "  <tbody>\n",
       "    <tr>\n",
       "      <th>Labelled harmful</th>\n",
       "      <td>8470</td>\n",
       "      <td>38211</td>\n",
       "    </tr>\n",
       "    <tr>\n",
       "      <th>Labelled good</th>\n",
       "      <td>2232</td>\n",
       "      <td>20533</td>\n",
       "    </tr>\n",
       "  </tbody>\n",
       "</table>\n",
       "</div>"
      ],
      "text/plain": [
       "                  Predicted harmful  Predicted good\n",
       "Labelled harmful               8470           38211\n",
       "Labelled good                  2232           20533"
      ]
     },
     "execution_count": 24,
     "metadata": {},
     "output_type": "execute_result"
    }
   ],
   "source": [
    "matrix = confusion_matrix(vy, validation['prediction'])\n",
    "matrix = pd.DataFrame(matrix, index=['Labelled harmful', 'Labelled good'], columns=['Predicted harmful', 'Predicted good'])\n",
    "matrix"
   ]
  },
  {
   "cell_type": "code",
   "execution_count": 25,
   "metadata": {},
   "outputs": [
    {
     "name": "stdout",
     "output_type": "stream",
     "text": [
      "             precision    recall  f1-score   support\n",
      "\n",
      "         -1       0.79      0.18      0.30     46681\n",
      "          1       0.35      0.90      0.50     22765\n",
      "\n",
      "avg / total       0.65      0.42      0.36     69446\n",
      "\n"
     ]
    }
   ],
   "source": [
    "report = classification_report(vy, validation['prediction'])\n",
    "print(report)"
   ]
  },
  {
   "cell_type": "code",
   "execution_count": 26,
   "metadata": {},
   "outputs": [
    {
     "data": {
      "text/html": [
       "<div>\n",
       "<table border=\"1\" class=\"dataframe\">\n",
       "  <thead>\n",
       "    <tr style=\"text-align: right;\">\n",
       "      <th></th>\n",
       "      <th>score</th>\n",
       "    </tr>\n",
       "  </thead>\n",
       "  <tbody>\n",
       "    <tr>\n",
       "      <th>count</th>\n",
       "      <td>69446.00</td>\n",
       "    </tr>\n",
       "    <tr>\n",
       "      <th>mean</th>\n",
       "      <td>0.10</td>\n",
       "    </tr>\n",
       "    <tr>\n",
       "      <th>std</th>\n",
       "      <td>0.08</td>\n",
       "    </tr>\n",
       "    <tr>\n",
       "      <th>min</th>\n",
       "      <td>-0.22</td>\n",
       "    </tr>\n",
       "    <tr>\n",
       "      <th>25%</th>\n",
       "      <td>0.06</td>\n",
       "    </tr>\n",
       "    <tr>\n",
       "      <th>50%</th>\n",
       "      <td>0.11</td>\n",
       "    </tr>\n",
       "    <tr>\n",
       "      <th>75%</th>\n",
       "      <td>0.17</td>\n",
       "    </tr>\n",
       "    <tr>\n",
       "      <th>max</th>\n",
       "      <td>0.18</td>\n",
       "    </tr>\n",
       "  </tbody>\n",
       "</table>\n",
       "</div>"
      ],
      "text/plain": [
       "          score\n",
       "count  69446.00\n",
       "mean       0.10\n",
       "std        0.08\n",
       "min       -0.22\n",
       "25%        0.06\n",
       "50%        0.11\n",
       "75%        0.17\n",
       "max        0.18"
      ]
     },
     "execution_count": 26,
     "metadata": {},
     "output_type": "execute_result"
    },
    {
     "data": {
      "image/png": "[encoded data removed]",
      "text/plain": [
       "<matplotlib.figure.Figure at 0x1224db5f8>"
      ]
     },
     "metadata": {
      "image/png": {
       "height": 476,
       "width": 706
      }
     },
     "output_type": "display_data"
    }
   ],
   "source": [
    "ax = validation['score'].plot.hist()\n",
    "ax.set_yscale('log')\n",
    "\n",
    "validation[['score']].describe()"
   ]
  },
  {
   "cell_type": "markdown",
   "metadata": {},
   "source": [
    "## Model testing"
   ]
  },
  {
   "cell_type": "code",
   "execution_count": 27,
   "metadata": {
    "collapsed": true
   },
   "outputs": [],
   "source": [
    "unlabelled_path = testing_path = '../downloads/anomaly-detection/unlabelled/'"
   ]
  },
  {
   "cell_type": "code",
   "execution_count": 28,
   "metadata": {},
   "outputs": [
    {
     "name": "stdout",
     "output_type": "stream",
     "text": [
      "(288, 15)\n"
     ]
    },
    {
     "data": {
      "text/html": [
       "<div>\n",
       "<table border=\"1\" class=\"dataframe\">\n",
       "  <thead>\n",
       "    <tr style=\"text-align: right;\">\n",
       "      <th></th>\n",
       "      <th>changeset_id</th>\n",
       "      <th>changeset_harmful</th>\n",
       "      <th>feature_id</th>\n",
       "      <th>feature_type</th>\n",
       "      <th>action_create</th>\n",
       "      <th>action_modify</th>\n",
       "      <th>action_delete</th>\n",
       "      <th>feature_version</th>\n",
       "      <th>highway_tag_created</th>\n",
       "      <th>highway_tag_deleted</th>\n",
       "      <th>highway_value_difference</th>\n",
       "      <th>primary_tags_difference</th>\n",
       "      <th>area_of_feature_bbox</th>\n",
       "      <th>length_of_longest_segment</th>\n",
       "      <th>feature_name_touched</th>\n",
       "    </tr>\n",
       "  </thead>\n",
       "  <tbody>\n",
       "    <tr>\n",
       "      <th>9</th>\n",
       "      <td>49180282</td>\n",
       "      <td>NaN</td>\n",
       "      <td>497451997</td>\n",
       "      <td>way</td>\n",
       "      <td>0</td>\n",
       "      <td>1</td>\n",
       "      <td>0</td>\n",
       "      <td>3</td>\n",
       "      <td>0</td>\n",
       "      <td>0</td>\n",
       "      <td>0</td>\n",
       "      <td>0</td>\n",
       "      <td>37445.69</td>\n",
       "      <td>0.27</td>\n",
       "      <td>0</td>\n",
       "    </tr>\n",
       "    <tr>\n",
       "      <th>256</th>\n",
       "      <td>49171711</td>\n",
       "      <td>NaN</td>\n",
       "      <td>412457723</td>\n",
       "      <td>way</td>\n",
       "      <td>0</td>\n",
       "      <td>1</td>\n",
       "      <td>0</td>\n",
       "      <td>2</td>\n",
       "      <td>0</td>\n",
       "      <td>0</td>\n",
       "      <td>0</td>\n",
       "      <td>0</td>\n",
       "      <td>29823.52</td>\n",
       "      <td>0.25</td>\n",
       "      <td>0</td>\n",
       "    </tr>\n",
       "    <tr>\n",
       "      <th>61</th>\n",
       "      <td>49177918</td>\n",
       "      <td>NaN</td>\n",
       "      <td>333342921</td>\n",
       "      <td>way</td>\n",
       "      <td>0</td>\n",
       "      <td>1</td>\n",
       "      <td>0</td>\n",
       "      <td>3</td>\n",
       "      <td>0</td>\n",
       "      <td>0</td>\n",
       "      <td>0</td>\n",
       "      <td>0</td>\n",
       "      <td>3543.21</td>\n",
       "      <td>0.06</td>\n",
       "      <td>0</td>\n",
       "    </tr>\n",
       "    <tr>\n",
       "      <th>185</th>\n",
       "      <td>49173264</td>\n",
       "      <td>NaN</td>\n",
       "      <td>31862259</td>\n",
       "      <td>way</td>\n",
       "      <td>0</td>\n",
       "      <td>1</td>\n",
       "      <td>0</td>\n",
       "      <td>5</td>\n",
       "      <td>0</td>\n",
       "      <td>0</td>\n",
       "      <td>0</td>\n",
       "      <td>0</td>\n",
       "      <td>7832.68</td>\n",
       "      <td>0.08</td>\n",
       "      <td>0</td>\n",
       "    </tr>\n",
       "    <tr>\n",
       "      <th>66</th>\n",
       "      <td>49177815</td>\n",
       "      <td>NaN</td>\n",
       "      <td>1657992650</td>\n",
       "      <td>node</td>\n",
       "      <td>0</td>\n",
       "      <td>1</td>\n",
       "      <td>0</td>\n",
       "      <td>4</td>\n",
       "      <td>0</td>\n",
       "      <td>0</td>\n",
       "      <td>0</td>\n",
       "      <td>0</td>\n",
       "      <td>0.00</td>\n",
       "      <td>0.00</td>\n",
       "      <td>0</td>\n",
       "    </tr>\n",
       "    <tr>\n",
       "      <th>23</th>\n",
       "      <td>49179533</td>\n",
       "      <td>NaN</td>\n",
       "      <td>255803613</td>\n",
       "      <td>way</td>\n",
       "      <td>0</td>\n",
       "      <td>1</td>\n",
       "      <td>0</td>\n",
       "      <td>3</td>\n",
       "      <td>0</td>\n",
       "      <td>0</td>\n",
       "      <td>0</td>\n",
       "      <td>1</td>\n",
       "      <td>1172.73</td>\n",
       "      <td>0.00</td>\n",
       "      <td>0</td>\n",
       "    </tr>\n",
       "    <tr>\n",
       "      <th>217</th>\n",
       "      <td>49172420</td>\n",
       "      <td>NaN</td>\n",
       "      <td>162275052</td>\n",
       "      <td>way</td>\n",
       "      <td>0</td>\n",
       "      <td>1</td>\n",
       "      <td>0</td>\n",
       "      <td>12</td>\n",
       "      <td>0</td>\n",
       "      <td>0</td>\n",
       "      <td>-25</td>\n",
       "      <td>0</td>\n",
       "      <td>571.69</td>\n",
       "      <td>0.05</td>\n",
       "      <td>0</td>\n",
       "    </tr>\n",
       "    <tr>\n",
       "      <th>140</th>\n",
       "      <td>49175061</td>\n",
       "      <td>NaN</td>\n",
       "      <td>976875261</td>\n",
       "      <td>node</td>\n",
       "      <td>0</td>\n",
       "      <td>0</td>\n",
       "      <td>1</td>\n",
       "      <td>2</td>\n",
       "      <td>0</td>\n",
       "      <td>15</td>\n",
       "      <td>0</td>\n",
       "      <td>-1</td>\n",
       "      <td>0.00</td>\n",
       "      <td>0.00</td>\n",
       "      <td>0</td>\n",
       "    </tr>\n",
       "    <tr>\n",
       "      <th>115</th>\n",
       "      <td>49176051</td>\n",
       "      <td>NaN</td>\n",
       "      <td>31798061</td>\n",
       "      <td>way</td>\n",
       "      <td>0</td>\n",
       "      <td>1</td>\n",
       "      <td>0</td>\n",
       "      <td>9</td>\n",
       "      <td>0</td>\n",
       "      <td>0</td>\n",
       "      <td>0</td>\n",
       "      <td>0</td>\n",
       "      <td>226049.24</td>\n",
       "      <td>0.08</td>\n",
       "      <td>0</td>\n",
       "    </tr>\n",
       "    <tr>\n",
       "      <th>35</th>\n",
       "      <td>49179054</td>\n",
       "      <td>NaN</td>\n",
       "      <td>322701935</td>\n",
       "      <td>way</td>\n",
       "      <td>0</td>\n",
       "      <td>1</td>\n",
       "      <td>0</td>\n",
       "      <td>3</td>\n",
       "      <td>0</td>\n",
       "      <td>0</td>\n",
       "      <td>0</td>\n",
       "      <td>0</td>\n",
       "      <td>1590.82</td>\n",
       "      <td>0.03</td>\n",
       "      <td>0</td>\n",
       "    </tr>\n",
       "  </tbody>\n",
       "</table>\n",
       "</div>"
      ],
      "text/plain": [
       "     changeset_id  changeset_harmful  feature_id feature_type  action_create  \\\n",
       "9        49180282                NaN   497451997          way              0   \n",
       "256      49171711                NaN   412457723          way              0   \n",
       "61       49177918                NaN   333342921          way              0   \n",
       "185      49173264                NaN    31862259          way              0   \n",
       "66       49177815                NaN  1657992650         node              0   \n",
       "23       49179533                NaN   255803613          way              0   \n",
       "217      49172420                NaN   162275052          way              0   \n",
       "140      49175061                NaN   976875261         node              0   \n",
       "115      49176051                NaN    31798061          way              0   \n",
       "35       49179054                NaN   322701935          way              0   \n",
       "\n",
       "     action_modify  action_delete  feature_version  highway_tag_created  \\\n",
       "9                1              0                3                    0   \n",
       "256              1              0                2                    0   \n",
       "61               1              0                3                    0   \n",
       "185              1              0                5                    0   \n",
       "66               1              0                4                    0   \n",
       "23               1              0                3                    0   \n",
       "217              1              0               12                    0   \n",
       "140              0              1                2                    0   \n",
       "115              1              0                9                    0   \n",
       "35               1              0                3                    0   \n",
       "\n",
       "     highway_tag_deleted  highway_value_difference  primary_tags_difference  \\\n",
       "9                      0                         0                        0   \n",
       "256                    0                         0                        0   \n",
       "61                     0                         0                        0   \n",
       "185                    0                         0                        0   \n",
       "66                     0                         0                        0   \n",
       "23                     0                         0                        1   \n",
       "217                    0                       -25                        0   \n",
       "140                   15                         0                       -1   \n",
       "115                    0                         0                        0   \n",
       "35                     0                         0                        0   \n",
       "\n",
       "     area_of_feature_bbox  length_of_longest_segment  feature_name_touched  \n",
       "9                37445.69                       0.27                     0  \n",
       "256              29823.52                       0.25                     0  \n",
       "61                3543.21                       0.06                     0  \n",
       "185               7832.68                       0.08                     0  \n",
       "66                   0.00                       0.00                     0  \n",
       "23                1172.73                       0.00                     0  \n",
       "217                571.69                       0.05                     0  \n",
       "140                  0.00                       0.00                     0  \n",
       "115             226049.24                       0.08                     0  \n",
       "35                1590.82                       0.03                     0  "
      ]
     },
     "execution_count": 28,
     "metadata": {},
     "output_type": "execute_result"
    }
   ],
   "source": [
    "unlabelled = pd.read_csv(unlabelled_path + 'attributes.csv')\n",
    "print(unlabelled.shape)\n",
    "unlabelled.sample(10)"
   ]
  },
  {
   "cell_type": "code",
   "execution_count": 29,
   "metadata": {},
   "outputs": [
    {
     "name": "stdout",
     "output_type": "stream",
     "text": [
      "Shape before dropping duplicates: (288, 15)\n",
      "Shape after dropping duplicates: (288, 15)\n"
     ]
    }
   ],
   "source": [
    "# Drop all duplicate samples.\n",
    "print('Shape before dropping duplicates: {}'.format(unlabelled.shape))\n",
    "unlabelled = unlabelled.drop_duplicates(subset=['changeset_id', 'feature_id'])\n",
    "print('Shape after dropping duplicates: {}'.format(unlabelled.shape))"
   ]
  },
  {
   "cell_type": "code",
   "execution_count": 30,
   "metadata": {
    "collapsed": true
   },
   "outputs": [],
   "source": [
    "# Using all of the unlabelled dataset for testing.\n",
    "testing = unlabelled.sample(unlabelled.shape[0])"
   ]
  },
  {
   "cell_type": "code",
   "execution_count": 31,
   "metadata": {},
   "outputs": [
    {
     "data": {
      "text/html": [
       "<div>\n",
       "<table border=\"1\" class=\"dataframe\">\n",
       "  <thead>\n",
       "    <tr style=\"text-align: right;\">\n",
       "      <th></th>\n",
       "      <th>changeset_id</th>\n",
       "      <th>changeset_harmful</th>\n",
       "      <th>feature_id</th>\n",
       "      <th>action_create</th>\n",
       "      <th>action_modify</th>\n",
       "      <th>action_delete</th>\n",
       "      <th>feature_version</th>\n",
       "      <th>highway_tag_created</th>\n",
       "      <th>highway_tag_deleted</th>\n",
       "      <th>highway_value_difference</th>\n",
       "      <th>primary_tags_difference</th>\n",
       "      <th>area_of_feature_bbox</th>\n",
       "      <th>length_of_longest_segment</th>\n",
       "      <th>feature_name_touched</th>\n",
       "    </tr>\n",
       "  </thead>\n",
       "  <tbody>\n",
       "    <tr>\n",
       "      <th>count</th>\n",
       "      <td>2.88e+02</td>\n",
       "      <td>0.0</td>\n",
       "      <td>2.88e+02</td>\n",
       "      <td>288.00</td>\n",
       "      <td>288.00</td>\n",
       "      <td>288.00</td>\n",
       "      <td>288.00</td>\n",
       "      <td>288.00</td>\n",
       "      <td>288.00</td>\n",
       "      <td>288.00</td>\n",
       "      <td>288.00</td>\n",
       "      <td>2.88e+02</td>\n",
       "      <td>288.00</td>\n",
       "      <td>288.00</td>\n",
       "    </tr>\n",
       "    <tr>\n",
       "      <th>mean</th>\n",
       "      <td>4.92e+07</td>\n",
       "      <td>NaN</td>\n",
       "      <td>5.11e+08</td>\n",
       "      <td>0.04</td>\n",
       "      <td>0.95</td>\n",
       "      <td>0.01</td>\n",
       "      <td>4.67</td>\n",
       "      <td>1.65</td>\n",
       "      <td>1.28</td>\n",
       "      <td>-0.89</td>\n",
       "      <td>0.06</td>\n",
       "      <td>2.69e+06</td>\n",
       "      <td>0.11</td>\n",
       "      <td>0.01</td>\n",
       "    </tr>\n",
       "    <tr>\n",
       "      <th>std</th>\n",
       "      <td>2.88e+03</td>\n",
       "      <td>NaN</td>\n",
       "      <td>1.02e+09</td>\n",
       "      <td>0.19</td>\n",
       "      <td>0.22</td>\n",
       "      <td>0.12</td>\n",
       "      <td>3.92</td>\n",
       "      <td>6.43</td>\n",
       "      <td>6.26</td>\n",
       "      <td>4.67</td>\n",
       "      <td>0.37</td>\n",
       "      <td>2.57e+07</td>\n",
       "      <td>0.26</td>\n",
       "      <td>0.12</td>\n",
       "    </tr>\n",
       "    <tr>\n",
       "      <th>min</th>\n",
       "      <td>4.92e+07</td>\n",
       "      <td>NaN</td>\n",
       "      <td>4.31e+06</td>\n",
       "      <td>0.00</td>\n",
       "      <td>0.00</td>\n",
       "      <td>0.00</td>\n",
       "      <td>1.00</td>\n",
       "      <td>0.00</td>\n",
       "      <td>0.00</td>\n",
       "      <td>-35.00</td>\n",
       "      <td>-1.00</td>\n",
       "      <td>0.00e+00</td>\n",
       "      <td>0.00</td>\n",
       "      <td>0.00</td>\n",
       "    </tr>\n",
       "    <tr>\n",
       "      <th>25%</th>\n",
       "      <td>4.92e+07</td>\n",
       "      <td>NaN</td>\n",
       "      <td>1.03e+08</td>\n",
       "      <td>0.00</td>\n",
       "      <td>1.00</td>\n",
       "      <td>0.00</td>\n",
       "      <td>2.00</td>\n",
       "      <td>0.00</td>\n",
       "      <td>0.00</td>\n",
       "      <td>0.00</td>\n",
       "      <td>0.00</td>\n",
       "      <td>4.09e+02</td>\n",
       "      <td>0.02</td>\n",
       "      <td>0.00</td>\n",
       "    </tr>\n",
       "    <tr>\n",
       "      <th>50%</th>\n",
       "      <td>4.92e+07</td>\n",
       "      <td>NaN</td>\n",
       "      <td>3.05e+08</td>\n",
       "      <td>0.00</td>\n",
       "      <td>1.00</td>\n",
       "      <td>0.00</td>\n",
       "      <td>3.00</td>\n",
       "      <td>0.00</td>\n",
       "      <td>0.00</td>\n",
       "      <td>0.00</td>\n",
       "      <td>0.00</td>\n",
       "      <td>4.57e+03</td>\n",
       "      <td>0.05</td>\n",
       "      <td>0.00</td>\n",
       "    </tr>\n",
       "    <tr>\n",
       "      <th>75%</th>\n",
       "      <td>4.92e+07</td>\n",
       "      <td>NaN</td>\n",
       "      <td>4.54e+08</td>\n",
       "      <td>0.00</td>\n",
       "      <td>1.00</td>\n",
       "      <td>0.00</td>\n",
       "      <td>5.00</td>\n",
       "      <td>0.00</td>\n",
       "      <td>0.00</td>\n",
       "      <td>0.00</td>\n",
       "      <td>0.00</td>\n",
       "      <td>3.82e+04</td>\n",
       "      <td>0.10</td>\n",
       "      <td>0.00</td>\n",
       "    </tr>\n",
       "    <tr>\n",
       "      <th>max</th>\n",
       "      <td>4.92e+07</td>\n",
       "      <td>NaN</td>\n",
       "      <td>4.89e+09</td>\n",
       "      <td>1.00</td>\n",
       "      <td>1.00</td>\n",
       "      <td>1.00</td>\n",
       "      <td>28.00</td>\n",
       "      <td>41.00</td>\n",
       "      <td>37.00</td>\n",
       "      <td>16.00</td>\n",
       "      <td>2.00</td>\n",
       "      <td>4.04e+08</td>\n",
       "      <td>3.02</td>\n",
       "      <td>1.00</td>\n",
       "    </tr>\n",
       "  </tbody>\n",
       "</table>\n",
       "</div>"
      ],
      "text/plain": [
       "       changeset_id  changeset_harmful  feature_id  action_create  \\\n",
       "count      2.88e+02                0.0    2.88e+02         288.00   \n",
       "mean       4.92e+07                NaN    5.11e+08           0.04   \n",
       "std        2.88e+03                NaN    1.02e+09           0.19   \n",
       "min        4.92e+07                NaN    4.31e+06           0.00   \n",
       "25%        4.92e+07                NaN    1.03e+08           0.00   \n",
       "50%        4.92e+07                NaN    3.05e+08           0.00   \n",
       "75%        4.92e+07                NaN    4.54e+08           0.00   \n",
       "max        4.92e+07                NaN    4.89e+09           1.00   \n",
       "\n",
       "       action_modify  action_delete  feature_version  highway_tag_created  \\\n",
       "count         288.00         288.00           288.00               288.00   \n",
       "mean            0.95           0.01             4.67                 1.65   \n",
       "std             0.22           0.12             3.92                 6.43   \n",
       "min             0.00           0.00             1.00                 0.00   \n",
       "25%             1.00           0.00             2.00                 0.00   \n",
       "50%             1.00           0.00             3.00                 0.00   \n",
       "75%             1.00           0.00             5.00                 0.00   \n",
       "max             1.00           1.00            28.00                41.00   \n",
       "\n",
       "       highway_tag_deleted  highway_value_difference  primary_tags_difference  \\\n",
       "count               288.00                    288.00                   288.00   \n",
       "mean                  1.28                     -0.89                     0.06   \n",
       "std                   6.26                      4.67                     0.37   \n",
       "min                   0.00                    -35.00                    -1.00   \n",
       "25%                   0.00                      0.00                     0.00   \n",
       "50%                   0.00                      0.00                     0.00   \n",
       "75%                   0.00                      0.00                     0.00   \n",
       "max                  37.00                     16.00                     2.00   \n",
       "\n",
       "       area_of_feature_bbox  length_of_longest_segment  feature_name_touched  \n",
       "count              2.88e+02                     288.00                288.00  \n",
       "mean               2.69e+06                       0.11                  0.01  \n",
       "std                2.57e+07                       0.26                  0.12  \n",
       "min                0.00e+00                       0.00                  0.00  \n",
       "25%                4.09e+02                       0.02                  0.00  \n",
       "50%                4.57e+03                       0.05                  0.00  \n",
       "75%                3.82e+04                       0.10                  0.00  \n",
       "max                4.04e+08                       3.02                  1.00  "
      ]
     },
     "execution_count": 31,
     "metadata": {},
     "output_type": "execute_result"
    }
   ],
   "source": [
    "testing.describe()"
   ]
  },
  {
   "cell_type": "code",
   "execution_count": 32,
   "metadata": {},
   "outputs": [
    {
     "data": {
      "text/plain": [
       "changeset_id                 1.42e+10\n",
       "changeset_harmful            0.00e+00\n",
       "feature_id                   1.47e+11\n",
       "action_create                1.10e+01\n",
       "action_modify                2.73e+02\n",
       "action_delete                4.00e+00\n",
       "feature_version              1.34e+03\n",
       "highway_tag_created          4.74e+02\n",
       "highway_tag_deleted          3.70e+02\n",
       "highway_value_difference    -2.57e+02\n",
       "primary_tags_difference      1.70e+01\n",
       "area_of_feature_bbox         7.75e+08\n",
       "length_of_longest_segment    3.24e+01\n",
       "feature_name_touched         4.00e+00\n",
       "dtype: float64"
      ]
     },
     "execution_count": 32,
     "metadata": {},
     "output_type": "execute_result"
    }
   ],
   "source": [
    "testing.sum(numeric_only=True)"
   ]
  },
  {
   "cell_type": "code",
   "execution_count": 33,
   "metadata": {
    "collapsed": true
   },
   "outputs": [],
   "source": [
    "tX = testing.drop(non_training_attributes, axis=1)\n",
    "ty = testing['changeset_harmful']"
   ]
  },
  {
   "cell_type": "code",
   "execution_count": 34,
   "metadata": {},
   "outputs": [],
   "source": [
    "testing['prediction'] = model.predict(tX)\n",
    "testing['score'] = model.decision_function(tX)\n",
    "\n",
    "testing.to_csv(unlabelled_path + 'testing-review.csv', index=False)"
   ]
  },
  {
   "cell_type": "code",
   "execution_count": 35,
   "metadata": {},
   "outputs": [
    {
     "name": "stdout",
     "output_type": "stream",
     "text": [
      "Predicted good: 269\n",
      "Predicted harmful: 19\n",
      "Percentage harmful: 6.6%\n"
     ]
    }
   ],
   "source": [
    "tharmful_count = testing[testing['prediction'] == -1].shape[0]\n",
    "tnot_harmful_count = testing[testing['prediction'] == 1].shape[0]\n",
    "\n",
    "print('Predicted good: {}'.format(tnot_harmful_count))\n",
    "print('Predicted harmful: {}'.format(tharmful_count))\n",
    "\n",
    "print('Percentage harmful: {}%'.format(round(100.0 * tharmful_count / testing.shape[0], 2)))"
   ]
  },
  {
   "cell_type": "code",
   "execution_count": 36,
   "metadata": {},
   "outputs": [
    {
     "data": {
      "text/html": [
       "<div>\n",
       "<table border=\"1\" class=\"dataframe\">\n",
       "  <thead>\n",
       "    <tr style=\"text-align: right;\">\n",
       "      <th></th>\n",
       "      <th>score</th>\n",
       "    </tr>\n",
       "  </thead>\n",
       "  <tbody>\n",
       "    <tr>\n",
       "      <th>count</th>\n",
       "      <td>288.00</td>\n",
       "    </tr>\n",
       "    <tr>\n",
       "      <th>mean</th>\n",
       "      <td>0.14</td>\n",
       "    </tr>\n",
       "    <tr>\n",
       "      <th>std</th>\n",
       "      <td>0.06</td>\n",
       "    </tr>\n",
       "    <tr>\n",
       "      <th>min</th>\n",
       "      <td>-0.12</td>\n",
       "    </tr>\n",
       "    <tr>\n",
       "      <th>25%</th>\n",
       "      <td>0.11</td>\n",
       "    </tr>\n",
       "    <tr>\n",
       "      <th>50%</th>\n",
       "      <td>0.17</td>\n",
       "    </tr>\n",
       "    <tr>\n",
       "      <th>75%</th>\n",
       "      <td>0.17</td>\n",
       "    </tr>\n",
       "    <tr>\n",
       "      <th>max</th>\n",
       "      <td>0.18</td>\n",
       "    </tr>\n",
       "  </tbody>\n",
       "</table>\n",
       "</div>"
      ],
      "text/plain": [
       "        score\n",
       "count  288.00\n",
       "mean     0.14\n",
       "std      0.06\n",
       "min     -0.12\n",
       "25%      0.11\n",
       "50%      0.17\n",
       "75%      0.17\n",
       "max      0.18"
      ]
     },
     "execution_count": 36,
     "metadata": {},
     "output_type": "execute_result"
    },
    {
     "data": {
      "image/png": "[encoded data removed]",
      "text/plain": [
       "<matplotlib.figure.Figure at 0x1045485c0>"
      ]
     },
     "metadata": {
      "image/png": {
       "height": 476,
       "width": 706
      }
     },
     "output_type": "display_data"
    }
   ],
   "source": [
    "ax = testing['score'].plot.hist()\n",
    "ax.set_yscale('log')\n",
    "\n",
    "testing[['score']].describe()"
   ]
  }
 ],
 "metadata": {
  "anaconda-cloud": {},
  "kernelspec": {
   "display_name": "Python [conda root]",
   "language": "python",
   "name": "conda-root-py"
  },
  "language_info": {
   "codemirror_mode": {
    "name": "ipython",
    "version": 3
   },
   "file_extension": ".py",
   "mimetype": "text/x-python",
   "name": "python",
   "nbconvert_exporter": "python",
   "pygments_lexer": "ipython3",
   "version": "3.5.2"
  }
 },
 "nbformat": 4,
 "nbformat_minor": 2
}
