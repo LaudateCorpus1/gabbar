{
 "cells": [
  {
   "cell_type": "markdown",
   "metadata": {},
   "source": [
    "# Anomaly detection - Gabbar"
   ]
  },
  {
   "cell_type": "code",
   "execution_count": 1,
   "metadata": {
    "collapsed": true
   },
   "outputs": [],
   "source": [
    "%matplotlib inline\n",
    "%config InlineBackend.figure_format = 'retina'\n",
    "\n",
    "import warnings\n",
    "warnings.filterwarnings(\"ignore\")"
   ]
  },
  {
   "cell_type": "code",
   "execution_count": 2,
   "metadata": {
    "collapsed": true
   },
   "outputs": [],
   "source": [
    "import pandas as pd\n",
    "import numpy as np\n",
    "import matplotlib.pyplot as plt\n",
    "import seaborn as sns"
   ]
  },
  {
   "cell_type": "code",
   "execution_count": 3,
   "metadata": {
    "collapsed": true
   },
   "outputs": [],
   "source": [
    "from sklearn.model_selection import cross_val_score\n",
    "from sklearn.ensemble import IsolationForest"
   ]
  },
  {
   "cell_type": "code",
   "execution_count": 4,
   "metadata": {
    "collapsed": true
   },
   "outputs": [],
   "source": [
    "pd.set_option('display.precision', 2)\n",
    "pd.set_option('display.max_columns', None)"
   ]
  },
  {
   "cell_type": "code",
   "execution_count": 5,
   "metadata": {
    "collapsed": true
   },
   "outputs": [],
   "source": [
    "random_state = 5\n",
    "cv = 10"
   ]
  },
  {
   "cell_type": "code",
   "execution_count": 6,
   "metadata": {
    "collapsed": true
   },
   "outputs": [],
   "source": [
    "non_training_attributes = ['changeset_id', 'changeset_harmful', 'feature_id', 'feature_type']"
   ]
  },
  {
   "cell_type": "markdown",
   "metadata": {},
   "source": [
    "## Prepare datasets"
   ]
  },
  {
   "cell_type": "code",
   "execution_count": 7,
   "metadata": {
    "collapsed": true
   },
   "outputs": [],
   "source": [
    "labelled_path = '../downloads/anomaly-detection/labelled/'"
   ]
  },
  {
   "cell_type": "code",
   "execution_count": 8,
   "metadata": {},
   "outputs": [
    {
     "name": "stdout",
     "output_type": "stream",
     "text": [
      "(2272, 14)\n"
     ]
    },
    {
     "data": {
      "text/html": [
       "<div>\n",
       "<table border=\"1\" class=\"dataframe\">\n",
       "  <thead>\n",
       "    <tr style=\"text-align: right;\">\n",
       "      <th></th>\n",
       "      <th>changeset_id</th>\n",
       "      <th>changeset_harmful</th>\n",
       "      <th>feature_id</th>\n",
       "      <th>feature_type</th>\n",
       "      <th>action_create</th>\n",
       "      <th>action_modify</th>\n",
       "      <th>action_delete</th>\n",
       "      <th>feature_version</th>\n",
       "      <th>highway_tag_created</th>\n",
       "      <th>highway_tag_deleted</th>\n",
       "      <th>highway_value_difference</th>\n",
       "      <th>primary_tags_difference</th>\n",
       "      <th>area_of_feature_bbox</th>\n",
       "      <th>length_of_longest_segment</th>\n",
       "    </tr>\n",
       "  </thead>\n",
       "  <tbody>\n",
       "    <tr>\n",
       "      <th>648</th>\n",
       "      <td>47527246</td>\n",
       "      <td>1</td>\n",
       "      <td>22650068</td>\n",
       "      <td>way</td>\n",
       "      <td>0</td>\n",
       "      <td>1</td>\n",
       "      <td>0</td>\n",
       "      <td>7</td>\n",
       "      <td>0</td>\n",
       "      <td>0</td>\n",
       "      <td>0</td>\n",
       "      <td>0</td>\n",
       "      <td>221.36</td>\n",
       "      <td>3.40e-03</td>\n",
       "    </tr>\n",
       "    <tr>\n",
       "      <th>911</th>\n",
       "      <td>47496095</td>\n",
       "      <td>1</td>\n",
       "      <td>28798331</td>\n",
       "      <td>way</td>\n",
       "      <td>0</td>\n",
       "      <td>1</td>\n",
       "      <td>0</td>\n",
       "      <td>21</td>\n",
       "      <td>0</td>\n",
       "      <td>0</td>\n",
       "      <td>0</td>\n",
       "      <td>0</td>\n",
       "      <td>728.45</td>\n",
       "      <td>5.31e-02</td>\n",
       "    </tr>\n",
       "    <tr>\n",
       "      <th>230</th>\n",
       "      <td>47974373</td>\n",
       "      <td>1</td>\n",
       "      <td>460606347</td>\n",
       "      <td>way</td>\n",
       "      <td>0</td>\n",
       "      <td>1</td>\n",
       "      <td>0</td>\n",
       "      <td>4</td>\n",
       "      <td>0</td>\n",
       "      <td>0</td>\n",
       "      <td>0</td>\n",
       "      <td>0</td>\n",
       "      <td>2541.26</td>\n",
       "      <td>5.95e-02</td>\n",
       "    </tr>\n",
       "    <tr>\n",
       "      <th>1041</th>\n",
       "      <td>47448859</td>\n",
       "      <td>1</td>\n",
       "      <td>157719746</td>\n",
       "      <td>way</td>\n",
       "      <td>0</td>\n",
       "      <td>1</td>\n",
       "      <td>0</td>\n",
       "      <td>3</td>\n",
       "      <td>0</td>\n",
       "      <td>0</td>\n",
       "      <td>0</td>\n",
       "      <td>0</td>\n",
       "      <td>215734.15</td>\n",
       "      <td>1.20e-01</td>\n",
       "    </tr>\n",
       "    <tr>\n",
       "      <th>587</th>\n",
       "      <td>47533332</td>\n",
       "      <td>1</td>\n",
       "      <td>37534833</td>\n",
       "      <td>way</td>\n",
       "      <td>0</td>\n",
       "      <td>1</td>\n",
       "      <td>0</td>\n",
       "      <td>9</td>\n",
       "      <td>0</td>\n",
       "      <td>0</td>\n",
       "      <td>0</td>\n",
       "      <td>0</td>\n",
       "      <td>16166.94</td>\n",
       "      <td>1.93e-01</td>\n",
       "    </tr>\n",
       "    <tr>\n",
       "      <th>545</th>\n",
       "      <td>47538950</td>\n",
       "      <td>1</td>\n",
       "      <td>286494106</td>\n",
       "      <td>way</td>\n",
       "      <td>0</td>\n",
       "      <td>1</td>\n",
       "      <td>0</td>\n",
       "      <td>2</td>\n",
       "      <td>0</td>\n",
       "      <td>0</td>\n",
       "      <td>0</td>\n",
       "      <td>0</td>\n",
       "      <td>4896.89</td>\n",
       "      <td>7.99e-02</td>\n",
       "    </tr>\n",
       "    <tr>\n",
       "      <th>1072</th>\n",
       "      <td>47438116</td>\n",
       "      <td>1</td>\n",
       "      <td>207807965</td>\n",
       "      <td>way</td>\n",
       "      <td>0</td>\n",
       "      <td>1</td>\n",
       "      <td>0</td>\n",
       "      <td>3</td>\n",
       "      <td>0</td>\n",
       "      <td>0</td>\n",
       "      <td>0</td>\n",
       "      <td>0</td>\n",
       "      <td>7780.09</td>\n",
       "      <td>5.09e-02</td>\n",
       "    </tr>\n",
       "    <tr>\n",
       "      <th>1386</th>\n",
       "      <td>47375160</td>\n",
       "      <td>1</td>\n",
       "      <td>147200516</td>\n",
       "      <td>way</td>\n",
       "      <td>0</td>\n",
       "      <td>1</td>\n",
       "      <td>0</td>\n",
       "      <td>3</td>\n",
       "      <td>0</td>\n",
       "      <td>0</td>\n",
       "      <td>0</td>\n",
       "      <td>0</td>\n",
       "      <td>5380.96</td>\n",
       "      <td>0.00e+00</td>\n",
       "    </tr>\n",
       "    <tr>\n",
       "      <th>323</th>\n",
       "      <td>47690703</td>\n",
       "      <td>1</td>\n",
       "      <td>485660593</td>\n",
       "      <td>way</td>\n",
       "      <td>0</td>\n",
       "      <td>1</td>\n",
       "      <td>0</td>\n",
       "      <td>2</td>\n",
       "      <td>0</td>\n",
       "      <td>0</td>\n",
       "      <td>0</td>\n",
       "      <td>0</td>\n",
       "      <td>3170.62</td>\n",
       "      <td>4.80e-02</td>\n",
       "    </tr>\n",
       "    <tr>\n",
       "      <th>1820</th>\n",
       "      <td>47027745</td>\n",
       "      <td>1</td>\n",
       "      <td>481692436</td>\n",
       "      <td>way</td>\n",
       "      <td>0</td>\n",
       "      <td>1</td>\n",
       "      <td>0</td>\n",
       "      <td>4</td>\n",
       "      <td>0</td>\n",
       "      <td>0</td>\n",
       "      <td>0</td>\n",
       "      <td>0</td>\n",
       "      <td>1516.47</td>\n",
       "      <td>9.90e-03</td>\n",
       "    </tr>\n",
       "  </tbody>\n",
       "</table>\n",
       "</div>"
      ],
      "text/plain": [
       "      changeset_id  changeset_harmful  feature_id feature_type  action_create  \\\n",
       "648       47527246                  1    22650068          way              0   \n",
       "911       47496095                  1    28798331          way              0   \n",
       "230       47974373                  1   460606347          way              0   \n",
       "1041      47448859                  1   157719746          way              0   \n",
       "587       47533332                  1    37534833          way              0   \n",
       "545       47538950                  1   286494106          way              0   \n",
       "1072      47438116                  1   207807965          way              0   \n",
       "1386      47375160                  1   147200516          way              0   \n",
       "323       47690703                  1   485660593          way              0   \n",
       "1820      47027745                  1   481692436          way              0   \n",
       "\n",
       "      action_modify  action_delete  feature_version  highway_tag_created  \\\n",
       "648               1              0                7                    0   \n",
       "911               1              0               21                    0   \n",
       "230               1              0                4                    0   \n",
       "1041              1              0                3                    0   \n",
       "587               1              0                9                    0   \n",
       "545               1              0                2                    0   \n",
       "1072              1              0                3                    0   \n",
       "1386              1              0                3                    0   \n",
       "323               1              0                2                    0   \n",
       "1820              1              0                4                    0   \n",
       "\n",
       "      highway_tag_deleted  highway_value_difference  primary_tags_difference  \\\n",
       "648                     0                         0                        0   \n",
       "911                     0                         0                        0   \n",
       "230                     0                         0                        0   \n",
       "1041                    0                         0                        0   \n",
       "587                     0                         0                        0   \n",
       "545                     0                         0                        0   \n",
       "1072                    0                         0                        0   \n",
       "1386                    0                         0                        0   \n",
       "323                     0                         0                        0   \n",
       "1820                    0                         0                        0   \n",
       "\n",
       "      area_of_feature_bbox  length_of_longest_segment  \n",
       "648                 221.36                   3.40e-03  \n",
       "911                 728.45                   5.31e-02  \n",
       "230                2541.26                   5.95e-02  \n",
       "1041             215734.15                   1.20e-01  \n",
       "587               16166.94                   1.93e-01  \n",
       "545                4896.89                   7.99e-02  \n",
       "1072               7780.09                   5.09e-02  \n",
       "1386               5380.96                   0.00e+00  \n",
       "323                3170.62                   4.80e-02  \n",
       "1820               1516.47                   9.90e-03  "
      ]
     },
     "execution_count": 8,
     "metadata": {},
     "output_type": "execute_result"
    }
   ],
   "source": [
    "labelled = pd.read_csv(labelled_path + 'attributes.csv')\n",
    "print(labelled.shape)\n",
    "\n",
    "# Sort the dataset randomly.\n",
    "labelled = labelled.sample(labelled.shape[0], random_state=random_state)\n",
    "labelled.sample(10)"
   ]
  },
  {
   "cell_type": "code",
   "execution_count": 9,
   "metadata": {},
   "outputs": [
    {
     "name": "stdout",
     "output_type": "stream",
     "text": [
      "Shape before dropping duplicates: (2272, 14)\n",
      "Shape after dropping duplicates: (2272, 14)\n"
     ]
    }
   ],
   "source": [
    "# Drop all duplicate samples.\n",
    "print('Shape before dropping duplicates: {}'.format(labelled.shape))\n",
    "labelled = labelled.drop_duplicates(subset=['changeset_id', 'feature_id'])\n",
    "print('Shape after dropping duplicates: {}'.format(labelled.shape))"
   ]
  },
  {
   "cell_type": "code",
   "execution_count": 36,
   "metadata": {
    "collapsed": true
   },
   "outputs": [],
   "source": [
    "labelled.describe?"
   ]
  },
  {
   "cell_type": "code",
   "execution_count": 10,
   "metadata": {},
   "outputs": [
    {
     "data": {
      "text/html": [
       "<div>\n",
       "<table border=\"1\" class=\"dataframe\">\n",
       "  <thead>\n",
       "    <tr style=\"text-align: right;\">\n",
       "      <th></th>\n",
       "      <th>changeset_id</th>\n",
       "      <th>changeset_harmful</th>\n",
       "      <th>feature_id</th>\n",
       "      <th>action_create</th>\n",
       "      <th>action_modify</th>\n",
       "      <th>action_delete</th>\n",
       "      <th>feature_version</th>\n",
       "      <th>highway_tag_created</th>\n",
       "      <th>highway_tag_deleted</th>\n",
       "      <th>highway_value_difference</th>\n",
       "      <th>primary_tags_difference</th>\n",
       "      <th>area_of_feature_bbox</th>\n",
       "      <th>length_of_longest_segment</th>\n",
       "    </tr>\n",
       "  </thead>\n",
       "  <tbody>\n",
       "    <tr>\n",
       "      <th>count</th>\n",
       "      <td>2.27e+03</td>\n",
       "      <td>2272.00</td>\n",
       "      <td>2.27e+03</td>\n",
       "      <td>2.27e+03</td>\n",
       "      <td>2272.00</td>\n",
       "      <td>2272.0</td>\n",
       "      <td>2272.00</td>\n",
       "      <td>2272.00</td>\n",
       "      <td>2272.00</td>\n",
       "      <td>2272.00</td>\n",
       "      <td>2272.00</td>\n",
       "      <td>2.27e+03</td>\n",
       "      <td>2272.00</td>\n",
       "    </tr>\n",
       "    <tr>\n",
       "      <th>mean</th>\n",
       "      <td>4.73e+07</td>\n",
       "      <td>0.95</td>\n",
       "      <td>2.75e+08</td>\n",
       "      <td>2.64e-03</td>\n",
       "      <td>1.00</td>\n",
       "      <td>0.0</td>\n",
       "      <td>6.07</td>\n",
       "      <td>0.04</td>\n",
       "      <td>0.02</td>\n",
       "      <td>-0.14</td>\n",
       "      <td>0.04</td>\n",
       "      <td>1.66e+07</td>\n",
       "      <td>0.16</td>\n",
       "    </tr>\n",
       "    <tr>\n",
       "      <th>std</th>\n",
       "      <td>6.79e+05</td>\n",
       "      <td>0.31</td>\n",
       "      <td>5.94e+08</td>\n",
       "      <td>5.13e-02</td>\n",
       "      <td>0.05</td>\n",
       "      <td>0.0</td>\n",
       "      <td>5.32</td>\n",
       "      <td>0.20</td>\n",
       "      <td>0.13</td>\n",
       "      <td>6.91</td>\n",
       "      <td>0.24</td>\n",
       "      <td>3.24e+08</td>\n",
       "      <td>1.07</td>\n",
       "    </tr>\n",
       "    <tr>\n",
       "      <th>min</th>\n",
       "      <td>4.48e+07</td>\n",
       "      <td>-1.00</td>\n",
       "      <td>1.73e+05</td>\n",
       "      <td>0.00e+00</td>\n",
       "      <td>0.00</td>\n",
       "      <td>0.0</td>\n",
       "      <td>2.00</td>\n",
       "      <td>0.00</td>\n",
       "      <td>0.00</td>\n",
       "      <td>-41.00</td>\n",
       "      <td>-1.00</td>\n",
       "      <td>0.00e+00</td>\n",
       "      <td>0.00</td>\n",
       "    </tr>\n",
       "    <tr>\n",
       "      <th>25%</th>\n",
       "      <td>4.73e+07</td>\n",
       "      <td>1.00</td>\n",
       "      <td>2.89e+07</td>\n",
       "      <td>0.00e+00</td>\n",
       "      <td>1.00</td>\n",
       "      <td>0.0</td>\n",
       "      <td>3.00</td>\n",
       "      <td>0.00</td>\n",
       "      <td>0.00</td>\n",
       "      <td>0.00</td>\n",
       "      <td>0.00</td>\n",
       "      <td>3.91e+02</td>\n",
       "      <td>0.02</td>\n",
       "    </tr>\n",
       "    <tr>\n",
       "      <th>50%</th>\n",
       "      <td>4.74e+07</td>\n",
       "      <td>1.00</td>\n",
       "      <td>1.48e+08</td>\n",
       "      <td>0.00e+00</td>\n",
       "      <td>1.00</td>\n",
       "      <td>0.0</td>\n",
       "      <td>4.00</td>\n",
       "      <td>0.00</td>\n",
       "      <td>0.00</td>\n",
       "      <td>0.00</td>\n",
       "      <td>0.00</td>\n",
       "      <td>3.24e+03</td>\n",
       "      <td>0.06</td>\n",
       "    </tr>\n",
       "    <tr>\n",
       "      <th>75%</th>\n",
       "      <td>4.75e+07</td>\n",
       "      <td>1.00</td>\n",
       "      <td>3.34e+08</td>\n",
       "      <td>0.00e+00</td>\n",
       "      <td>1.00</td>\n",
       "      <td>0.0</td>\n",
       "      <td>8.00</td>\n",
       "      <td>0.00</td>\n",
       "      <td>0.00</td>\n",
       "      <td>0.00</td>\n",
       "      <td>0.00</td>\n",
       "      <td>2.25e+04</td>\n",
       "      <td>0.11</td>\n",
       "    </tr>\n",
       "    <tr>\n",
       "      <th>max</th>\n",
       "      <td>4.97e+07</td>\n",
       "      <td>1.00</td>\n",
       "      <td>4.85e+09</td>\n",
       "      <td>1.00e+00</td>\n",
       "      <td>1.00</td>\n",
       "      <td>0.0</td>\n",
       "      <td>62.00</td>\n",
       "      <td>1.00</td>\n",
       "      <td>1.00</td>\n",
       "      <td>39.00</td>\n",
       "      <td>3.00</td>\n",
       "      <td>1.28e+10</td>\n",
       "      <td>30.89</td>\n",
       "    </tr>\n",
       "  </tbody>\n",
       "</table>\n",
       "</div>"
      ],
      "text/plain": [
       "       changeset_id  changeset_harmful  feature_id  action_create  \\\n",
       "count      2.27e+03            2272.00    2.27e+03       2.27e+03   \n",
       "mean       4.73e+07               0.95    2.75e+08       2.64e-03   \n",
       "std        6.79e+05               0.31    5.94e+08       5.13e-02   \n",
       "min        4.48e+07              -1.00    1.73e+05       0.00e+00   \n",
       "25%        4.73e+07               1.00    2.89e+07       0.00e+00   \n",
       "50%        4.74e+07               1.00    1.48e+08       0.00e+00   \n",
       "75%        4.75e+07               1.00    3.34e+08       0.00e+00   \n",
       "max        4.97e+07               1.00    4.85e+09       1.00e+00   \n",
       "\n",
       "       action_modify  action_delete  feature_version  highway_tag_created  \\\n",
       "count        2272.00         2272.0          2272.00              2272.00   \n",
       "mean            1.00            0.0             6.07                 0.04   \n",
       "std             0.05            0.0             5.32                 0.20   \n",
       "min             0.00            0.0             2.00                 0.00   \n",
       "25%             1.00            0.0             3.00                 0.00   \n",
       "50%             1.00            0.0             4.00                 0.00   \n",
       "75%             1.00            0.0             8.00                 0.00   \n",
       "max             1.00            0.0            62.00                 1.00   \n",
       "\n",
       "       highway_tag_deleted  highway_value_difference  primary_tags_difference  \\\n",
       "count              2272.00                   2272.00                  2272.00   \n",
       "mean                  0.02                     -0.14                     0.04   \n",
       "std                   0.13                      6.91                     0.24   \n",
       "min                   0.00                    -41.00                    -1.00   \n",
       "25%                   0.00                      0.00                     0.00   \n",
       "50%                   0.00                      0.00                     0.00   \n",
       "75%                   0.00                      0.00                     0.00   \n",
       "max                   1.00                     39.00                     3.00   \n",
       "\n",
       "       area_of_feature_bbox  length_of_longest_segment  \n",
       "count              2.27e+03                    2272.00  \n",
       "mean               1.66e+07                       0.16  \n",
       "std                3.24e+08                       1.07  \n",
       "min                0.00e+00                       0.00  \n",
       "25%                3.91e+02                       0.02  \n",
       "50%                3.24e+03                       0.06  \n",
       "75%                2.25e+04                       0.11  \n",
       "max                1.28e+10                      30.89  "
      ]
     },
     "execution_count": 10,
     "metadata": {},
     "output_type": "execute_result"
    }
   ],
   "source": [
    "labelled.describe()"
   ]
  },
  {
   "cell_type": "code",
   "execution_count": 11,
   "metadata": {},
   "outputs": [
    {
     "data": {
      "text/plain": [
       "changeset_id                                                      107510630884\n",
       "changeset_harmful                                                         2162\n",
       "feature_id                                                        624409661355\n",
       "feature_type                 waynodewaywaywaywaywaywaywaywaywaywaywaywayway...\n",
       "action_create                                                                6\n",
       "action_modify                                                             2266\n",
       "action_delete                                                                0\n",
       "feature_version                                                          13795\n",
       "highway_tag_created                                                         94\n",
       "highway_tag_deleted                                                         37\n",
       "highway_value_difference                                                  -329\n",
       "primary_tags_difference                                                     80\n",
       "area_of_feature_bbox                                                   3.8e+10\n",
       "length_of_longest_segment                                              3.6e+02\n",
       "dtype: object"
      ]
     },
     "execution_count": 11,
     "metadata": {},
     "output_type": "execute_result"
    }
   ],
   "source": [
    "labelled.sum()"
   ]
  },
  {
   "cell_type": "code",
   "execution_count": 12,
   "metadata": {},
   "outputs": [
    {
     "name": "stdout",
     "output_type": "stream",
     "text": [
      "Total inliers: (2217, 14)\n",
      "Total outliers: (55, 14)\n"
     ]
    }
   ],
   "source": [
    "inliers = labelled[labelled['changeset_harmful'] == 1]\n",
    "print('Total inliers: {}'.format(inliers.shape))\n",
    "\n",
    "outliers = labelled[labelled['changeset_harmful'] == -1]\n",
    "print('Total outliers: {}'.format(outliers.shape))"
   ]
  },
  {
   "cell_type": "code",
   "execution_count": 13,
   "metadata": {},
   "outputs": [
    {
     "name": "stdout",
     "output_type": "stream",
     "text": [
      "Training dataset (only inliers): (1818, 14)\n",
      "Validation dataset (only inliers): (399, 14)\n",
      "Validation dataset (inliers + outliers): (454, 14)\n"
     ]
    }
   ],
   "source": [
    "total = labelled.shape[0]\n",
    "\n",
    "# 80% of the inliers will be used for training.\n",
    "training = inliers.iloc[0:round(0.8 * total)]\n",
    "training = training.reset_index(drop=True)\n",
    "print('Training dataset (only inliers): {}'.format(training.shape))\n",
    "\n",
    "# 20% of the inliers will be used for validation.\n",
    "validation = inliers.iloc[round(0.8 * total):]\n",
    "validation = validation.reset_index(drop=True)\n",
    "print('Validation dataset (only inliers): {}'.format(validation.shape))\n",
    "\n",
    "# 100% of the outliers will be used for validation too.\n",
    "validation = pd.concat([validation, outliers])\n",
    "validation = validation.reset_index(drop=True)\n",
    "print('Validation dataset (inliers + outliers): {}'.format(validation.shape))"
   ]
  },
  {
   "cell_type": "markdown",
   "metadata": {},
   "source": [
    "## Model training"
   ]
  },
  {
   "cell_type": "code",
   "execution_count": 14,
   "metadata": {},
   "outputs": [],
   "source": [
    "X = training.drop(non_training_attributes, axis=1)\n",
    "y = training['changeset_harmful']"
   ]
  },
  {
   "cell_type": "code",
   "execution_count": 15,
   "metadata": {
    "collapsed": true
   },
   "outputs": [],
   "source": [
    "model = IsolationForest(random_state=random_state)"
   ]
  },
  {
   "cell_type": "code",
   "execution_count": 16,
   "metadata": {},
   "outputs": [
    {
     "name": "stdout",
     "output_type": "stream",
     "text": [
      "Precision on training: 1.0 (0.0)\n",
      "Recall on training: 0.9 (0.03)\n",
      "F1 score on training: 0.95 (0.02)\n"
     ]
    }
   ],
   "source": [
    "scores = cross_val_score(model, X, y, cv=cv, scoring='precision')\n",
    "print('Precision on training: {} ({})'.format(round(scores.mean(), 2), round(scores.std(), 2)))\n",
    "\n",
    "scores = cross_val_score(model, X, y, cv=cv, scoring='recall')\n",
    "print('Recall on training: {} ({})'.format(round(scores.mean(), 2), round(scores.std(), 2)))\n",
    "\n",
    "scores = cross_val_score(model, X, y, cv=cv, scoring='f1')\n",
    "print('F1 score on training: {} ({})'.format(round(scores.mean(), 2), round(scores.std(), 2)))"
   ]
  },
  {
   "cell_type": "code",
   "execution_count": 17,
   "metadata": {},
   "outputs": [
    {
     "data": {
      "text/plain": [
       "IsolationForest(bootstrap=False, contamination=0.1, max_features=1.0,\n",
       "        max_samples='auto', n_estimators=100, n_jobs=1, random_state=5,\n",
       "        verbose=0)"
      ]
     },
     "execution_count": 17,
     "metadata": {},
     "output_type": "execute_result"
    }
   ],
   "source": [
    "model = IsolationForest(random_state=random_state)\n",
    "model.fit(X)"
   ]
  },
  {
   "cell_type": "code",
   "execution_count": 18,
   "metadata": {
    "collapsed": true
   },
   "outputs": [],
   "source": [
    "training['prediction'] = model.predict(X)\n",
    "training.to_csv(labelled_path + 'training-review.csv', index=False)"
   ]
  },
  {
   "cell_type": "code",
   "execution_count": 19,
   "metadata": {},
   "outputs": [
    {
     "data": {
      "text/plain": [
       "['../gabbar/trained/model.pkl']"
      ]
     },
     "execution_count": 19,
     "metadata": {},
     "output_type": "execute_result"
    }
   ],
   "source": [
    "from sklearn.externals import joblib\n",
    "\n",
    "model_path = '../gabbar/trained/model.pkl'\n",
    "joblib.dump(model, model_path, compress=True)"
   ]
  },
  {
   "cell_type": "code",
   "execution_count": 20,
   "metadata": {},
   "outputs": [
    {
     "data": {
      "text/html": [
       "<div>\n",
       "<table border=\"1\" class=\"dataframe\">\n",
       "  <thead>\n",
       "    <tr style=\"text-align: right;\">\n",
       "      <th></th>\n",
       "      <th>Predicted harmful</th>\n",
       "      <th>Predicted good</th>\n",
       "    </tr>\n",
       "  </thead>\n",
       "  <tbody>\n",
       "    <tr>\n",
       "      <th>Labelled harmful</th>\n",
       "      <td>0</td>\n",
       "      <td>0</td>\n",
       "    </tr>\n",
       "    <tr>\n",
       "      <th>Labelled good</th>\n",
       "      <td>182</td>\n",
       "      <td>1636</td>\n",
       "    </tr>\n",
       "  </tbody>\n",
       "</table>\n",
       "</div>"
      ],
      "text/plain": [
       "                  Predicted harmful  Predicted good\n",
       "Labelled harmful                  0               0\n",
       "Labelled good                   182            1636"
      ]
     },
     "execution_count": 20,
     "metadata": {},
     "output_type": "execute_result"
    }
   ],
   "source": [
    "from sklearn.metrics import confusion_matrix\n",
    "matrix = confusion_matrix(y, training['prediction'])\n",
    "matrix = pd.DataFrame(matrix, index=['Labelled harmful', 'Labelled good'], columns=['Predicted harmful', 'Predicted good'])\n",
    "matrix"
   ]
  },
  {
   "cell_type": "code",
   "execution_count": 21,
   "metadata": {},
   "outputs": [
    {
     "name": "stdout",
     "output_type": "stream",
     "text": [
      "             precision    recall  f1-score   support\n",
      "\n",
      "         -1       0.00      0.00      0.00         0\n",
      "          1       1.00      0.90      0.95      1818\n",
      "\n",
      "avg / total       1.00      0.90      0.95      1818\n",
      "\n"
     ]
    }
   ],
   "source": [
    "from sklearn.metrics import classification_report\n",
    "\n",
    "report = classification_report(y, training['prediction'])\n",
    "print(report)"
   ]
  },
  {
   "cell_type": "markdown",
   "metadata": {
    "collapsed": true
   },
   "source": [
    "## Model validation"
   ]
  },
  {
   "cell_type": "code",
   "execution_count": 22,
   "metadata": {},
   "outputs": [
    {
     "data": {
      "text/plain": [
       "changeset_harmful\n",
       "-1     55\n",
       " 1    399\n",
       "dtype: int64"
      ]
     },
     "execution_count": 22,
     "metadata": {},
     "output_type": "execute_result"
    }
   ],
   "source": [
    "validation.groupby('changeset_harmful').size()"
   ]
  },
  {
   "cell_type": "code",
   "execution_count": 23,
   "metadata": {
    "collapsed": true
   },
   "outputs": [],
   "source": [
    "vX = validation.drop(non_training_attributes, axis=1)\n",
    "vy = validation['changeset_harmful']"
   ]
  },
  {
   "cell_type": "code",
   "execution_count": 24,
   "metadata": {
    "collapsed": true
   },
   "outputs": [],
   "source": [
    "validation['prediction'] = model.predict(vX)\n",
    "validation.to_csv(labelled_path + 'validation-review.csv', index=False)"
   ]
  },
  {
   "cell_type": "code",
   "execution_count": 25,
   "metadata": {},
   "outputs": [
    {
     "data": {
      "text/html": [
       "<div>\n",
       "<table border=\"1\" class=\"dataframe\">\n",
       "  <thead>\n",
       "    <tr style=\"text-align: right;\">\n",
       "      <th></th>\n",
       "      <th>Predicted harmful</th>\n",
       "      <th>Predicted good</th>\n",
       "    </tr>\n",
       "  </thead>\n",
       "  <tbody>\n",
       "    <tr>\n",
       "      <th>Labelled harmful</th>\n",
       "      <td>40</td>\n",
       "      <td>15</td>\n",
       "    </tr>\n",
       "    <tr>\n",
       "      <th>Labelled good</th>\n",
       "      <td>41</td>\n",
       "      <td>358</td>\n",
       "    </tr>\n",
       "  </tbody>\n",
       "</table>\n",
       "</div>"
      ],
      "text/plain": [
       "                  Predicted harmful  Predicted good\n",
       "Labelled harmful                 40              15\n",
       "Labelled good                    41             358"
      ]
     },
     "execution_count": 25,
     "metadata": {},
     "output_type": "execute_result"
    }
   ],
   "source": [
    "from sklearn.metrics import confusion_matrix\n",
    "matrix = confusion_matrix(vy, validation['prediction'])\n",
    "matrix = pd.DataFrame(matrix, index=['Labelled harmful', 'Labelled good'], columns=['Predicted harmful', 'Predicted good'])\n",
    "matrix"
   ]
  },
  {
   "cell_type": "code",
   "execution_count": 26,
   "metadata": {},
   "outputs": [
    {
     "name": "stdout",
     "output_type": "stream",
     "text": [
      "             precision    recall  f1-score   support\n",
      "\n",
      "         -1       0.49      0.73      0.59        55\n",
      "          1       0.96      0.90      0.93       399\n",
      "\n",
      "avg / total       0.90      0.88      0.89       454\n",
      "\n"
     ]
    }
   ],
   "source": [
    "from sklearn.metrics import classification_report\n",
    "\n",
    "report = classification_report(vy, validation['prediction'])\n",
    "print(report)"
   ]
  },
  {
   "cell_type": "markdown",
   "metadata": {},
   "source": [
    "## Model testing"
   ]
  },
  {
   "cell_type": "code",
   "execution_count": 27,
   "metadata": {
    "collapsed": true
   },
   "outputs": [],
   "source": [
    "unlabelled_path = testing_path = '../downloads/anomaly-detection/unlabelled/'"
   ]
  },
  {
   "cell_type": "code",
   "execution_count": 28,
   "metadata": {},
   "outputs": [
    {
     "name": "stdout",
     "output_type": "stream",
     "text": [
      "(26639, 14)\n"
     ]
    },
    {
     "data": {
      "text/html": [
       "<div>\n",
       "<table border=\"1\" class=\"dataframe\">\n",
       "  <thead>\n",
       "    <tr style=\"text-align: right;\">\n",
       "      <th></th>\n",
       "      <th>changeset_id</th>\n",
       "      <th>changeset_harmful</th>\n",
       "      <th>feature_id</th>\n",
       "      <th>feature_type</th>\n",
       "      <th>action_create</th>\n",
       "      <th>action_modify</th>\n",
       "      <th>action_delete</th>\n",
       "      <th>feature_version</th>\n",
       "      <th>highway_tag_created</th>\n",
       "      <th>highway_tag_deleted</th>\n",
       "      <th>highway_value_difference</th>\n",
       "      <th>primary_tags_difference</th>\n",
       "      <th>area_of_feature_bbox</th>\n",
       "      <th>length_of_longest_segment</th>\n",
       "    </tr>\n",
       "  </thead>\n",
       "  <tbody>\n",
       "    <tr>\n",
       "      <th>11270</th>\n",
       "      <td>49177985</td>\n",
       "      <td>NaN</td>\n",
       "      <td>15692915</td>\n",
       "      <td>way</td>\n",
       "      <td>0</td>\n",
       "      <td>1</td>\n",
       "      <td>0</td>\n",
       "      <td>3</td>\n",
       "      <td>0</td>\n",
       "      <td>0</td>\n",
       "      <td>0</td>\n",
       "      <td>0</td>\n",
       "      <td>9.32e+05</td>\n",
       "      <td>0.51</td>\n",
       "    </tr>\n",
       "    <tr>\n",
       "      <th>20126</th>\n",
       "      <td>49177468</td>\n",
       "      <td>NaN</td>\n",
       "      <td>237577115</td>\n",
       "      <td>way</td>\n",
       "      <td>0</td>\n",
       "      <td>1</td>\n",
       "      <td>0</td>\n",
       "      <td>20</td>\n",
       "      <td>0</td>\n",
       "      <td>0</td>\n",
       "      <td>0</td>\n",
       "      <td>0</td>\n",
       "      <td>5.46e+05</td>\n",
       "      <td>0.20</td>\n",
       "    </tr>\n",
       "    <tr>\n",
       "      <th>21386</th>\n",
       "      <td>49177209</td>\n",
       "      <td>NaN</td>\n",
       "      <td>45067449</td>\n",
       "      <td>way</td>\n",
       "      <td>0</td>\n",
       "      <td>1</td>\n",
       "      <td>0</td>\n",
       "      <td>6</td>\n",
       "      <td>0</td>\n",
       "      <td>0</td>\n",
       "      <td>0</td>\n",
       "      <td>0</td>\n",
       "      <td>6.85e+01</td>\n",
       "      <td>0.01</td>\n",
       "    </tr>\n",
       "    <tr>\n",
       "      <th>10202</th>\n",
       "      <td>49178037</td>\n",
       "      <td>NaN</td>\n",
       "      <td>497505366</td>\n",
       "      <td>way</td>\n",
       "      <td>1</td>\n",
       "      <td>0</td>\n",
       "      <td>0</td>\n",
       "      <td>1</td>\n",
       "      <td>1</td>\n",
       "      <td>0</td>\n",
       "      <td>0</td>\n",
       "      <td>1</td>\n",
       "      <td>5.86e+03</td>\n",
       "      <td>0.04</td>\n",
       "    </tr>\n",
       "    <tr>\n",
       "      <th>21583</th>\n",
       "      <td>49177170</td>\n",
       "      <td>NaN</td>\n",
       "      <td>497501191</td>\n",
       "      <td>way</td>\n",
       "      <td>1</td>\n",
       "      <td>0</td>\n",
       "      <td>0</td>\n",
       "      <td>1</td>\n",
       "      <td>1</td>\n",
       "      <td>0</td>\n",
       "      <td>0</td>\n",
       "      <td>1</td>\n",
       "      <td>3.35e+02</td>\n",
       "      <td>0.01</td>\n",
       "    </tr>\n",
       "    <tr>\n",
       "      <th>13337</th>\n",
       "      <td>49177985</td>\n",
       "      <td>NaN</td>\n",
       "      <td>15745847</td>\n",
       "      <td>way</td>\n",
       "      <td>0</td>\n",
       "      <td>1</td>\n",
       "      <td>0</td>\n",
       "      <td>8</td>\n",
       "      <td>0</td>\n",
       "      <td>0</td>\n",
       "      <td>0</td>\n",
       "      <td>0</td>\n",
       "      <td>3.86e+03</td>\n",
       "      <td>0.09</td>\n",
       "    </tr>\n",
       "    <tr>\n",
       "      <th>5941</th>\n",
       "      <td>49179427</td>\n",
       "      <td>NaN</td>\n",
       "      <td>176230427</td>\n",
       "      <td>way</td>\n",
       "      <td>0</td>\n",
       "      <td>1</td>\n",
       "      <td>0</td>\n",
       "      <td>7</td>\n",
       "      <td>0</td>\n",
       "      <td>0</td>\n",
       "      <td>0</td>\n",
       "      <td>0</td>\n",
       "      <td>3.69e+05</td>\n",
       "      <td>0.21</td>\n",
       "    </tr>\n",
       "    <tr>\n",
       "      <th>11953</th>\n",
       "      <td>49177985</td>\n",
       "      <td>NaN</td>\n",
       "      <td>15709559</td>\n",
       "      <td>way</td>\n",
       "      <td>0</td>\n",
       "      <td>1</td>\n",
       "      <td>0</td>\n",
       "      <td>7</td>\n",
       "      <td>0</td>\n",
       "      <td>0</td>\n",
       "      <td>0</td>\n",
       "      <td>0</td>\n",
       "      <td>2.48e+04</td>\n",
       "      <td>0.19</td>\n",
       "    </tr>\n",
       "    <tr>\n",
       "      <th>15716</th>\n",
       "      <td>49177985</td>\n",
       "      <td>NaN</td>\n",
       "      <td>15768512</td>\n",
       "      <td>way</td>\n",
       "      <td>0</td>\n",
       "      <td>1</td>\n",
       "      <td>0</td>\n",
       "      <td>4</td>\n",
       "      <td>0</td>\n",
       "      <td>0</td>\n",
       "      <td>0</td>\n",
       "      <td>0</td>\n",
       "      <td>3.15e+07</td>\n",
       "      <td>1.58</td>\n",
       "    </tr>\n",
       "    <tr>\n",
       "      <th>22415</th>\n",
       "      <td>49176975</td>\n",
       "      <td>NaN</td>\n",
       "      <td>42998630</td>\n",
       "      <td>way</td>\n",
       "      <td>0</td>\n",
       "      <td>1</td>\n",
       "      <td>0</td>\n",
       "      <td>8</td>\n",
       "      <td>0</td>\n",
       "      <td>0</td>\n",
       "      <td>0</td>\n",
       "      <td>0</td>\n",
       "      <td>7.09e+03</td>\n",
       "      <td>0.06</td>\n",
       "    </tr>\n",
       "  </tbody>\n",
       "</table>\n",
       "</div>"
      ],
      "text/plain": [
       "       changeset_id  changeset_harmful  feature_id feature_type  \\\n",
       "11270      49177985                NaN    15692915          way   \n",
       "20126      49177468                NaN   237577115          way   \n",
       "21386      49177209                NaN    45067449          way   \n",
       "10202      49178037                NaN   497505366          way   \n",
       "21583      49177170                NaN   497501191          way   \n",
       "13337      49177985                NaN    15745847          way   \n",
       "5941       49179427                NaN   176230427          way   \n",
       "11953      49177985                NaN    15709559          way   \n",
       "15716      49177985                NaN    15768512          way   \n",
       "22415      49176975                NaN    42998630          way   \n",
       "\n",
       "       action_create  action_modify  action_delete  feature_version  \\\n",
       "11270              0              1              0                3   \n",
       "20126              0              1              0               20   \n",
       "21386              0              1              0                6   \n",
       "10202              1              0              0                1   \n",
       "21583              1              0              0                1   \n",
       "13337              0              1              0                8   \n",
       "5941               0              1              0                7   \n",
       "11953              0              1              0                7   \n",
       "15716              0              1              0                4   \n",
       "22415              0              1              0                8   \n",
       "\n",
       "       highway_tag_created  highway_tag_deleted  highway_value_difference  \\\n",
       "11270                    0                    0                         0   \n",
       "20126                    0                    0                         0   \n",
       "21386                    0                    0                         0   \n",
       "10202                    1                    0                         0   \n",
       "21583                    1                    0                         0   \n",
       "13337                    0                    0                         0   \n",
       "5941                     0                    0                         0   \n",
       "11953                    0                    0                         0   \n",
       "15716                    0                    0                         0   \n",
       "22415                    0                    0                         0   \n",
       "\n",
       "       primary_tags_difference  area_of_feature_bbox  \\\n",
       "11270                        0              9.32e+05   \n",
       "20126                        0              5.46e+05   \n",
       "21386                        0              6.85e+01   \n",
       "10202                        1              5.86e+03   \n",
       "21583                        1              3.35e+02   \n",
       "13337                        0              3.86e+03   \n",
       "5941                         0              3.69e+05   \n",
       "11953                        0              2.48e+04   \n",
       "15716                        0              3.15e+07   \n",
       "22415                        0              7.09e+03   \n",
       "\n",
       "       length_of_longest_segment  \n",
       "11270                       0.51  \n",
       "20126                       0.20  \n",
       "21386                       0.01  \n",
       "10202                       0.04  \n",
       "21583                       0.01  \n",
       "13337                       0.09  \n",
       "5941                        0.21  \n",
       "11953                       0.19  \n",
       "15716                       1.58  \n",
       "22415                       0.06  "
      ]
     },
     "execution_count": 28,
     "metadata": {},
     "output_type": "execute_result"
    }
   ],
   "source": [
    "unlabelled = pd.read_csv(unlabelled_path + 'attributes.csv')\n",
    "print(unlabelled.shape)\n",
    "unlabelled.sample(10)"
   ]
  },
  {
   "cell_type": "code",
   "execution_count": 29,
   "metadata": {},
   "outputs": [
    {
     "name": "stdout",
     "output_type": "stream",
     "text": [
      "Shape before dropping duplicates: (26639, 14)\n",
      "Shape after dropping duplicates: (26578, 14)\n"
     ]
    }
   ],
   "source": [
    "# Drop all duplicate samples.\n",
    "print('Shape before dropping duplicates: {}'.format(unlabelled.shape))\n",
    "unlabelled = unlabelled.drop_duplicates(subset=['changeset_id', 'feature_id'])\n",
    "print('Shape after dropping duplicates: {}'.format(unlabelled.shape))"
   ]
  },
  {
   "cell_type": "code",
   "execution_count": 30,
   "metadata": {
    "collapsed": true
   },
   "outputs": [],
   "source": [
    "# Using all of the unlabelled dataset for testing.\n",
    "testing = unlabelled.sample(unlabelled.shape[0])"
   ]
  },
  {
   "cell_type": "code",
   "execution_count": 31,
   "metadata": {},
   "outputs": [
    {
     "data": {
      "text/html": [
       "<div>\n",
       "<table border=\"1\" class=\"dataframe\">\n",
       "  <thead>\n",
       "    <tr style=\"text-align: right;\">\n",
       "      <th></th>\n",
       "      <th>changeset_id</th>\n",
       "      <th>changeset_harmful</th>\n",
       "      <th>feature_id</th>\n",
       "      <th>action_create</th>\n",
       "      <th>action_modify</th>\n",
       "      <th>action_delete</th>\n",
       "      <th>feature_version</th>\n",
       "      <th>highway_tag_created</th>\n",
       "      <th>highway_tag_deleted</th>\n",
       "      <th>highway_value_difference</th>\n",
       "      <th>primary_tags_difference</th>\n",
       "      <th>area_of_feature_bbox</th>\n",
       "      <th>length_of_longest_segment</th>\n",
       "    </tr>\n",
       "  </thead>\n",
       "  <tbody>\n",
       "    <tr>\n",
       "      <th>count</th>\n",
       "      <td>2.66e+04</td>\n",
       "      <td>15.0</td>\n",
       "      <td>2.66e+04</td>\n",
       "      <td>26578.00</td>\n",
       "      <td>26578.00</td>\n",
       "      <td>26578.00</td>\n",
       "      <td>26578.00</td>\n",
       "      <td>26578.00</td>\n",
       "      <td>26578.00</td>\n",
       "      <td>26578.00</td>\n",
       "      <td>26578.00</td>\n",
       "      <td>2.66e+04</td>\n",
       "      <td>26578.00</td>\n",
       "    </tr>\n",
       "    <tr>\n",
       "      <th>mean</th>\n",
       "      <td>4.92e+07</td>\n",
       "      <td>1.0</td>\n",
       "      <td>3.50e+08</td>\n",
       "      <td>0.28</td>\n",
       "      <td>0.71</td>\n",
       "      <td>0.02</td>\n",
       "      <td>3.64</td>\n",
       "      <td>0.28</td>\n",
       "      <td>0.02</td>\n",
       "      <td>0.42</td>\n",
       "      <td>0.27</td>\n",
       "      <td>2.53e+06</td>\n",
       "      <td>0.16</td>\n",
       "    </tr>\n",
       "    <tr>\n",
       "      <th>std</th>\n",
       "      <td>1.29e+03</td>\n",
       "      <td>0.0</td>\n",
       "      <td>6.88e+08</td>\n",
       "      <td>0.45</td>\n",
       "      <td>0.45</td>\n",
       "      <td>0.13</td>\n",
       "      <td>3.45</td>\n",
       "      <td>0.45</td>\n",
       "      <td>0.13</td>\n",
       "      <td>5.21</td>\n",
       "      <td>0.48</td>\n",
       "      <td>4.51e+07</td>\n",
       "      <td>0.27</td>\n",
       "    </tr>\n",
       "    <tr>\n",
       "      <th>min</th>\n",
       "      <td>4.92e+07</td>\n",
       "      <td>1.0</td>\n",
       "      <td>2.95e+06</td>\n",
       "      <td>0.00</td>\n",
       "      <td>0.00</td>\n",
       "      <td>0.00</td>\n",
       "      <td>1.00</td>\n",
       "      <td>0.00</td>\n",
       "      <td>0.00</td>\n",
       "      <td>-39.00</td>\n",
       "      <td>-2.00</td>\n",
       "      <td>0.00e+00</td>\n",
       "      <td>0.00</td>\n",
       "    </tr>\n",
       "    <tr>\n",
       "      <th>25%</th>\n",
       "      <td>4.92e+07</td>\n",
       "      <td>1.0</td>\n",
       "      <td>1.58e+07</td>\n",
       "      <td>0.00</td>\n",
       "      <td>0.00</td>\n",
       "      <td>0.00</td>\n",
       "      <td>1.00</td>\n",
       "      <td>0.00</td>\n",
       "      <td>0.00</td>\n",
       "      <td>0.00</td>\n",
       "      <td>0.00</td>\n",
       "      <td>7.20e+02</td>\n",
       "      <td>0.04</td>\n",
       "    </tr>\n",
       "    <tr>\n",
       "      <th>50%</th>\n",
       "      <td>4.92e+07</td>\n",
       "      <td>1.0</td>\n",
       "      <td>2.32e+08</td>\n",
       "      <td>0.00</td>\n",
       "      <td>1.00</td>\n",
       "      <td>0.00</td>\n",
       "      <td>3.00</td>\n",
       "      <td>0.00</td>\n",
       "      <td>0.00</td>\n",
       "      <td>0.00</td>\n",
       "      <td>0.00</td>\n",
       "      <td>6.77e+03</td>\n",
       "      <td>0.08</td>\n",
       "    </tr>\n",
       "    <tr>\n",
       "      <th>75%</th>\n",
       "      <td>4.92e+07</td>\n",
       "      <td>1.0</td>\n",
       "      <td>4.97e+08</td>\n",
       "      <td>1.00</td>\n",
       "      <td>1.00</td>\n",
       "      <td>0.00</td>\n",
       "      <td>4.00</td>\n",
       "      <td>1.00</td>\n",
       "      <td>0.00</td>\n",
       "      <td>0.00</td>\n",
       "      <td>1.00</td>\n",
       "      <td>6.54e+04</td>\n",
       "      <td>0.17</td>\n",
       "    </tr>\n",
       "    <tr>\n",
       "      <th>max</th>\n",
       "      <td>4.92e+07</td>\n",
       "      <td>1.0</td>\n",
       "      <td>4.89e+09</td>\n",
       "      <td>1.00</td>\n",
       "      <td>1.00</td>\n",
       "      <td>1.00</td>\n",
       "      <td>60.00</td>\n",
       "      <td>1.00</td>\n",
       "      <td>1.00</td>\n",
       "      <td>41.00</td>\n",
       "      <td>3.00</td>\n",
       "      <td>4.99e+09</td>\n",
       "      <td>7.28</td>\n",
       "    </tr>\n",
       "  </tbody>\n",
       "</table>\n",
       "</div>"
      ],
      "text/plain": [
       "       changeset_id  changeset_harmful  feature_id  action_create  \\\n",
       "count      2.66e+04               15.0    2.66e+04       26578.00   \n",
       "mean       4.92e+07                1.0    3.50e+08           0.28   \n",
       "std        1.29e+03                0.0    6.88e+08           0.45   \n",
       "min        4.92e+07                1.0    2.95e+06           0.00   \n",
       "25%        4.92e+07                1.0    1.58e+07           0.00   \n",
       "50%        4.92e+07                1.0    2.32e+08           0.00   \n",
       "75%        4.92e+07                1.0    4.97e+08           1.00   \n",
       "max        4.92e+07                1.0    4.89e+09           1.00   \n",
       "\n",
       "       action_modify  action_delete  feature_version  highway_tag_created  \\\n",
       "count       26578.00       26578.00         26578.00             26578.00   \n",
       "mean            0.71           0.02             3.64                 0.28   \n",
       "std             0.45           0.13             3.45                 0.45   \n",
       "min             0.00           0.00             1.00                 0.00   \n",
       "25%             0.00           0.00             1.00                 0.00   \n",
       "50%             1.00           0.00             3.00                 0.00   \n",
       "75%             1.00           0.00             4.00                 1.00   \n",
       "max             1.00           1.00            60.00                 1.00   \n",
       "\n",
       "       highway_tag_deleted  highway_value_difference  primary_tags_difference  \\\n",
       "count             26578.00                  26578.00                 26578.00   \n",
       "mean                  0.02                      0.42                     0.27   \n",
       "std                   0.13                      5.21                     0.48   \n",
       "min                   0.00                    -39.00                    -2.00   \n",
       "25%                   0.00                      0.00                     0.00   \n",
       "50%                   0.00                      0.00                     0.00   \n",
       "75%                   0.00                      0.00                     1.00   \n",
       "max                   1.00                     41.00                     3.00   \n",
       "\n",
       "       area_of_feature_bbox  length_of_longest_segment  \n",
       "count              2.66e+04                   26578.00  \n",
       "mean               2.53e+06                       0.16  \n",
       "std                4.51e+07                       0.27  \n",
       "min                0.00e+00                       0.00  \n",
       "25%                7.20e+02                       0.04  \n",
       "50%                6.77e+03                       0.08  \n",
       "75%                6.54e+04                       0.17  \n",
       "max                4.99e+09                       7.28  "
      ]
     },
     "execution_count": 31,
     "metadata": {},
     "output_type": "execute_result"
    }
   ],
   "source": [
    "testing.describe()"
   ]
  },
  {
   "cell_type": "code",
   "execution_count": 32,
   "metadata": {},
   "outputs": [
    {
     "data": {
      "text/plain": [
       "changeset_id                                                     1307058994515\n",
       "changeset_harmful                                                           15\n",
       "feature_id                                                       9295031220250\n",
       "feature_type                 waywaywaywaywaywaywaywaywaywaywaywaywaywaywayw...\n",
       "action_create                                                             7330\n",
       "action_modify                                                            18817\n",
       "action_delete                                                              431\n",
       "feature_version                                                          96682\n",
       "highway_tag_created                                                       7553\n",
       "highway_tag_deleted                                                        458\n",
       "highway_value_difference                                                 11175\n",
       "primary_tags_difference                                                   7120\n",
       "area_of_feature_bbox                                                   6.7e+10\n",
       "length_of_longest_segment                                              4.3e+03\n",
       "dtype: object"
      ]
     },
     "execution_count": 32,
     "metadata": {},
     "output_type": "execute_result"
    }
   ],
   "source": [
    "testing.sum()"
   ]
  },
  {
   "cell_type": "code",
   "execution_count": 33,
   "metadata": {
    "collapsed": true
   },
   "outputs": [],
   "source": [
    "tX = testing.drop(non_training_attributes, axis=1)\n",
    "ty = testing['changeset_harmful']"
   ]
  },
  {
   "cell_type": "code",
   "execution_count": 34,
   "metadata": {
    "collapsed": true
   },
   "outputs": [],
   "source": [
    "testing['prediction'] = model.predict(tX)\n",
    "testing.to_csv(unlabelled_path + 'testing-review.csv', index=False)"
   ]
  },
  {
   "cell_type": "code",
   "execution_count": 35,
   "metadata": {},
   "outputs": [
    {
     "name": "stdout",
     "output_type": "stream",
     "text": [
      "Predicted good: 16375\n",
      "Predicted harmful: 10203\n",
      "Percentage harmful: 38.39%\n"
     ]
    }
   ],
   "source": [
    "tharmful_count = testing[testing['prediction'] == -1].shape[0]\n",
    "tnot_harmful_count = testing[testing['prediction'] == 1].shape[0]\n",
    "\n",
    "print('Predicted good: {}'.format(tnot_harmful_count))\n",
    "print('Predicted harmful: {}'.format(tharmful_count))\n",
    "\n",
    "print('Percentage harmful: {}%'.format(round(100.0 * tharmful_count / testing.shape[0], 2)))"
   ]
  }
 ],
 "metadata": {
  "anaconda-cloud": {},
  "kernelspec": {
   "display_name": "Python [conda root]",
   "language": "python",
   "name": "conda-root-py"
  },
  "language_info": {
   "codemirror_mode": {
    "name": "ipython",
    "version": 3
   },
   "file_extension": ".py",
   "mimetype": "text/x-python",
   "name": "python",
   "nbconvert_exporter": "python",
   "pygments_lexer": "ipython3",
   "version": "3.5.2"
  }
 },
 "nbformat": 4,
 "nbformat_minor": 2
}
