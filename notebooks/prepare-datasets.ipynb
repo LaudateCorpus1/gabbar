{
 "cells": [
  {
   "cell_type": "markdown",
   "metadata": {},
   "source": [
    "# Prepare Datasets\n",
    "\n",
    "#### Dataset 1: `s3://mapbox/gabbar/v1/reviewed-changesets.csv`\n",
    "- Changesets reviewed by users on [`osmcha.mapbox.com`](https://osmcha.mapbox.com/)\n",
    "- From 1st October, 2015 to 31st March, 2017.\n",
    "\n",
    "#### Dataset 2: `s3://mapbox/gabbar/v1/reviewed-real-changesets.json`\n",
    "- Real changesets version of changesets reviewed by users on [`osmcha.mapbox.com`](https://osmcha.mapbox.com/)\n",
    "\n",
    "#### Dataset 3: `s3://mapbox/gabbar/v1/march-2017-changesets.csv`\n",
    "- All changesets in the month of `March, 2017`.\n",
    "\n",
    "#### Dataset 4:  `s3://mapbox/gabbar/v1/march-2017-real-changesets.json`\n",
    "- Real changesets version of all changesets in the month of `March, 2017`.\n",
    "\n",
    "\n",
    "## Notes\n",
    "#### Why changesets only after `1st October, 2015`?\n",
    "- Users actively reviewed changesets on osmcha only after `October, 2017`."
   ]
  },
  {
   "cell_type": "code",
   "execution_count": 1,
   "metadata": {
    "collapsed": true
   },
   "outputs": [],
   "source": [
    "import os"
   ]
  },
  {
   "cell_type": "code",
   "execution_count": 2,
   "metadata": {
    "collapsed": true
   },
   "outputs": [],
   "source": [
    "import pandas as pd"
   ]
  },
  {
   "cell_type": "code",
   "execution_count": 3,
   "metadata": {
    "collapsed": true
   },
   "outputs": [],
   "source": [
    "# Directory to store downloaded data, create if it does not exist.\n",
    "downloads = '../downloads/v1/'\n",
    "!mkdir -p downloads"
   ]
  },
  {
   "cell_type": "markdown",
   "metadata": {},
   "source": [
    "## Dataset 1: `s3://mapbox/gabbar/v1/reviewed-changesets.csv`"
   ]
  },
  {
   "cell_type": "code",
   "execution_count": 4,
   "metadata": {
    "collapsed": true
   },
   "outputs": [],
   "source": [
    "# Download changests from osmcha.\n",
    "url = 'http://osmcha.mapbox.com/?is_suspect=False&is_whitelisted=All&harmful=None&checked=True&all_reason=True&sort=-date&render_csv=True'\n",
    "changesets = pd.read_csv(url)"
   ]
  },
  {
   "cell_type": "code",
   "execution_count": 5,
   "metadata": {},
   "outputs": [
    {
     "name": "stdout",
     "output_type": "stream",
     "text": [
      "Changesets shape: (66732, 19)\n"
     ]
    },
    {
     "data": {
      "text/html": [
       "<div>\n",
       "<table border=\"1\" class=\"dataframe\">\n",
       "  <thead>\n",
       "    <tr style=\"text-align: right;\">\n",
       "      <th></th>\n",
       "      <th>ID</th>\n",
       "      <th>user</th>\n",
       "      <th>editor</th>\n",
       "      <th>Powerfull Editor</th>\n",
       "      <th>comment</th>\n",
       "      <th>source</th>\n",
       "      <th>imagery used</th>\n",
       "      <th>date</th>\n",
       "      <th>reasons</th>\n",
       "      <th>reasons__name</th>\n",
       "      <th>create</th>\n",
       "      <th>modify</th>\n",
       "      <th>delete</th>\n",
       "      <th>bbox</th>\n",
       "      <th>is suspect</th>\n",
       "      <th>harmful</th>\n",
       "      <th>checked</th>\n",
       "      <th>check_user__username</th>\n",
       "      <th>check date</th>\n",
       "    </tr>\n",
       "  </thead>\n",
       "  <tbody>\n",
       "    <tr>\n",
       "      <th>0</th>\n",
       "      <td>47890325</td>\n",
       "      <td>fluffyfaery</td>\n",
       "      <td>iD 2.1.3</td>\n",
       "      <td>False</td>\n",
       "      <td>Added local landmarks to very rural neighborhood</td>\n",
       "      <td>Not reported</td>\n",
       "      <td>Bing aerial imagery</td>\n",
       "      <td>2017-04-18T03:04:58+00:00</td>\n",
       "      <td>NaN</td>\n",
       "      <td>NaN</td>\n",
       "      <td>79.0</td>\n",
       "      <td>6.0</td>\n",
       "      <td>1.0</td>\n",
       "      <td>SRID=4326;POLYGON ((-162.5994206 66.8915715, -...</td>\n",
       "      <td>False</td>\n",
       "      <td>True</td>\n",
       "      <td>True</td>\n",
       "      <td>nammala</td>\n",
       "      <td>2017-04-18T05:38:21.521362+00:00</td>\n",
       "    </tr>\n",
       "    <tr>\n",
       "      <th>1</th>\n",
       "      <td>47889416</td>\n",
       "      <td>Rita H</td>\n",
       "      <td>iD 2.1.3</td>\n",
       "      <td>False</td>\n",
       "      <td>My home town.</td>\n",
       "      <td>Not reported</td>\n",
       "      <td>Bing aerial imagery</td>\n",
       "      <td>2017-04-18T02:05:35+00:00</td>\n",
       "      <td>40.0</td>\n",
       "      <td>New mapper</td>\n",
       "      <td>25.0</td>\n",
       "      <td>3.0</td>\n",
       "      <td>0.0</td>\n",
       "      <td>SRID=4326;POLYGON ((123.4063077 41.821569, 123...</td>\n",
       "      <td>False</td>\n",
       "      <td>True</td>\n",
       "      <td>True</td>\n",
       "      <td>nammala</td>\n",
       "      <td>2017-04-18T05:34:46.991364+00:00</td>\n",
       "    </tr>\n",
       "    <tr>\n",
       "      <th>2</th>\n",
       "      <td>47888300</td>\n",
       "      <td>HipsterHamster</td>\n",
       "      <td>JOSM/1.5</td>\n",
       "      <td>True</td>\n",
       "      <td>tracing of rivers, buildings in North Korea</td>\n",
       "      <td>bing</td>\n",
       "      <td>Not reported</td>\n",
       "      <td>2017-04-18T00:37:43+00:00</td>\n",
       "      <td>2.0</td>\n",
       "      <td>possible import</td>\n",
       "      <td>1938.0</td>\n",
       "      <td>57.0</td>\n",
       "      <td>16.0</td>\n",
       "      <td>SRID=4326;POLYGON ((127.8150847 40.3179551, 12...</td>\n",
       "      <td>True</td>\n",
       "      <td>False</td>\n",
       "      <td>True</td>\n",
       "      <td>nammala</td>\n",
       "      <td>2017-04-18T05:32:40.405333+00:00</td>\n",
       "    </tr>\n",
       "  </tbody>\n",
       "</table>\n",
       "</div>"
      ],
      "text/plain": [
       "         ID            user    editor Powerfull Editor  \\\n",
       "0  47890325     fluffyfaery  iD 2.1.3            False   \n",
       "1  47889416          Rita H  iD 2.1.3            False   \n",
       "2  47888300  HipsterHamster  JOSM/1.5             True   \n",
       "\n",
       "                                            comment        source  \\\n",
       "0  Added local landmarks to very rural neighborhood  Not reported   \n",
       "1                                     My home town.  Not reported   \n",
       "2       tracing of rivers, buildings in North Korea          bing   \n",
       "\n",
       "          imagery used                       date  reasons    reasons__name  \\\n",
       "0  Bing aerial imagery  2017-04-18T03:04:58+00:00      NaN              NaN   \n",
       "1  Bing aerial imagery  2017-04-18T02:05:35+00:00     40.0       New mapper   \n",
       "2         Not reported  2017-04-18T00:37:43+00:00      2.0  possible import   \n",
       "\n",
       "   create  modify  delete                                               bbox  \\\n",
       "0    79.0     6.0     1.0  SRID=4326;POLYGON ((-162.5994206 66.8915715, -...   \n",
       "1    25.0     3.0     0.0  SRID=4326;POLYGON ((123.4063077 41.821569, 123...   \n",
       "2  1938.0    57.0    16.0  SRID=4326;POLYGON ((127.8150847 40.3179551, 12...   \n",
       "\n",
       "  is suspect harmful checked check_user__username  \\\n",
       "0      False    True    True              nammala   \n",
       "1      False    True    True              nammala   \n",
       "2       True   False    True              nammala   \n",
       "\n",
       "                         check date  \n",
       "0  2017-04-18T05:38:21.521362+00:00  \n",
       "1  2017-04-18T05:34:46.991364+00:00  \n",
       "2  2017-04-18T05:32:40.405333+00:00  "
      ]
     },
     "execution_count": 5,
     "metadata": {},
     "output_type": "execute_result"
    }
   ],
   "source": [
    "print('Changesets shape: {}'.format(changesets.drop_duplicates('ID').shape))\n",
    "changesets.head(3)"
   ]
  },
  {
   "cell_type": "code",
   "execution_count": 6,
   "metadata": {},
   "outputs": [],
   "source": [
    "filename = 'reviewed-changesets.csv'\n",
    "filepath = os.path.join(downloads, filename)\n",
    "changesets.to_csv(filename, index=False)"
   ]
  }
 ],
 "metadata": {
  "anaconda-cloud": {},
  "kernelspec": {
   "display_name": "Python [conda root]",
   "language": "python",
   "name": "conda-root-py"
  },
  "language_info": {
   "codemirror_mode": {
    "name": "ipython",
    "version": 3
   },
   "file_extension": ".py",
   "mimetype": "text/x-python",
   "name": "python",
   "nbconvert_exporter": "python",
   "pygments_lexer": "ipython3",
   "version": "3.5.2"
  }
 },
 "nbformat": 4,
 "nbformat_minor": 2
}
