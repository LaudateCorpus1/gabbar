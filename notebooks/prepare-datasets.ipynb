{
 "cells": [
  {
   "cell_type": "markdown",
   "metadata": {},
   "source": [
    "# Prepare Datasets\n",
    "\n",
    "#### Dataset 1: `s3://mapbox/gabbar/v1/reviewed-changesets.csv`\n",
    "- Changesets reviewed by users on [`osmcha.mapbox.com`](https://osmcha.mapbox.com/)\n",
    "- From 1st October, 2015 to 31st March, 2017.\n",
    "\n",
    "#### Dataset 2: `s3://mapbox/gabbar/v1/reviewed-real-changesets.json`\n",
    "- Real changesets version of changesets reviewed by users on [`osmcha.mapbox.com`](https://osmcha.mapbox.com/)\n",
    "\n",
    "#### Dataset 3: `s3://mapbox/gabbar/v1/march-2017-changesets.csv`\n",
    "- All changesets in the month of `March, 2017`.\n",
    "\n",
    "#### Dataset 4:  `s3://mapbox/gabbar/v1/march-2017-real-changesets.json`\n",
    "- Real changesets version of all changesets in the month of `March, 2017`.\n",
    "\n",
    "\n",
    "## Notes\n",
    "#### Why changesets only after `1st October, 2015`?\n",
    "- Users actively reviewed changesets on osmcha only after `October, 2017`."
   ]
  },
  {
   "cell_type": "code",
   "execution_count": 1,
   "metadata": {
    "collapsed": true
   },
   "outputs": [],
   "source": [
    "import os\n",
    "import datetime"
   ]
  },
  {
   "cell_type": "code",
   "execution_count": 2,
   "metadata": {
    "collapsed": true
   },
   "outputs": [],
   "source": [
    "import pandas as pd"
   ]
  },
  {
   "cell_type": "code",
   "execution_count": 3,
   "metadata": {
    "collapsed": true
   },
   "outputs": [],
   "source": [
    "# Directory to store downloaded data, create if it does not exist.\n",
    "downloads = '../downloads/v1/'\n",
    "!mkdir -p downloads"
   ]
  },
  {
   "cell_type": "markdown",
   "metadata": {},
   "source": [
    "## Dataset 1: `s3://mapbox/gabbar/v1/reviewed-changesets.csv`"
   ]
  },
  {
   "cell_type": "code",
   "execution_count": 4,
   "metadata": {
    "collapsed": true
   },
   "outputs": [],
   "source": [
    "# Download changests from osmcha.\n",
    "url = 'http://osmcha.mapbox.com/?is_suspect=False&is_whitelisted=All&harmful=None&checked=True&all_reason=True&sort=-date&render_csv=True'\n",
    "changesets = pd.read_csv(url)"
   ]
  },
  {
   "cell_type": "code",
   "execution_count": 5,
   "metadata": {},
   "outputs": [],
   "source": [
    "# Convert `date` from a string to a Python object.\n",
    "changesets['date'] = pd.to_datetime(changesets['date'])\n",
    "\n",
    "start_date = datetime.datetime(2015, 10, 1)\n",
    "end_date = datetime.datetime(2017, 3, 31)\n",
    "\n",
    "changesets = changesets[(changesets['date'] >= start_date) & (changesets['date'] <= end_date)]"
   ]
  },
  {
   "cell_type": "code",
   "execution_count": 6,
   "metadata": {},
   "outputs": [
    {
     "name": "stdout",
     "output_type": "stream",
     "text": [
      "Changesets shape: (55411, 19)\n"
     ]
    },
    {
     "data": {
      "text/html": [
       "<div>\n",
       "<table border=\"1\" class=\"dataframe\">\n",
       "  <thead>\n",
       "    <tr style=\"text-align: right;\">\n",
       "      <th></th>\n",
       "      <th>ID</th>\n",
       "      <th>user</th>\n",
       "      <th>editor</th>\n",
       "      <th>Powerfull Editor</th>\n",
       "      <th>comment</th>\n",
       "      <th>source</th>\n",
       "      <th>imagery used</th>\n",
       "      <th>date</th>\n",
       "      <th>reasons</th>\n",
       "      <th>reasons__name</th>\n",
       "      <th>create</th>\n",
       "      <th>modify</th>\n",
       "      <th>delete</th>\n",
       "      <th>bbox</th>\n",
       "      <th>is suspect</th>\n",
       "      <th>harmful</th>\n",
       "      <th>checked</th>\n",
       "      <th>check_user__username</th>\n",
       "      <th>check date</th>\n",
       "    </tr>\n",
       "  </thead>\n",
       "  <tbody>\n",
       "    <tr>\n",
       "      <th>12787</th>\n",
       "      <td>47309546</td>\n",
       "      <td>EdSS</td>\n",
       "      <td>iD 2.1.3</td>\n",
       "      <td>False</td>\n",
       "      <td>fix duplicate and close nodes</td>\n",
       "      <td>Not reported</td>\n",
       "      <td>Bing aerial imagery</td>\n",
       "      <td>2017-03-30 23:59:37</td>\n",
       "      <td>1.0</td>\n",
       "      <td>suspect_word</td>\n",
       "      <td>6.0</td>\n",
       "      <td>3.0</td>\n",
       "      <td>2.0</td>\n",
       "      <td>SRID=4326;POLYGON ((-73.8574144 40.8634715, -7...</td>\n",
       "      <td>True</td>\n",
       "      <td>False</td>\n",
       "      <td>True</td>\n",
       "      <td>manoharuss</td>\n",
       "      <td>2017-03-31T10:12:50.260699+00:00</td>\n",
       "    </tr>\n",
       "    <tr>\n",
       "      <th>12788</th>\n",
       "      <td>47309437</td>\n",
       "      <td>Lotsofdotsandlines</td>\n",
       "      <td>iD 2.1.3</td>\n",
       "      <td>False</td>\n",
       "      <td>#gwu #usaid</td>\n",
       "      <td>Not reported</td>\n",
       "      <td>Bing aerial imagery;Local GPX</td>\n",
       "      <td>2017-03-30 23:49:55</td>\n",
       "      <td>40.0</td>\n",
       "      <td>New mapper</td>\n",
       "      <td>150.0</td>\n",
       "      <td>0.0</td>\n",
       "      <td>24.0</td>\n",
       "      <td>SRID=4326;POLYGON ((33.4092155 -3.5244155, 33....</td>\n",
       "      <td>True</td>\n",
       "      <td>False</td>\n",
       "      <td>True</td>\n",
       "      <td>BharataHS</td>\n",
       "      <td>2017-03-31T05:13:18.188425+00:00</td>\n",
       "    </tr>\n",
       "    <tr>\n",
       "      <th>12789</th>\n",
       "      <td>47309432</td>\n",
       "      <td>Nea123</td>\n",
       "      <td>iD 2.1.3</td>\n",
       "      <td>False</td>\n",
       "      <td>#hotosm-project-2301 #PEPFAR #MapGive #YouthMa...</td>\n",
       "      <td>Not reported</td>\n",
       "      <td>Bing aerial imagery;Local GPX</td>\n",
       "      <td>2017-03-30 23:49:28</td>\n",
       "      <td>40.0</td>\n",
       "      <td>New mapper</td>\n",
       "      <td>16.0</td>\n",
       "      <td>14.0</td>\n",
       "      <td>5.0</td>\n",
       "      <td>SRID=4326;POLYGON ((33.4011782 -3.6697061, 33....</td>\n",
       "      <td>True</td>\n",
       "      <td>False</td>\n",
       "      <td>True</td>\n",
       "      <td>srividya_c</td>\n",
       "      <td>2017-03-31T05:17:00.684731+00:00</td>\n",
       "    </tr>\n",
       "  </tbody>\n",
       "</table>\n",
       "</div>"
      ],
      "text/plain": [
       "             ID                user    editor Powerfull Editor  \\\n",
       "12787  47309546                EdSS  iD 2.1.3            False   \n",
       "12788  47309437  Lotsofdotsandlines  iD 2.1.3            False   \n",
       "12789  47309432              Nea123  iD 2.1.3            False   \n",
       "\n",
       "                                                 comment        source  \\\n",
       "12787                      fix duplicate and close nodes  Not reported   \n",
       "12788                                        #gwu #usaid  Not reported   \n",
       "12789  #hotosm-project-2301 #PEPFAR #MapGive #YouthMa...  Not reported   \n",
       "\n",
       "                        imagery used                date  reasons  \\\n",
       "12787            Bing aerial imagery 2017-03-30 23:59:37      1.0   \n",
       "12788  Bing aerial imagery;Local GPX 2017-03-30 23:49:55     40.0   \n",
       "12789  Bing aerial imagery;Local GPX 2017-03-30 23:49:28     40.0   \n",
       "\n",
       "      reasons__name  create  modify  delete  \\\n",
       "12787  suspect_word     6.0     3.0     2.0   \n",
       "12788    New mapper   150.0     0.0    24.0   \n",
       "12789    New mapper    16.0    14.0     5.0   \n",
       "\n",
       "                                                    bbox is suspect harmful  \\\n",
       "12787  SRID=4326;POLYGON ((-73.8574144 40.8634715, -7...       True   False   \n",
       "12788  SRID=4326;POLYGON ((33.4092155 -3.5244155, 33....       True   False   \n",
       "12789  SRID=4326;POLYGON ((33.4011782 -3.6697061, 33....       True   False   \n",
       "\n",
       "      checked check_user__username                        check date  \n",
       "12787    True           manoharuss  2017-03-31T10:12:50.260699+00:00  \n",
       "12788    True            BharataHS  2017-03-31T05:13:18.188425+00:00  \n",
       "12789    True           srividya_c  2017-03-31T05:17:00.684731+00:00  "
      ]
     },
     "execution_count": 6,
     "metadata": {},
     "output_type": "execute_result"
    }
   ],
   "source": [
    "print('Changesets shape: {}'.format(changesets.drop_duplicates('ID').shape))\n",
    "changesets.head(3)"
   ]
  },
  {
   "cell_type": "code",
   "execution_count": 7,
   "metadata": {},
   "outputs": [],
   "source": [
    "filename = 'reviewed-changesets.csv'\n",
    "filepath = os.path.join(downloads, filename)\n",
    "changesets.to_csv(filename, index=False)"
   ]
  }
 ],
 "metadata": {
  "anaconda-cloud": {},
  "kernelspec": {
   "display_name": "Python [conda root]",
   "language": "python",
   "name": "conda-root-py"
  },
  "language_info": {
   "codemirror_mode": {
    "name": "ipython",
    "version": 3
   },
   "file_extension": ".py",
   "mimetype": "text/x-python",
   "name": "python",
   "nbconvert_exporter": "python",
   "pygments_lexer": "ipython3",
   "version": "3.5.2"
  }
 },
 "nbformat": 4,
 "nbformat_minor": 2
}
